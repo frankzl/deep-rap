{
 "cells": [
  {
   "cell_type": "markdown",
   "metadata": {},
   "source": [
    "# 07 - Building Embeddings\n",
    "\n",
    "So far, we always performed the embedding lookup on a variable that is trained as we go.\n",
    "\n",
    "This means that we are learning the embeddings every time we train.\n",
    "A better option would be to pretrain our embeddings on a larger dataset and use this pretrained embedding in our final model.\n",
    "\n",
    "We have two options:\n",
    "1. use pretrained embeddings like Glove\n",
    "2. train our own embeddings on our rap lyrics\n",
    "\n",
    "We will first try to train our own embeddings, as rap might be a very specific type of text and general embeddings might not be applicable."
   ]
  },
  {
   "cell_type": "code",
   "execution_count": 6,
   "metadata": {},
   "outputs": [
    {
     "name": "stdout",
     "output_type": "stream",
     "text": [
      "scantron ; aw ; surely ; shining ; something ; 88 ; trined ; right ; electric ; coasts ; coast ; togine ; marriage ; marriages ; 501 ; wizardry ; wizard ; wizard ; ay ; is ; ; ; yeah you know what this is nyc ; the triumphant return rakim allah ; rakim ; remember being introduced to rapping your fir\n",
      "Restoring an old model and training it further..\n"
     ]
    }
   ],
   "source": [
    "import os\n",
    "import math\n",
    "import glob\n",
    "import numpy as np\n",
    "import tensorflow as tf\n",
    "from tensorflow.contrib.tensorboard.plugins import projector\n",
    "\n",
    "import tools.processing as pre\n",
    "\n",
    "batch_size = 256\n",
    "# embedding_dimension = 128\n",
    "embedding_dimension = 10\n",
    "negative_samples = 32\n",
    "LOG_DIR = \"logs/word2vec_intro\"\n",
    "EPOCHS = 20 \n",
    "\n",
    "tf.reset_default_graph()\n",
    "\n",
    "text = pre.get_text(\"data/final_2_pac_rakim_kid_cudi.txt\")\n",
    "\n",
    "sentences = []\n",
    "sentences = [text.replace( \"\\n\", \";\" )]\n",
    "\n",
    "# Map words to indices\n",
    "word2index_map = {}\n",
    "index = 0\n",
    "\n",
    "print(sentences[0][:300])\n",
    "\n",
    "vocab = pre.Vocabulary(sentences[0])\n",
    "\n",
    "for sent in sentences:\n",
    "    for word in sent.lower().split():\n",
    "        if word not in word2index_map:\n",
    "            word2index_map[word] = index\n",
    "            index += 1\n",
    "# index2word_map = {index: word for word, index in word2index_map.items()}\n",
    "index2word_map = vocab.index2word\n",
    "word2index_map = vocab._dict\n",
    "\n",
    "vocabulary_size = len(index2word_map)\n",
    "\n",
    "# Generate skip-gram pairs\n",
    "skip_gram_pairs = []\n",
    "for sent in sentences:\n",
    "    tokenized_sent = sent.lower().split()\n",
    "    for i in range(1, len(tokenized_sent)-1):\n",
    "        word_context_pair = [[word2index_map[tokenized_sent[i-1]],\n",
    "                              word2index_map[tokenized_sent[i+1]]],\n",
    "                             word2index_map[tokenized_sent[i]]]\n",
    "        skip_gram_pairs.append([word_context_pair[1],\n",
    "                                word_context_pair[0][0]])\n",
    "        skip_gram_pairs.append([word_context_pair[1],\n",
    "                                word_context_pair[0][1]])\n",
    "\n",
    "def get_skipgram_batch(batch_size):\n",
    "    instance_indices = list(range(len(skip_gram_pairs)))\n",
    "    np.random.shuffle(instance_indices)\n",
    "    batch = instance_indices[:batch_size]\n",
    "    x = [skip_gram_pairs[i][0] for i in batch]\n",
    "    y = [[skip_gram_pairs[i][1]] for i in batch]\n",
    "    return x, y\n",
    "\n",
    "\n",
    "# batch example\n",
    "x_batch, y_batch = get_skipgram_batch(8)\n",
    "x_batch\n",
    "y_batch\n",
    "[index2word_map[word] for word in x_batch]\n",
    "[index2word_map[word[0]] for word in y_batch]\n",
    "\n",
    "# Input data, labels\n",
    "train_inputs = tf.placeholder(tf.int32, shape=[batch_size])\n",
    "train_labels = tf.placeholder(tf.int32, shape=[batch_size, 1])\n",
    "\n",
    "# Embedding lookup table currently only implemented in CPU\n",
    "with tf.name_scope(\"embeddings\"):\n",
    "    embeddings = tf.Variable(\n",
    "        tf.random_uniform([vocabulary_size, embedding_dimension],\n",
    "                          -1.0, 1.0), name='embedding')\n",
    "    # This is essentialy a lookup table\n",
    "    embed = tf.nn.embedding_lookup(embeddings, train_inputs)\n",
    "\n",
    "# Create variables for the NCE loss\n",
    "nce_weights = tf.Variable(\n",
    "        tf.truncated_normal([vocabulary_size, embedding_dimension],\n",
    "                            stddev=1.0 / math.sqrt(embedding_dimension)))\n",
    "nce_biases = tf.Variable(tf.zeros([vocabulary_size]))\n",
    "\n",
    "\n",
    "loss = tf.reduce_mean(\n",
    "  tf.nn.nce_loss(weights=nce_weights, biases=nce_biases, inputs=embed, labels=train_labels,\n",
    "                 num_sampled=negative_samples, num_classes=vocabulary_size))\n",
    "tf.summary.scalar(\"NCE_loss\", loss)\n",
    "\n",
    "# Learning rate decay\n",
    "global_step = tf.Variable(0, trainable=False)\n",
    "learningRate = tf.train.exponential_decay(learning_rate=0.1,\n",
    "                                          global_step=global_step,\n",
    "                                          decay_steps=1000,\n",
    "                                          decay_rate=0.95,\n",
    "                                          staircase=True)\n",
    "train_step = tf.train.GradientDescentOptimizer(learningRate).minimize(loss)\n",
    "merged = tf.summary.merge_all()\n",
    "\n",
    "TRAIN = True\n",
    "with tf.Session() as sess:\n",
    "    sess.run(tf.global_variables_initializer())\n",
    "\n",
    "    train_writer = tf.summary.FileWriter(LOG_DIR,\n",
    "                                         graph=tf.get_default_graph())\n",
    "\n",
    "    with open(os.path.join(LOG_DIR, 'metadata.tsv'), \"w\") as metadata:\n",
    "        metadata.write('Name\\tClass\\n')\n",
    "        for k, v in index2word_map.items():\n",
    "            metadata.write('%s\\t%d\\n' % (v, k))\n",
    "\n",
    "    if glob.glob(LOG_DIR + '/*.meta'):\n",
    "        TRAIN = False\n",
    "        # global_step = sess.run(global_step)\n",
    "        print(\"Restoring an old model and training it further..\")\n",
    "    else:\n",
    "        print(\"Building model from scratch!\")\n",
    "        # global_step = 0\n",
    "\n",
    "    config = projector.ProjectorConfig()\n",
    "    embedding = config.embeddings.add()\n",
    "    embedding.tensor_name = embeddings.name\n",
    "    # Link this tensor to its metadata file (e.g. labels).\n",
    "    embedding.metadata_path = 'metadata.tsv'\n",
    "    projector.visualize_embeddings(train_writer, config)\n",
    "\n",
    "    if TRAIN:\n",
    "        global_step = 0\n",
    "        for epoch in range(EPOCHS):\n",
    "\n",
    "            print(f\"\\n\\nepoch: {epoch}\\n\")\n",
    "            \n",
    "            # epoch_steps = (int(len(skip_gram_pairs)/batch_size))\n",
    "            epoch_steps = 1000\n",
    "            for step in range(epoch_steps):\n",
    "                x_batch, y_batch = get_skipgram_batch(batch_size)\n",
    "                summary, _ = sess.run([merged, train_step],\n",
    "                                    feed_dict={train_inputs: x_batch,\n",
    "                                                train_labels: y_batch})\n",
    "                train_writer.add_summary(summary, step + global_step)\n",
    "                \n",
    "                if step % 100 == 0:\n",
    "                    loss_value = sess.run(loss,\n",
    "                                            feed_dict={train_inputs: x_batch,\n",
    "                                                        train_labels: y_batch})\n",
    "                    print(\"Loss at %d/%d: %.5f\" % (step, epoch_steps, loss_value))\n",
    "            \n",
    "            global_step += epoch_steps\n",
    "                \n",
    "    # Normalize embeddings before using\n",
    "    norm = tf.sqrt(tf.reduce_sum(tf.square(embeddings), 1, keepdims=True))\n",
    "    normalized_embeddings = embeddings / norm\n",
    "    normalized_embeddings_matrix = sess.run(normalized_embeddings)\n",
    "\n",
    "ref_word = normalized_embeddings_matrix[word2index_map[\"hate\"]]"
   ]
  },
  {
   "cell_type": "markdown",
   "metadata": {},
   "source": [
    "### Now with our pretrained embeddings matrix, we can check how related the words are"
   ]
  },
  {
   "cell_type": "code",
   "execution_count": 9,
   "metadata": {},
   "outputs": [],
   "source": [
    "def get_closest(word):\n",
    "    ref_word = normalized_embeddings_matrix[word2index_map[word]]\n",
    "    \n",
    "    cosine_dists = np.dot(normalized_embeddings_matrix, ref_word)\n",
    "    ff = np.argsort(cosine_dists)[::-1][0:10]\n",
    "    for f in ff:\n",
    "        print(index2word_map[f])\n",
    "        print(cosine_dists[f])\n"
   ]
  },
  {
   "cell_type": "code",
   "execution_count": 10,
   "metadata": {},
   "outputs": [
    {
     "name": "stdout",
     "output_type": "stream",
     "text": [
      "call\n",
      "0.9999999\n",
      "harass\n",
      "0.9296983\n",
      "hard\n",
      "0.8695386\n",
      "sn\n",
      "0.8633158\n",
      "thrived\n",
      "0.85187936\n",
      "party\n",
      "0.8187023\n",
      "dillinger\n",
      "0.8145992\n",
      "torturing\n",
      "0.8134195\n",
      "isley\n",
      "0.8116869\n",
      "policemen\n",
      "0.80563986\n"
     ]
    }
   ],
   "source": [
    "get_closest(\"call\")"
   ]
  },
  {
   "cell_type": "code",
   "execution_count": 13,
   "metadata": {},
   "outputs": [
    {
     "name": "stdout",
     "output_type": "stream",
     "text": [
      "death\n",
      "1.0\n",
      "jet\n",
      "0.882991\n",
      "rings\n",
      "0.87963736\n",
      "slugger\n",
      "0.8550251\n",
      "handing\n",
      "0.8443397\n",
      "gain\n",
      "0.8263931\n",
      "office\n",
      "0.82023484\n",
      "especially\n",
      "0.81402797\n",
      "bunch\n",
      "0.8116361\n",
      "rode\n",
      "0.8100765\n"
     ]
    }
   ],
   "source": [
    "get_closest(\"death\")"
   ]
  },
  {
   "cell_type": "code",
   "execution_count": 15,
   "metadata": {},
   "outputs": [
    {
     "name": "stdout",
     "output_type": "stream",
     "text": [
      "gun\n",
      "1.0\n",
      "embraced\n",
      "0.93831253\n",
      "eighty\n",
      "0.928231\n",
      "sticky\n",
      "0.92747194\n",
      "necks\n",
      "0.9159136\n",
      "responding\n",
      "0.86556464\n",
      "pratt\n",
      "0.8601616\n",
      "simultaneously\n",
      "0.859185\n",
      "individuals\n",
      "0.8504395\n",
      "lovers\n",
      "0.85002613\n"
     ]
    }
   ],
   "source": [
    "get_closest(\"gun\")"
   ]
  },
  {
   "cell_type": "code",
   "execution_count": 16,
   "metadata": {},
   "outputs": [
    {
     "name": "stdout",
     "output_type": "stream",
     "text": [
      "pistol\n",
      "1.0000001\n",
      "experiment\n",
      "0.9432442\n",
      "hundred\n",
      "0.9354329\n",
      "rhymefumble\n",
      "0.9113585\n",
      "capacities\n",
      "0.8776408\n",
      "dominant\n",
      "0.86174405\n",
      "enter\n",
      "0.8565933\n",
      "conceited\n",
      "0.85169804\n",
      "gomars\n",
      "0.84910536\n",
      "quatro\n",
      "0.83368963\n"
     ]
    }
   ],
   "source": [
    "get_closest(\"pistol\")"
   ]
  },
  {
   "cell_type": "markdown",
   "metadata": {},
   "source": [
    "### Not too bad, but also not too good :/\n",
    "**gun** should be closer to **pistol** than the word experiment. This might be due too little data. Maybe some rapper prefer to use only the word **gun** while others only use **pistol**\n",
    "\n",
    "This does not tell us anything about how closely related two words are if they are not used often enough\n",
    "\n",
    "## Learnings\n",
    "Let's check out Glove Embeddings instead!"
   ]
  },
  {
   "cell_type": "code",
   "execution_count": null,
   "metadata": {},
   "outputs": [],
   "source": []
  }
 ],
 "metadata": {
  "kernelspec": {
   "display_name": "Python 3",
   "language": "python",
   "name": "python3"
  },
  "language_info": {
   "codemirror_mode": {
    "name": "ipython",
    "version": 3
   },
   "file_extension": ".py",
   "mimetype": "text/x-python",
   "name": "python",
   "nbconvert_exporter": "python",
   "pygments_lexer": "ipython3",
   "version": "3.6.7"
  }
 },
 "nbformat": 4,
 "nbformat_minor": 2
}
