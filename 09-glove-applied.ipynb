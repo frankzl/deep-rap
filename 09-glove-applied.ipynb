{
 "cells": [
  {
   "cell_type": "code",
   "execution_count": 1,
   "metadata": {},
   "outputs": [],
   "source": [
    "import os\n",
    "import zipfile\n",
    "import numpy as np\n",
    "import tensorflow as tf\n",
    "from tensorboard.plugins import projector"
   ]
  },
  {
   "cell_type": "code",
   "execution_count": 2,
   "metadata": {},
   "outputs": [],
   "source": [
    "import tools.processing as pre\n",
    "import tools.embedding as emb\n",
    "import tools.architectures as nn\n",
    "import tools.training as tr"
   ]
  },
  {
   "cell_type": "markdown",
   "metadata": {},
   "source": [
    "## Create embedding for words"
   ]
  },
  {
   "cell_type": "markdown",
   "metadata": {},
   "source": [
    "We are only using halve of the words \"250000\" because of memory issues"
   ]
  },
  {
   "cell_type": "code",
   "execution_count": 3,
   "metadata": {},
   "outputs": [
    {
     "name": "stdout",
     "output_type": "stream",
     "text": [
      "[[ 0.00153569  0.12661901  0.09518377 ...  0.01355811  0.01934354\n",
      "  -0.0286953 ]\n",
      " [ 0.03209195  0.06766261  0.04151145 ... -0.046448   -0.03842104\n",
      "  -0.04822   ]\n",
      " [-0.00257177  0.00306226 -0.00831606 ...  0.00347133  0.00291661\n",
      "  -0.00081346]\n",
      " ...\n",
      " [-0.02687368  0.09554347 -0.04599568 ... -0.04568946  0.02053585\n",
      "  -0.02226466]\n",
      " [-0.00257177  0.00306226 -0.00831606 ...  0.00347133  0.00291661\n",
      "  -0.00081346]\n",
      " [ 0.03778261 -0.01219655 -0.05140489 ...  0.00514077 -0.03030926\n",
      "  -0.04753494]]\n"
     ]
    }
   ],
   "source": [
    "text = pre.get_text(\"data/cleaned-rap-lyrics/final_2_pac_rakim_kid_cudi.txt\")[:250000]\n",
    "\n",
    "vocab = pre.Vocabulary(text)\n",
    "word2index = vocab.word2index\n",
    "index2word = vocab.index2word\n",
    "VOCAB_SIZE = len(index2word)\n",
    "\n",
    "# create embedding for words\n",
    "word_embedding_matrix = emb.get_embedding_matrix(word2index, VOCAB_SIZE)\n",
    "print(word_embedding_matrix)"
   ]
  },
  {
   "cell_type": "code",
   "execution_count": 4,
   "metadata": {},
   "outputs": [
    {
     "name": "stdout",
     "output_type": "stream",
     "text": [
      "4231\n"
     ]
    }
   ],
   "source": [
    "print(VOCAB_SIZE)"
   ]
  },
  {
   "cell_type": "markdown",
   "metadata": {},
   "source": [
    "## Data Preparation: Split sentences of text into data and label"
   ]
  },
  {
   "cell_type": "code",
   "execution_count": 7,
   "metadata": {},
   "outputs": [
    {
     "name": "stdout",
     "output_type": "stream",
     "text": [
      "[(['yeah', 'you', 'know', 'what', 'this', 'is', 'nyc', ';', 'the', 'triumphant', 'return', 'rakim', 'allah', ';', 'rakim', ';'], 'remember'), (['you', 'know', 'what', 'this', 'is', 'nyc', ';', 'the', 'triumphant', 'return', 'rakim', 'allah', ';', 'rakim', ';', 'remember'], 'being'), (['know', 'what', 'this', 'is', 'nyc', ';', 'the', 'triumphant', 'return', 'rakim', 'allah', ';', 'rakim', ';', 'remember', 'being'], 'introduced'), (['what', 'this', 'is', 'nyc', ';', 'the', 'triumphant', 'return', 'rakim', 'allah', ';', 'rakim', ';', 'remember', 'being', 'introduced'], 'to'), (['this', 'is', 'nyc', ';', 'the', 'triumphant', 'return', 'rakim', 'allah', ';', 'rakim', ';', 'remember', 'being', 'introduced', 'to'], 'rapping')]\n"
     ]
    }
   ],
   "source": [
    "word_tokens = text.split()\n",
    "\n",
    "TIMESTEPS = 16\n",
    "\n",
    "str_data, str_labels = pre.create_data_label_pairs(word_tokens, TIMESTEPS)\n",
    "\n",
    "print( list( zip(str_data, str_labels) )[:5] )"
   ]
  },
  {
   "cell_type": "code",
   "execution_count": 8,
   "metadata": {},
   "outputs": [],
   "source": [
    "encoder = tr.IndexWordEncoder(\"Index-Word-Encoding\", word2index)\n",
    "decoder = tr.OneHotWordDecoder(\"1-Hot-Word-Decoding\", index2word, temperature=0.8)\n",
    "\n",
    "data = encoder.encode(str_data)\n",
    "labels = encoder.encode_labels(str_labels)\n",
    "\n",
    "del str_labels\n",
    "del str_data\n",
    "del word_tokens"
   ]
  },
  {
   "cell_type": "code",
   "execution_count": 9,
   "metadata": {},
   "outputs": [
    {
     "name": "stdout",
     "output_type": "stream",
     "text": [
      "(54607, 16)\n",
      "(54607, 4231)\n"
     ]
    }
   ],
   "source": [
    "print(data.shape)\n",
    "print(labels.shape)"
   ]
  },
  {
   "cell_type": "markdown",
   "metadata": {},
   "source": [
    "## Tensorflow Model"
   ]
  },
  {
   "cell_type": "code",
   "execution_count": 21,
   "metadata": {},
   "outputs": [],
   "source": [
    "PRE_TRAINED = True\n",
    "EPOCHS = 20\n",
    "BATCH_SIZE = 128\n",
    "\n",
    "embedding_dimension = 64\n",
    "\n",
    "hidden_layer_size = 32\n",
    "\n",
    "num_LSTM_layers = 4"
   ]
  },
  {
   "cell_type": "markdown",
   "metadata": {},
   "source": [
    "## Create input placeholders"
   ]
  },
  {
   "cell_type": "markdown",
   "metadata": {},
   "source": [
    "All input placeholders are created within the class of architectures.MultiLayerRNN_v2"
   ]
  },
  {
   "cell_type": "markdown",
   "metadata": {},
   "source": [
    "### Create embedding"
   ]
  },
  {
   "cell_type": "markdown",
   "metadata": {},
   "source": [
    "The embedding for the words is also created within the class of architectures.MultiLayerRNN_v2"
   ]
  },
  {
   "cell_type": "markdown",
   "metadata": {},
   "source": [
    "## Build and train the model"
   ]
  },
  {
   "cell_type": "code",
   "execution_count": 22,
   "metadata": {},
   "outputs": [],
   "source": [
    "seed_text = \"yeah you know what this is nyc ; the triumphant return rakim allah ; rakim ; remember being introduced to rapping your first rhyme ;\"\n",
    "sampler = lambda trainable, _: tr.sample(seed_text, trainable, encoder, decoder, length=20)"
   ]
  },
  {
   "cell_type": "code",
   "execution_count": 23,
   "metadata": {},
   "outputs": [
    {
     "name": "stdout",
     "output_type": "stream",
     "text": [
      "INFO:tensorflow:Restoring parameters from logs/10-test-glove-3/model\n",
      "Restoring an old model from 'logs/10-test-glove-3'\n",
      "and training it further..\n",
      "\n",
      "\n",
      "Epoch 1/20\n",
      "Loss:    \t 5.153051376342773\n",
      "Accuracy:\t 16.671855926513672\n",
      "------Sampling----------\n",
      "seed: \n",
      "yeah you know what this is nyc ; the triumphant return rakim allah ; rakim ; remember being introduced to rapping your first rhyme ;\n",
      "-\n",
      "result: \n",
      "yeah you know what this is nyc ; the triumphant return rakim allah ; rakim ; remember being introduced to rapping your first rhyme ; i give and show the mind is i know and it the time ; the king because and i people\n",
      "\n",
      "\n",
      "Epoch 2/20\n",
      "Loss:    \t 5.090422630310059\n",
      "Accuracy:\t 17.567344665527344\n",
      "------Sampling----------\n",
      "seed: \n",
      "yeah you know what this is nyc ; the triumphant return rakim allah ; rakim ; remember being introduced to rapping your first rhyme ;\n",
      "-\n",
      "result: \n",
      "yeah you know what this is nyc ; the triumphant return rakim allah ; rakim ; remember being introduced to rapping your first rhyme ; the we was city is can unbreakable ; authors me help it get a play and i follow ; so\n",
      "\n",
      "\n",
      "Epoch 3/20\n",
      "Loss:    \t 5.0586371421813965\n",
      "Accuracy:\t 17.697364807128906\n",
      "------Sampling----------\n",
      "seed: \n",
      "yeah you know what this is nyc ; the triumphant return rakim allah ; rakim ; remember being introduced to rapping your first rhyme ;\n",
      "-\n",
      "result: \n",
      "yeah you know what this is nyc ; the triumphant return rakim allah ; rakim ; remember being introduced to rapping your first rhyme ; but i hand came to know in i much night and come ; the microphone is at uh ; it\n",
      "\n",
      "\n",
      "Epoch 4/20\n",
      "Loss:    \t 5.061607360839844\n",
      "Accuracy:\t 16.748767852783203\n",
      "------Sampling----------\n",
      "seed: \n",
      "yeah you know what this is nyc ; the triumphant return rakim allah ; rakim ; remember being introduced to rapping your first rhyme ;\n",
      "-\n",
      "result: \n",
      "yeah you know what this is nyc ; the triumphant return rakim allah ; rakim ; remember being introduced to rapping your first rhyme ; he name the darkness that out on a smoked time from the head ; the discussion ; a plug a\n",
      "\n",
      "\n",
      "Epoch 5/20\n",
      "Loss:    \t 4.944406032562256\n",
      "Accuracy:\t 18.501291275024414\n",
      "------Sampling----------\n",
      "seed: \n",
      "yeah you know what this is nyc ; the triumphant return rakim allah ; rakim ; remember being introduced to rapping your first rhyme ;\n",
      "-\n",
      "result: \n",
      "yeah you know what this is nyc ; the triumphant return rakim allah ; rakim ; remember being introduced to rapping your first rhyme ; your measurements murdererbefore ; is the eye or who a can pain the radius place ; think so a york\n",
      "\n",
      "\n",
      "Epoch 6/20\n",
      "Loss:    \t 4.890011787414551\n",
      "Accuracy:\t 19.13490867614746\n",
      "------Sampling----------\n",
      "seed: \n",
      "yeah you know what this is nyc ; the triumphant return rakim allah ; rakim ; remember being introduced to rapping your first rhyme ;\n",
      "-\n",
      "result: \n",
      "yeah you know what this is nyc ; the triumphant return rakim allah ; rakim ; remember being introduced to rapping your first rhyme ; you having wrong ; she pen for violin ; i get none to will running protect to crowd ; a\n",
      "\n",
      "\n",
      "Epoch 7/20\n",
      "Loss:    \t 4.8511834144592285\n",
      "Accuracy:\t 19.48468017578125\n",
      "------Sampling----------\n",
      "seed: \n",
      "yeah you know what this is nyc ; the triumphant return rakim allah ; rakim ; remember being introduced to rapping your first rhyme ;\n",
      "-\n",
      "result: \n",
      "yeah you know what this is nyc ; the triumphant return rakim allah ; rakim ; remember being introduced to rapping your first rhyme ; i swear and place to keys the mix ; ; is the big main day and are see to everything\n",
      "\n",
      "\n",
      "Epoch 8/20\n",
      "Loss:    \t 4.7843427658081055\n",
      "Accuracy:\t 20.081674575805664\n",
      "------Sampling----------\n",
      "seed: \n",
      "yeah you know what this is nyc ; the triumphant return rakim allah ; rakim ; remember being introduced to rapping your first rhyme ;\n",
      "-\n",
      "result: \n",
      "yeah you know what this is nyc ; the triumphant return rakim allah ; rakim ; remember being introduced to rapping your first rhyme ; i just dj you team jams as clip ; pen put i am rated to right lady it ; ready\n",
      "\n",
      "\n",
      "Epoch 9/20\n",
      "Loss:    \t 4.739626884460449\n",
      "Accuracy:\t 20.451589584350586\n",
      "------Sampling----------\n",
      "seed: \n",
      "yeah you know what this is nyc ; the triumphant return rakim allah ; rakim ; remember being introduced to rapping your first rhyme ;\n",
      "-\n",
      "result: \n",
      "yeah you know what this is nyc ; the triumphant return rakim allah ; rakim ; remember being introduced to rapping your first rhyme ; i allah back to fun to a mic and hoping is the whole storm and real sex ; remedy with\n",
      "\n",
      "\n",
      "Epoch 10/20\n",
      "Loss:    \t 4.699906826019287\n",
      "Accuracy:\t 20.86911964416504\n",
      "------Sampling----------\n",
      "seed: \n",
      "yeah you know what this is nyc ; the triumphant return rakim allah ; rakim ; remember being introduced to rapping your first rhyme ;\n",
      "-\n",
      "result: \n",
      "yeah you know what this is nyc ; the triumphant return rakim allah ; rakim ; remember being introduced to rapping your first rhyme ; and memorize time i his example to the eye is know to i am the mic ; there is the\n",
      "\n",
      "\n",
      "Epoch 11/20\n",
      "Loss:    \t 4.658260345458984\n",
      "Accuracy:\t 21.250022888183594\n",
      "------Sampling----------\n",
      "seed: \n",
      "yeah you know what this is nyc ; the triumphant return rakim allah ; rakim ; remember being introduced to rapping your first rhyme ;\n",
      "-\n",
      "result: \n",
      "yeah you know what this is nyc ; the triumphant return rakim allah ; rakim ; remember being introduced to rapping your first rhyme ; you am plan for own up i eric from being backfires ; keep again in i step and it i\n",
      "\n",
      "\n",
      "Epoch 12/20\n",
      "Loss:    \t 4.732767105102539\n",
      "Accuracy:\t 19.795997619628906\n",
      "------Sampling----------\n",
      "seed: \n",
      "yeah you know what this is nyc ; the triumphant return rakim allah ; rakim ; remember being introduced to rapping your first rhyme ;\n",
      "-\n",
      "result: \n",
      "yeah you know what this is nyc ; the triumphant return rakim allah ; rakim ; remember being introduced to rapping your first rhyme ; you keep me knowledge to going kind ; ; ; i am a mind on i eric not soul to\n",
      "\n",
      "\n",
      "Epoch 13/20\n",
      "Loss:    \t 4.6883158683776855\n",
      "Accuracy:\t 20.435110092163086\n",
      "------Sampling----------\n",
      "seed: \n",
      "yeah you know what this is nyc ; the triumphant return rakim allah ; rakim ; remember being introduced to rapping your first rhyme ;\n",
      "-\n",
      "result: \n",
      "yeah you know what this is nyc ; the triumphant return rakim allah ; rakim ; remember being introduced to rapping your first rhyme ; i get tugawar i am flowing for bass ; ; and come ; the mic is i am ya easy\n",
      "\n",
      "\n",
      "Epoch 14/20\n",
      "Loss:    \t 4.551998138427734\n",
      "Accuracy:\t 22.416540145874023\n",
      "------Sampling----------\n",
      "seed: \n",
      "yeah you know what this is nyc ; the triumphant return rakim allah ; rakim ; remember being introduced to rapping your first rhyme ;\n",
      "-\n",
      "result: \n",
      "yeah you know what this is nyc ; the triumphant return rakim allah ; rakim ; remember being introduced to rapping your first rhyme ; the smashing will have my gear ; you bust in long from so a train homie to steaming of ;\n",
      "\n",
      "\n",
      "Epoch 15/20\n",
      "Loss:    \t 4.575619220733643\n",
      "Accuracy:\t 21.006465911865234\n",
      "------Sampling----------\n",
      "seed: \n",
      "yeah you know what this is nyc ; the triumphant return rakim allah ; rakim ; remember being introduced to rapping your first rhyme ;\n",
      "-\n",
      "result: \n",
      "yeah you know what this is nyc ; the triumphant return rakim allah ; rakim ; remember being introduced to rapping your first rhyme ; ; the soothing more gold ones to find ; i am deep on the meters and great style back and\n",
      "\n",
      "\n",
      "Epoch 16/20\n",
      "Loss:    \t 4.476617813110352\n",
      "Accuracy:\t 22.134525299072266\n",
      "------Sampling----------\n",
      "seed: \n",
      "yeah you know what this is nyc ; the triumphant return rakim allah ; rakim ; remember being introduced to rapping your first rhyme ;\n",
      "-\n",
      "result: \n",
      "yeah you know what this is nyc ; the triumphant return rakim allah ; rakim ; remember being introduced to rapping your first rhyme ; my rhyme at not do play the special synthesized ; you am weak can holes your record around ; yo\n",
      "\n",
      "\n",
      "Epoch 17/20\n",
      "Loss:    \t 4.4255499839782715\n",
      "Accuracy:\t 22.989727020263672\n",
      "------Sampling----------\n",
      "seed: \n",
      "yeah you know what this is nyc ; the triumphant return rakim allah ; rakim ; remember being introduced to rapping your first rhyme ;\n",
      "-\n",
      "result: \n",
      "yeah you know what this is nyc ; the triumphant return rakim allah ; rakim ; remember being introduced to rapping your first rhyme ; i am get through no neck and a sound ; to a microphone plus the stereo come ; ; is\n",
      "\n",
      "\n",
      "Epoch 18/20\n",
      "Loss:    \t 4.464062690734863\n",
      "Accuracy:\t 22.350614547729492\n",
      "------Sampling----------\n",
      "seed: \n",
      "yeah you know what this is nyc ; the triumphant return rakim allah ; rakim ; remember being introduced to rapping your first rhyme ;\n",
      "-\n",
      "result: \n",
      "yeah you know what this is nyc ; the triumphant return rakim allah ; rakim ; remember being introduced to rapping your first rhyme ; i did not have you can say the ; fiend and the block and in playing wise to the rhymes\n",
      "\n",
      "\n",
      "Epoch 19/20\n",
      "Loss:    \t 4.461672306060791\n",
      "Accuracy:\t 21.967878341674805\n",
      "------Sampling----------\n",
      "seed: \n",
      "yeah you know what this is nyc ; the triumphant return rakim allah ; rakim ; remember being introduced to rapping your first rhyme ;\n",
      "-\n",
      "result: \n",
      "yeah you know what this is nyc ; the triumphant return rakim allah ; rakim ; remember being introduced to rapping your first rhyme ; i am jordan is peace ; ; the intellect shook came to back ; they walking like work ; up\n",
      "\n",
      "\n",
      "Epoch 20/20\n",
      "Loss:    \t 4.328982353210449\n",
      "Accuracy:\t 24.13060760498047\n",
      "------Sampling----------\n",
      "seed: \n",
      "yeah you know what this is nyc ; the triumphant return rakim allah ; rakim ; remember being introduced to rapping your first rhyme ;\n",
      "-\n",
      "result: \n",
      "yeah you know what this is nyc ; the triumphant return rakim allah ; rakim ; remember being introduced to rapping your first rhyme ; i am years to keep heater ways ; no microphone of colder ; in start through you want you will\n"
     ]
    }
   ],
   "source": [
    "rnn_words = nn.MultiLayerRNN_v2(name=\"lstm-words\")\n",
    "rnn_words.build(num_LSTM_layers, hidden_layer_size, VOCAB_SIZE, TIMESTEPS, l2_reg=0.0, embedding_dim=emb.GLOVE_SIZE)\n",
    "tr.train_model(rnn_words, data, labels, sampler, epochs=EPOCHS, batch_size=BATCH_SIZE,\n",
    "               embedding_matrix=word_embedding_matrix, log_dir=\"logs/10-test-glove-3\", retrain=True)"
   ]
  },
  {
   "cell_type": "markdown",
   "metadata": {},
   "source": [
    "## Now we are able to sample from any given seed into the next function and get new generated rap lyrics\n",
    "### (As long the words of the seed are known words)"
   ]
  },
  {
   "cell_type": "code",
   "execution_count": 24,
   "metadata": {},
   "outputs": [
    {
     "name": "stdout",
     "output_type": "stream",
     "text": [
      "------Sampling----------\n",
      "seed: \n",
      "killing people left and right \n",
      " use a gun cool homie \n",
      " that is right\n",
      "-\n",
      "result: \n",
      "killing people left and right \n",
      " use a gun cool homie \n",
      " that is right ; do your til yo a rhyme to can not be back ; from shooting the kids sex it time ; you was one them with the crowd to self and the whole oh way ; i am him you make it the trick ; and from give not the\n"
     ]
    }
   ],
   "source": [
    "decoder.temperature = 0.7\n",
    "\n",
    "sampler = lambda trainable, seed_text: tr.sample( seed_text, trainable, encoder, decoder, length=50)\n",
    "sampler(rnn_words, \"killing people left and right \\n use a gun cool homie \\n that is right\")"
   ]
  },
  {
   "cell_type": "code",
   "execution_count": null,
   "metadata": {},
   "outputs": [],
   "source": []
  }
 ],
 "metadata": {
  "kernelspec": {
   "display_name": "Python 3",
   "language": "python",
   "name": "python3"
  },
  "language_info": {
   "codemirror_mode": {
    "name": "ipython",
    "version": 3
   },
   "file_extension": ".py",
   "mimetype": "text/x-python",
   "name": "python",
   "nbconvert_exporter": "python",
   "pygments_lexer": "ipython3",
   "version": "3.7.2"
  }
 },
 "nbformat": 4,
 "nbformat_minor": 2
}
