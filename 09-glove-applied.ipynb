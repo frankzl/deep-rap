{
 "cells": [
  {
   "cell_type": "code",
   "execution_count": 1,
   "metadata": {},
   "outputs": [],
   "source": [
    "import os\n",
    "import zipfile\n",
    "import numpy as np\n",
    "import tensorflow as tf\n",
    "from tensorboard.plugins import projector"
   ]
  },
  {
   "cell_type": "code",
   "execution_count": 2,
   "metadata": {},
   "outputs": [],
   "source": [
    "import tools.processing as pre\n",
    "import tools.embedding as emb\n",
    "import tools.architectures as nn\n",
    "import tools.training as tr"
   ]
  },
  {
   "cell_type": "markdown",
   "metadata": {},
   "source": [
    "## Create embedding for words"
   ]
  },
  {
   "cell_type": "markdown",
   "metadata": {},
   "source": [
    "We are only using halve of the words \"250000\" because of memory issues"
   ]
  },
  {
   "cell_type": "code",
   "execution_count": 3,
   "metadata": {},
   "outputs": [
    {
     "name": "stdout",
     "output_type": "stream",
     "text": [
      "[[ 0.00153569  0.12661901  0.09518377 ...  0.01355811  0.01934354\n",
      "  -0.0286953 ]\n",
      " [ 0.03209195  0.06766261  0.04151145 ... -0.046448   -0.03842104\n",
      "  -0.04822   ]\n",
      " [-0.00257177  0.00306226 -0.00831606 ...  0.00347133  0.00291661\n",
      "  -0.00081346]\n",
      " ...\n",
      " [-0.02687368  0.09554347 -0.04599568 ... -0.04568946  0.02053585\n",
      "  -0.02226466]\n",
      " [-0.00257177  0.00306226 -0.00831606 ...  0.00347133  0.00291661\n",
      "  -0.00081346]\n",
      " [ 0.03778261 -0.01219655 -0.05140489 ...  0.00514077 -0.03030926\n",
      "  -0.04753494]]\n"
     ]
    }
   ],
   "source": [
    "text = pre.get_text(\"data/cleaned-rap-lyrics/final_2_pac_rakim_kid_cudi.txt\")[:250000]\n",
    "\n",
    "vocab = pre.Vocabulary(text)\n",
    "word2index = vocab.word2index\n",
    "index2word = vocab.index2word\n",
    "VOCAB_SIZE = len(index2word)\n",
    "\n",
    "# create embedding for words\n",
    "word_embedding_matrix = emb.get_embedding_matrix(word2index, VOCAB_SIZE)\n",
    "print(word_embedding_matrix)"
   ]
  },
  {
   "cell_type": "code",
   "execution_count": 4,
   "metadata": {},
   "outputs": [
    {
     "name": "stdout",
     "output_type": "stream",
     "text": [
      "4231\n"
     ]
    }
   ],
   "source": [
    "print(VOCAB_SIZE)"
   ]
  },
  {
   "cell_type": "markdown",
   "metadata": {},
   "source": [
    "## Data Preparation: Split sentences of text into data and label"
   ]
  },
  {
   "cell_type": "code",
   "execution_count": 7,
   "metadata": {},
   "outputs": [
    {
     "name": "stdout",
     "output_type": "stream",
     "text": [
      "[(['yeah', 'you', 'know', 'what', 'this', 'is', 'nyc', ';', 'the', 'triumphant', 'return', 'rakim', 'allah', ';', 'rakim', ';'], 'remember'), (['you', 'know', 'what', 'this', 'is', 'nyc', ';', 'the', 'triumphant', 'return', 'rakim', 'allah', ';', 'rakim', ';', 'remember'], 'being'), (['know', 'what', 'this', 'is', 'nyc', ';', 'the', 'triumphant', 'return', 'rakim', 'allah', ';', 'rakim', ';', 'remember', 'being'], 'introduced'), (['what', 'this', 'is', 'nyc', ';', 'the', 'triumphant', 'return', 'rakim', 'allah', ';', 'rakim', ';', 'remember', 'being', 'introduced'], 'to'), (['this', 'is', 'nyc', ';', 'the', 'triumphant', 'return', 'rakim', 'allah', ';', 'rakim', ';', 'remember', 'being', 'introduced', 'to'], 'rapping')]\n"
     ]
    }
   ],
   "source": [
    "word_tokens = text.split()\n",
    "\n",
    "TIMESTEPS = 16\n",
    "\n",
    "str_data, str_labels = pre.create_data_label_pairs(word_tokens, TIMESTEPS)\n",
    "\n",
    "print( list( zip(str_data, str_labels) )[:5] )"
   ]
  },
  {
   "cell_type": "code",
   "execution_count": 8,
   "metadata": {},
   "outputs": [],
   "source": [
    "encoder = tr.IndexWordEncoder(\"Index-Word-Encoding\", word2index)\n",
    "decoder = tr.OneHotWordDecoder(\"1-Hot-Word-Decoding\", index2word, temperature=0.8)\n",
    "\n",
    "data = encoder.encode(str_data)\n",
    "labels = encoder.encode_labels(str_labels)\n",
    "\n",
    "del str_labels\n",
    "del str_data\n",
    "del word_tokens"
   ]
  },
  {
   "cell_type": "code",
   "execution_count": 9,
   "metadata": {},
   "outputs": [
    {
     "name": "stdout",
     "output_type": "stream",
     "text": [
      "(54607, 16)\n",
      "(54607, 4231)\n"
     ]
    }
   ],
   "source": [
    "print(data.shape)\n",
    "print(labels.shape)"
   ]
  },
  {
   "cell_type": "markdown",
   "metadata": {},
   "source": [
    "## Tensorflow Model"
   ]
  },
  {
   "cell_type": "code",
   "execution_count": 10,
   "metadata": {},
   "outputs": [],
   "source": [
    "PRE_TRAINED = True\n",
    "EPOCHS = 10\n",
    "BATCH_SIZE = 128\n",
    "\n",
    "embedding_dimension = 64\n",
    "\n",
    "hidden_layer_size = 32\n",
    "\n",
    "num_LSTM_layers = 4\n",
    "\n",
    "#times_steps = 16        # TODO max seqlen of rap text sentence\n"
   ]
  },
  {
   "cell_type": "markdown",
   "metadata": {},
   "source": [
    "## Create input placeholders"
   ]
  },
  {
   "cell_type": "markdown",
   "metadata": {},
   "source": [
    "All input placeholders are created within the class of architectures.MultiLayerRNN_v2"
   ]
  },
  {
   "cell_type": "markdown",
   "metadata": {},
   "source": [
    "### Create embedding"
   ]
  },
  {
   "cell_type": "markdown",
   "metadata": {},
   "source": [
    "The embedding for the words is also created within the class of architectures.MultiLayerRNN_v2"
   ]
  },
  {
   "cell_type": "markdown",
   "metadata": {},
   "source": [
    "## Build and train the model"
   ]
  },
  {
   "cell_type": "code",
   "execution_count": 11,
   "metadata": {},
   "outputs": [],
   "source": [
    "seed_text = \"yeah you know what this is nyc ; the triumphant return rakim allah ; rakim ; remember being introduced to rapping your first rhyme ;\"\n",
    "sampler = lambda trainable, _: tr.sample(seed_text, trainable, encoder, decoder, length=20)"
   ]
  },
  {
   "cell_type": "code",
   "execution_count": 13,
   "metadata": {},
   "outputs": [
    {
     "name": "stdout",
     "output_type": "stream",
     "text": [
      "Building model from scratch! \n",
      " Saving into: 'logs/10-test-glove-3'\n",
      "\n",
      "\n",
      "Epoch 1/10\n",
      "Loss:    \t 5.898049354553223\n",
      "Accuracy:\t 10.864907264709473\n",
      "------Sampling----------\n",
      "seed: \n",
      "yeah you know what this is nyc ; the triumphant return rakim allah ; rakim ; remember being introduced to rapping your first rhyme ;\n",
      "-\n",
      "result: \n",
      "yeah you know what this is nyc ; the triumphant return rakim allah ; rakim ; remember being introduced to rapping your first rhyme ; his just watch come is i kids ; to take the you ; to can music and not have getting\n",
      "\n",
      "\n",
      "Epoch 2/10\n",
      "Loss:    \t 5.887299060821533\n",
      "Accuracy:\t 10.864907264709473\n",
      "------Sampling----------\n",
      "seed: \n",
      "yeah you know what this is nyc ; the triumphant return rakim allah ; rakim ; remember being introduced to rapping your first rhyme ;\n",
      "-\n",
      "result: \n",
      "yeah you know what this is nyc ; the triumphant return rakim allah ; rakim ; remember being introduced to rapping your first rhyme ; ; up anything rhythm is back is one you if till make and ; who you i the you but\n",
      "\n",
      "\n",
      "Epoch 3/10\n",
      "Loss:    \t 5.7902421951293945\n",
      "Accuracy:\t 10.855751037597656\n",
      "------Sampling----------\n",
      "seed: \n",
      "yeah you know what this is nyc ; the triumphant return rakim allah ; rakim ; remember being introduced to rapping your first rhyme ;\n",
      "-\n",
      "result: \n",
      "yeah you know what this is nyc ; the triumphant return rakim allah ; rakim ; remember being introduced to rapping your first rhyme ; me not idea now your close me turn ; we soon this holding twenty about ; the success a ;\n",
      "\n",
      "\n",
      "Epoch 4/10\n",
      "Loss:    \t 5.677760601043701\n",
      "Accuracy:\t 11.084659576416016\n",
      "------Sampling----------\n",
      "seed: \n",
      "yeah you know what this is nyc ; the triumphant return rakim allah ; rakim ; remember being introduced to rapping your first rhyme ;\n",
      "-\n",
      "result: \n",
      "yeah you know what this is nyc ; the triumphant return rakim allah ; rakim ; remember being introduced to rapping your first rhyme ; deejays lucious eyes ; in that ; is the place ; ; ; will yo ; my can cut ;\n",
      "\n",
      "\n",
      "Epoch 5/10\n",
      "Loss:    \t 5.595891952514648\n",
      "Accuracy:\t 11.710952758789062\n",
      "------Sampling----------\n",
      "seed: \n",
      "yeah you know what this is nyc ; the triumphant return rakim allah ; rakim ; remember being introduced to rapping your first rhyme ;\n",
      "-\n",
      "result: \n",
      "yeah you know what this is nyc ; the triumphant return rakim allah ; rakim ; remember being introduced to rapping your first rhyme ; a york eardrum diluted it playing through ; lurking b ; canibus to a scenes ; in by is bury\n",
      "\n",
      "\n",
      "Epoch 6/10\n",
      "Loss:    \t 5.50739049911499\n",
      "Accuracy:\t 12.687018394470215\n",
      "------Sampling----------\n",
      "seed: \n",
      "yeah you know what this is nyc ; the triumphant return rakim allah ; rakim ; remember being introduced to rapping your first rhyme ;\n",
      "-\n",
      "result: \n",
      "yeah you know what this is nyc ; the triumphant return rakim allah ; rakim ; remember being introduced to rapping your first rhyme ; a entered and in that and so and be them ; writing in here i a hamptons ; a island\n",
      "\n",
      "\n",
      "Epoch 7/10\n",
      "Loss:    \t 5.428030967712402\n",
      "Accuracy:\t 13.776622772216797\n",
      "------Sampling----------\n",
      "seed: \n",
      "yeah you know what this is nyc ; the triumphant return rakim allah ; rakim ; remember being introduced to rapping your first rhyme ;\n",
      "-\n",
      "result: \n",
      "yeah you know what this is nyc ; the triumphant return rakim allah ; rakim ; remember being introduced to rapping your first rhyme ; money and bond is strength ; up ; flourish it the mic and gimme a close yo it ; i\n",
      "\n",
      "\n",
      "Epoch 8/10\n",
      "Loss:    \t 5.378168106079102\n",
      "Accuracy:\t 14.591535568237305\n",
      "------Sampling----------\n",
      "seed: \n",
      "yeah you know what this is nyc ; the triumphant return rakim allah ; rakim ; remember being introduced to rapping your first rhyme ;\n",
      "-\n",
      "result: \n",
      "yeah you know what this is nyc ; the triumphant return rakim allah ; rakim ; remember being introduced to rapping your first rhyme ; do living to money on do and bobobee was either do and smooth to let is he keep the take\n",
      "\n",
      "\n",
      "Epoch 9/10\n",
      "Loss:    \t 5.307293891906738\n",
      "Accuracy:\t 15.124434471130371\n",
      "------Sampling----------\n",
      "seed: \n",
      "yeah you know what this is nyc ; the triumphant return rakim allah ; rakim ; remember being introduced to rapping your first rhyme ;\n",
      "-\n",
      "result: \n",
      "yeah you know what this is nyc ; the triumphant return rakim allah ; rakim ; remember being introduced to rapping your first rhyme ; ; all get right her jail is i to master ; give them it your suffocated is a advised ;\n",
      "\n",
      "\n",
      "Epoch 10/10\n",
      "Loss:    \t 5.207767486572266\n",
      "Accuracy:\t 16.093175888061523\n",
      "------Sampling----------\n",
      "seed: \n",
      "yeah you know what this is nyc ; the triumphant return rakim allah ; rakim ; remember being introduced to rapping your first rhyme ;\n",
      "-\n",
      "result: \n",
      "yeah you know what this is nyc ; the triumphant return rakim allah ; rakim ; remember being introduced to rapping your first rhyme ; ; dj and cerebellum for your await allah ; the lines ; could you get wherever my you is keep\n"
     ]
    }
   ],
   "source": [
    "rnn_words = nn.MultiLayerRNN_v2(name=\"lstm-words\")\n",
    "rnn_words.build(num_LSTM_layers, hidden_layer_size, VOCAB_SIZE, TIMESTEPS, l2_reg=0.0, embedding_dim=emb.GLOVE_SIZE)\n",
    "tr.train_model(rnn_words, data, labels, sampler, epochs=EPOCHS, batch_size=BATCH_SIZE,\n",
    "               embedding_matrix=word_embedding_matrix, log_dir=\"logs/10-test-glove-3\", retrain=True)"
   ]
  },
  {
   "cell_type": "markdown",
   "metadata": {},
   "source": [
    "## Now we are able to sample from any given seed into the next function and get new generated rap lyrics\n",
    "### (As long the words of the seed are known words)"
   ]
  },
  {
   "cell_type": "code",
   "execution_count": 19,
   "metadata": {},
   "outputs": [
    {
     "name": "stdout",
     "output_type": "stream",
     "text": [
      "------Sampling----------\n",
      "seed: \n",
      "killing people left and right \n",
      " use a gun cool homie \n",
      " that is right\n",
      "-\n",
      "result: \n",
      "killing people left and right \n",
      " use a gun cool homie \n",
      " that is right you nothing ; got a rhyme or vein in stand his this is not are figures ; so the born is do no shake ; in the welcome through ; back you keep when i come allah to got me ; this the crowd to get and the start is\n"
     ]
    }
   ],
   "source": [
    "decoder.temperature = 0.7\n",
    "\n",
    "sampler = lambda trainable, seed_text: tr.sample( seed_text, trainable, encoder, decoder, length=50)\n",
    "sampler(rnn_words, \"killing people left and right \\n use a gun cool homie \\n that is right\")"
   ]
  },
  {
   "cell_type": "code",
   "execution_count": null,
   "metadata": {},
   "outputs": [],
   "source": []
  }
 ],
 "metadata": {
  "kernelspec": {
   "display_name": "Python 3",
   "language": "python",
   "name": "python3"
  },
  "language_info": {
   "codemirror_mode": {
    "name": "ipython",
    "version": 3
   },
   "file_extension": ".py",
   "mimetype": "text/x-python",
   "name": "python",
   "nbconvert_exporter": "python",
   "pygments_lexer": "ipython3",
   "version": "3.7.2"
  }
 },
 "nbformat": 4,
 "nbformat_minor": 2
}
