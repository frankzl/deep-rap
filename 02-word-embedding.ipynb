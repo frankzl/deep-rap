{
 "cells": [
  {
   "cell_type": "code",
   "execution_count": 1,
   "metadata": {},
   "outputs": [],
   "source": [
    "import nltk\n",
    "# default word tokenizer\n",
    "default_wt = nltk.word_tokenize\n",
    "words = default_wt(\"Why is this happening to me?\\nWhats up man\")"
   ]
  },
  {
   "cell_type": "code",
   "execution_count": 2,
   "metadata": {},
   "outputs": [
    {
     "data": {
      "text/plain": [
       "['Why', 'is', 'this', 'happening', 'to', 'me', '?', 'Whats', 'up', 'man']"
      ]
     },
     "execution_count": 2,
     "metadata": {},
     "output_type": "execute_result"
    }
   ],
   "source": [
    "words"
   ]
  },
  {
   "cell_type": "code",
   "execution_count": 3,
   "metadata": {},
   "outputs": [],
   "source": [
    "s = \"Why is this happening to me?\\nWhats up man\""
   ]
  },
  {
   "cell_type": "code",
   "execution_count": 4,
   "metadata": {},
   "outputs": [
    {
     "data": {
      "text/plain": [
       "['Why', 'is', 'this', 'happening', 'to', 'me?', '\\n', 'Whats', 'up', 'man']"
      ]
     },
     "execution_count": 4,
     "metadata": {},
     "output_type": "execute_result"
    }
   ],
   "source": [
    "s.replace(\"\\n\", \" \\n \").split(\" \")"
   ]
  },
  {
   "cell_type": "code",
   "execution_count": 5,
   "metadata": {},
   "outputs": [],
   "source": [
    "import tools.processing as pre\n",
    "\n",
    "text = pre.get_text(\"data/cleaned-rap-lyrics/clean2_pac_.txt\")\n",
    "\n",
    "vocab = pre.Vocabulary(text)"
   ]
  },
  {
   "cell_type": "code",
   "execution_count": 6,
   "metadata": {},
   "outputs": [
    {
     "name": "stdout",
     "output_type": "stream",
     "text": [
      "Counter({'\\n': 1000, 'the': 340, 'i': 281, 'a': 220, 'to': 202, 'and': 175, 'you': 169, 'me': 153, 'my': 148, \"i'm\": 116, '': 107, 'it': 95, 'of': 85, 'they': 81, 'that': 81, 'in': 80, 'but': 77, 'was': 69, 'with': 64, 'get': 63, 'is': 63, 'be': 61, 'on': 60, 'for': 59, 'cause': 55, 'so': 54, 'like': 54, 'got': 53, 'up': 52, 'now': 50, 'ya': 50, 'this': 45, 'never': 38, 'all': 38, 'when': 38, 'he': 36, 'know': 35, 'your': 33, 'as': 32, 'we': 32, 'what': 31, 'at': 29, 'can': 29, 'see': 28, 'just': 27, 'beat': 27, 'do': 26, '2pac': 26, 'come': 25, 'out': 24, \"i'll\": 24, 'if': 24, \"it's\": 24, 'her': 24, \"don't\": 23, 'let': 22, 'how': 21, 'go': 21, 'nigga': 21, 'back': 20, 'she': 20, 'not': 20, 'no': 19, 'had': 19, 'girl': 19, 'trapped': 19, 'are': 18, 'or': 18, 'then': 18, 'drop': 18, 'wanted': 17, 'dope': 17, 'could': 17, \"you're\": 17, \"ain't\": 16, 'have': 16, 'rock': 16, 'day': 16, 'time': 15, 'heart': 15, 'niggaz': 15, 'shot': 14, 'gave': 14, 'did': 14, 'down': 14, 'think': 14, 'stop': 14, 'some': 14, 'its': 14, 'yo': 14, 'only': 14, 'one': 14, 'minnie': 14, 'static': 14, 'shit': 14, 'soulja': 14, 'knowledge': 13, \"can't\": 13, \"couldn't\": 13, 'dizzy': 13, \"that's\": 13, 'black': 13, 'life': 13, 'us': 12, 'thing': 12, 'hear': 12, 'an': 12, 'tried': 12, 'way': 12, 'mic': 12, \"'em\": 12, 'started': 12, 'why': 12, 'wanna': 12, 'about': 11, 'try': 11, \"he's\": 11, 'brother': 11, 'still': 11, 'fuck': 11, 'while': 11, 'hot': 11, 'man': 10, 'keep': 10, 'more': 10, 'than': 10, 'through': 10, \"you'll\": 10, 'said': 10, 'microphone': 10, 'because': 10, 'from': 10, 'suckers': 10, 'dropped': 10, 'his': 10, 'by': 10, 'make': 10, 'these': 10, 'real': 9, 'another': 9, 'kept': 9, 'people': 9, 'other': 9, 'put': 9, 'cops': 9, 'want': 9, 'over': 9, 'house': 9, 'bust': 9, 'must': 9, 'who': 9, 'many': 9, 'gonna': 9, 'better': 9, 'into': 9, 'young': 9, 'kick': 9, 'love': 9, 'need': 9, 'last': 9, \"cha'\": 9, 'our': 8, \"wasn't\": 8, 'power': 8, 'take': 8, 'there': 8, 'gone': 8, 'bad': 8, 'might': 8, 'too': 8, 'fast': 8, 'ray': 8, 'tyson': 8, 'posse': 8, 'american': 7, 'dream': 7, 'history': 7, 'strong': 7, 'told': 7, 'panther': 7, 'blacks': 7, 'hold': 7, 'first': 7, 'before': 7, 'every': 7, 'hit': 7, 'give': 7, 'streets': 7, 'strictly': 7, 'sucker': 7, 'friend': 7, 'feel': 7, 'punk': 7, 'things': 7, 'lot': 7, 'best': 7, 'burnin': 7, 'baby': 7, 'look': 6, 'mad': 6, 'around': 6, 'case': 6, 'finally': 6, 'whats': 6, 'long': 6, 'without': 6, 'sure': 6, 'ready': 6, 'hell': 6, 'defeat': 6, 'head': 6, 'night': 6, 'die': 6, 'gets': 6, 'god': 6, 'run': 6, 'well': 6, 'huh': 6, 'step': 6, 'funky': 6, 'leave': 6, 'hate': 6, 'kiss': 6, \"i'd\": 6, 'much': 6, 'niggas': 6, 'spot': 6, 'male': 6, 'locked': 5, 'chains': 5, 'meant': 5, 'freedom': 5, 'made': 5, 'full': 5, 'facts': 5, 'win': 5, 'forget': 5, 'wrong': 5, 'damn': 5, 'find': 5, 'phone': 5, 'mics': 5, 'busy': 5, 'crew': 5, 'word': 5, 'mouth': 5, 'comes': 5, 'rhymes': 5, 'use': 5, 'walked': 5, 'rhyme': 5, 'play': 5, 'stay': 5, 'caught': 5, 'girls': 5, 'kind': 5, 'good': 5, 'will': 5, \"wouldn't\": 5, 'game': 5, 'him': 5, 'off': 5, 'enough': 5, \"didn't\": 5, 'right': 5, 'each': 5, 'feelin': 5, 'tell': 5, 'took': 5, 'block': 5, 'gun': 5, 'bought': 5, 'cuz': 5, \"smokin'\": 5, 'gat': 5, 'yes': 5, 'cop': 5, 'nothing': 4, 'equality': 4, 'slavery': 4, 'refuse': 4, 'fight': 4, 'were': 4, 'dead': 4, 'free': 4, 'them': 4, 'hard': 4, 'eyes': 4, 'stole': 4, 'name': 4, 'send': 4, 'grip': 4, 'tired': 4, 'sick': 4, 'sleepin': 4, 'health': 4, 'picked': 4, 'battle': 4, 'onetwo': 4, 'loose': 4, \"it'd\": 4, 'confident': 4, 'stage': 4, 'wit': 4, 'hand': 4, 'where': 4, 'came': 4, 'brothers': 4, 'end': 4, 'move': 4, 'mind': 4, 'flavor': 4, 'always': 4, 'minute': 4, 'any': 4, 'knew': 4, 'light': 4, 'slow': 4, 'weapon': 4, 'together': 4, 'ass': 4, \"gettin'\": 4, 'here': 4, 'bat': 4, 'shoot': 4, 'heard': 4, 'check': 4, 'rolled': 4, 'boys': 4, 'car': 4, 'say': 4, 'live': 4, 'vacation': 4, 'lay': 4, \"thinkin'\": 4, 'alone': 4, 'little': 4, 'ahead': 4, \"tryin'\": 4, 'sweat': 4, 'new': 4, 'clothes': 4, 'whole': 4, 'call': 4, \"rockin'\": 4, 'thoughts': 4, 'met': 4, 'would': 4, 'own': 4, 'moocher': 4, \"em'\": 4, 'jock': 4, \"takin'\": 4, 'rather': 4, 'slave': 4, 'bigger': 4, 'done': 4, 'chorus': 4, 'throw': 4, 'makin': 4, 'seems': 3, 'schemes': 3, 'deny': 3, 'liberty': 3, 'calling': 3, 'lies': 3, 'answer': 3, 'lie': 3, 'government': 3, 'straight': 3, 'sell': 3, 'mother': 3, 'true': 3, 'attack': 3, 'community': 3, 'boy': 3, 'death': 3, 'breath': 3, 'living': 3, 'laugh': 3, \"feelin'\": 3, 'clue': 3, 'trace': 3, 'myself': 3, 'street': 3, \"'til\": 3, 'strength': 3, 'lost': 3, 'grabbed': 3, \"won't\": 3, 'fell': 3, \"'cause\": 3, 'top': 3, 'thinking': 3, 'gold': 3, 'reach': 3, 'ay': 3, 'am': 3, 'hype': 3, 'close': 3, 'beats': 3, \"there's\": 3, 'chance': 3, 'security': 3, 'stricly': 3, 'tumble': 3, 'since': 3, 'place': 3, 'competition': 3, 'swear': 3, 'fool': 3, 'yourself': 3, \"steppin'\": 3, 'mine': 3, 'trap': 3, 'others': 3, \"sweatin'\": 3, \"we're\": 3, 'motherfucker': 3, 'pull': 3, \"makin'\": 3, 'quick': 3, 'bullets': 3, \"let's\": 3, 'stand': 3, 'big': 3, \"talkin'\": 3, 'handle': 3, 'understand': 3, 'crazy': 3, 'bit': 3, 'start': 3, \"livin'\": 3, 'tip': 3, 'two': 3, 'crowd': 3, 'dance': 3, 'keeps': 3, \"lookin'\": 3, 'sit': 3, 'pass': 3, 'style': 3, 'stare': 3, 'drink': 3, 'touch': 3, 'words': 3, 'guilty': 3, 'offer': 3, 'passion': 3, 'thinkin': 3, 'eye': 3, 'contact': 3, 'sayin': 3, 'smart': 3, 'gettin': 3, 'suffer': 3, 'sweet': 3, 't': 3, 'walkin': 3, 'times': 3, 'even': 3, 'hurt': 3, 'work': 3, 'diamond': 3, 'crack': 3, 'king': 3, 'walk': 3, 'indo': 3, \"breakin'\": 3, 'windows': 3, 'until': 3, 'whiff': 3, 'ever': 3, 'notion': 3, 'motts': 3, 'trying': 3, 'swing': 3, 'rocks': 3, 'gift': 3, 'grave': 3, 'slaves': 3, 'dealers': 3, 'addicts': 3, 'jack': 3, 'goin': 3, 'flow': 3, 'fuckin': 3, 'respect': 3, 'pack': 3, 'momma': 3, 'bullet': 3, 'city': 3, \"'g'\": 3, 'coppers': 3, 'bang': 3, 'away': 3, 'killin': 3, \"gon'\": 3, \"who's\": 3, 'glock': 3, 'buck': 3, 'calculated': 2, 'future': 2, 'rob': 2, 'names': 2, 'mystery': 2, 'lady': 2, 'hypocrite': 2, 'lied': 2, 'promised': 2, 'education': 2, 'dangerous': 2, 'bold': 2, 'dump': 2, 'promise': 2, 'emancipation': 2, 'indispute': 2, 'nation': 2, 'patience': 2, 'fathers': 2, 'country': 2, 'cared': 2, 'shackled': 2, 'uncle': 2, 'sam': 2, 'dam': 2, 'except': 2, 'sitting': 2, 'unemployed': 2, \"government's\": 2, 'glad': 2, 'enjoyed': 2, 'screw': 2, 'change': 2, 'within': 2, 'toe': 2, 'fame': 2, 'less': 2, 'nightmare': 2, 'set': 2, 'being': 2, 'drugs': 2, 'unity': 2, 'claim': 2, 'running': 2, 'oh': 2, 'fighting': 2, 'dying': 2, 'remember': 2, 'asking': 2, 'open': 2, 'been': 2, 'seem': 2, 'yet': 2, 'corrections': 2, 'typist': 2, 'dj': 2, 'bizzy': 2, 'wasnt': 2, 'woke': 2, 'happened': 2, 'brotha': 2, 'paniced': 2, 'stumped': 2, 'smoking': 2, 'cigarettes': 2, 'called': 2, 'wurd': 2, 'lets': 2, 'tms': 2, 'damnnn': 2, '6': 2, 'guaranteed': 2, 'whipped': 2, 'unbelievable': 2, 'rockin': 2, 'im': 2, 'musical': 2, 'nimth': 2, 'prove': 2, 'boss': 2, 'leather': 2, 'jacket': 2, 'hopin': 2, 'payin': 2, 'begin': 2, 'hyped': 2, 'hop': 2, 'sucka': 2, 'shivered': 2, 'tasted': 2, 'signaled': 2, 'perpetrator': 2, 'ha': 2, 'happy': 2, 'lucky': 2, 'pocket': 2, 'should': 2, \"we'll\": 2, 'sold': 2, 'cell': 2, 'sweated': 2, 'wink': 2, 'mission': 2, 'dropping': 2, 'bomb': 2, 'scared': 2, 'nervous': 2, 'mountain': 2, 'aiyyo': 2, 'write': 2, 'dose': 2, 'toast': 2, 'conceited': 2, 'defeated': 2, 'lonely': 2, 'means': 2, 'hands': 2, 'makes': 2, 'leader': 2, 'pay': 2, 'bass': 2, 'jump': 2, 'born': 2, 'care': 2, 'anywhere': 2, \"kiddin'\": 2, \"battlin'\": 2, \"mic's\": 2, 'capable': 2, \"playin'\": 2, \"braggin'\": 2, \"it'll\": 2, \"risin'\": 2, 'stopped': 2, 'deadly': 2, 'lock': 2, \"holdin'\": 2, 'wrath': 2, 'forever': 2, 'rope': 2, 'fall': 2, 'vicious': 2, 'veteran': 2, \"goin'\": 2, \"sittin'\": 2, 'diss': 2, 'tracks': 2, 'tons': 2, 'jams': 2, \"chillin'\": 2, 'taste': 2, 'uzi': 2, 'lyrics': 2, 'homeboy': 2, 'played': 2, 'toy': 2, 'face': 2, \"motherfuckin'\": 2, 'charge': 2, 'hiphop': 2, 'voice': 2, 'stuck': 2, 'after': 2, 'stretch': 2, 'roc': 2, \"bringin'\": 2, 'stepped': 2, 'old': 2, 'e': 2, 'winners': 2, 'wonder': 2, 'choose': 2, 'school': 2, \"nothin'\": 2, 'shower': 2, 'three': 2, 'late': 2, \"rappin'\": 2, 'wait': 2, 'limo': 2, 'turn': 2, 'barely': 2, 'really': 2, \"they'll\": 2, 'tear': 2, 'moved': 2, 'pen': 2, \"signin'\": 2, 'autographs': 2, 'seventeen': 2, 'neighborhood': 2, 'cisco': 2, 'floor': 2, 'silence': 2, 'violence': 2, 'door': 2, 'room': 2, 'avoid': 2, 'rap': 2, 'recreation': 2, 'awake': 2, 'tonight': 2, 'beside': 2, 'playfully': 2, 'stronger': 2, 'closer': 2, 'longer': 2, 'second': 2, 'muttered': 2, 'stutter': 2, 'situation': 2, 'nowin': 2, 'fallin': 2, 'girlfriend': 2, 'filled': 2, 'purity': 2, 'offers': 2, 'sinkin': 2, 'wake': 2, 'sweaty': 2, 'shake': 2, 'gotten': 2, 'posessed': 2, 'undressin': 2, 'kinda': 2, 'obvious': 2, 'blind': 2, 'men': 2, \"doesn't\": 2, 'trustin': 2, 'leaves': 2, 'temptation': 2, 'confused': 2, 'casanova': 2, 'callin': 2, 'rougher': 2, 'anything': 2, 'fire': 2, 'caress': 2, 'pretend': 2, 'world': 2, 'watchin': 2, 'help': 2, 'problems': 2, 'though': 2, 'chest': 2, 'somebody': 2, 'cried': 2, 'become': 2, 'wild': 2, 'legend': 2, 'boyfriend': 2, 'peace': 2, 'ghetto': 2, 'smokey': 2, 'dreams': 2, 'bank': 2, 'yeah': 2, 'verse': 2, 'em': 2, 'truth': 2, 'amount': 2, \"swearin'\": 2, 'pure': 2, 'guys': 2, \"they're\": 2, 'follow': 2, 'hoes': 2, 'shows': 2, 'dough': 2, 'watch': 2, 'cuss': 2, 'sales': 2, 'smell': 2, 'skunk': 2, 'prison': 2, 'nine': 2, 'worse': 2, 'went': 2, 'cuffed': 2, 'catch': 2, 'wall': 2, 'gotta': 2, 'hunted': 2, 'blow': 2, 'homie': 2, 'tryin': 2, 'getaway': 2, 'again': 2, 'souljas': 2, 'bail': 2, \"'task'\": 2, 'weed': 2, 'calls': 2, \"y'all\": 2, 'bring': 2, 'motherfuckin': 2, 'gang': 2, 'coming': 1, 'resides': 1, 'suffered': 1, 'bats': 1, 'suppressed': 1, 'rest': 1, 'rich': 1, 'richer': 1, 'poor': 1, 'fair': 1, 'klu': 1, 'klux': 1, 'klan': 1, 'besides': 1, 'drew': 1, 'allowed': 1, 'intimidation': 1, 'segregation': 1, 'impatient': 1, 'skin': 1, 'outs': 1, 'yell': 1, 'hoping': 1, 'settle': 1, 'statistic': 1, 'survive': 1, 'capitalistic': 1, 'using': 1, 'ignorant': 1, 'sneak': 1, 'charged': 1, 'immunity': 1, 'strike': 1, 'america': 1, 'disease': 1, 'arteries': 1, 'clawed': 1, 'realize': 1, 'civilized': 1, 'has': 1, 'passed': 1, 'panter': 1, 'forced': 1, 'dumb': 1, 'going': 1, 'rocking': 1, 'cream': 1, 'crop': 1, 'past': 1, 'cry': 1, 'tricks': 1, 'fake': 1, 'backstab': 1, 'grab': 1, 'hole': 1, 'trick': 1, 'soul': 1, 'reason': 1, 'excel': 1, 'build': 1, 'communities': 1, 'lives': 1, 'pin': 1, 'opposition': 1, 'preach': 1, 'teach': 1, 'listen': 1, 'folks': 1, 'ballers': 1, 'stopping': 1, 'dilly': 1, 'napalm': 1, 'calm': 1, 'simple': 1, 'fact': 1, 'educated': 1, 'proud': 1, 'hated': 1, 'loving': 1, 'buying': 1, 'suffocate': 1, 'constantly': 1, 'bite': 1, 'thought': 1, 'sweating': 1, 'wondering': 1, 'tossed': 1, 'building': 1, 'boom': 1, 'force': 1, 'hearing': 1, 'checking': 1, 'source': 1, 'tupac': 1, 'putting': 1, 'amateurs': 1, 'damaged': 1, 'jealous': 1, 'breathe': 1, \"what's\": 1, 'base': 1, 'neccessary': 1, 'scary': 1, 'adversaries': 1, 'larger': 1, 'guerilla': 1, 'control': 1, 'waiting': 1, 'present': 1, 'goal': 1, 'busting': 1, 'titan': 1, 'truck': 1, 'vote': 1, 'mediocrity': 1, 'deal': 1, 'appealed': 1, \"back's\": 1, 'mutha': 1, 'steal': 1, 'pumps': 1, 'speakers': 1, 'pop': 1, 'drops': 1, 'intro': 1, 'fumble': 1, 'boldy': 1, 'beast': 1, 'predator': 1, 'competitor': 1, 'yeast': 1, 'musician': 1, 'musically': 1, 'most': 1, 'rumble': 1, 'burnt': 1, 'piece': 1, 'proceed': 1, 'caution': 1, 'cannot': 1, 'inside': 1, 'sentry': 1, 'holds': 1, 'barred': 1, 'scarred': 1, 'anybody': 1, 'toss': 1, 'salad': 1, 'eat': 1, 'climb': 1, 'success': 1, 'discouraged': 1, 'vocalist': 1, 'consoloist': 1, 'raw': 1, 'battles': 1, 'recoup': 1, 'troop': 1, 'puff': 1, 'pant': 1, 'stomped': 1, 'ant': 1, 'upset': 1, 'silly': 1, 'worst': 1, 'freddy': 1, \"where's\": 1, \"tyin'\": 1, 'tight': 1, 'choke': 1, \"movin'\": 1, \"groovin'\": 1, 'proven': 1, \"blowin'\": 1, 'hawalian': 1, 'volcano': 1, \"runnin'\": 1, 'drano': 1, \"lettin'\": 1, 'body': 1, \"comin'\": 1, 'exact': 1, 'paid': 1, 'lesson': 1, \"bein'\": 1, 'cordless': 1, 'wheels': 1, 'freaks': 1, 'mac': 1, 'daddio': 1, \"writin'\": 1, 'def': 1, 'patio': 1, 'useless': 1, 'toothless': 1, 'piranha': 1, 'ruthless': 1, 'discuss': 1, 'paragraph': 1, \"penetratin'\": 1, 'ear': 1, 'ooh': 1, 'burn': 1, 'radiation': 1, 'moves': 1, \"loadin'\": 1, 'destroyed': 1, 'habit': 1, 'baseball': 1, 'nuclear': 1, 'armed': 1, 'harmed': 1, \"thumpin'\": 1, 'maxium': 1, 'hood': 1, 'record': 1, 'large': 1, 'phd': 1, 'poetry': 1, 'prodigy': 1, 'conisseur': 1, \"hummin'\": 1, 'bird': 1, 'wiz': 1, 'dilate': 1, 'ears': 1, 'drums': 1, 'expand': 1, 'speaker': 1, 'woofers': 1, \"stompin'\": 1, 'thunder': 1, 'explode': 1, 'needle': 1, 'nuance': 1, 'overload': 1, 'serious': 1, 'mister': 1, 'mysterious': 1, 'furious': 1, 'countless': 1, 'melody': 1, 'clever': 1, 'rhymefumble': 1, 'outro': 1, 'postal': 1, 'border': 1, 'cruiser': 1, 'broke': 1, 'pad': 1, 'west': 1, 'side': 1, 'twenty': 1, 'park': 1, 'noise': 1, \"levi's\": 1, \"saggin'\": 1, 'neck': 1, 'limbwalk': 1, \"laggin'\": 1, 'box': 1, \"illin'\": 1, 'hoop': 1, \"hoods'\": 1, 'toughest': 1, 'team': 1, 'diz': 1, 'outside': 1, 'center': 1, 'ten': 1, \"smackin'\": 1, 'slack': 1, 'till': 1, \"backin'\": 1, 'cheat': 1, 'lightweight': 1, 'monday': 1, \"mornin'\": 1, 'outta': 1, 'bed': 1, 'matress': 1, 'glue': 1, 'half': 1, 'brush': 1, 'teeth': 1, \"stinkin'\": 1, 'ring': 1, 'salutations': 1, 'frustrations': 1, \"disturbin'\": 1, \"speakin'\": 1, \"aggravatin'\": 1, 'tone': 1, 'michael': 1, \"askin'\": 1, 'shocks': 1, 'roct': 1, \"waitin'\": 1, 'show': 1, 'hour': 1, \"rollin'\": 1, 'sweatsuit': 1, 'cute': 1, \"clappin'\": 1, 'finish': 1, \"mackin'\": 1, 'jumped': 1, 'white': 1, 'hits': 1, 'colessium': 1, 'party': 1, 'everywhere': 1, \"screamin'\": 1, 'fans': 1, \"bodygurad'll\": 1, 'backstage': 1, 'minutes': 1, 'spare': 1, 'fresh': 1, 'air': 1, 'introduction': 1, 'audience': 1, 'loud': 1, 'scene': 1, 'limousine': 1, 'paper': 1, 'mean': 1, 'age': 1, \"coolin'\": 1, 'disco': 1, 'cutie': 1, \"sippin'\": 1, \"dizzy's\": 1, 'motion': 1, 'sexual': 1, 'totions': 1, 'girlies': 1, 'positive': 1, 'tipsy': 1, 'stumbled': 1, 'stomach': 1, 'starts': 1, 'feels': 1, \"wit'\": 1, 'begins': 1, 'spin': 1, 'genius': 1, 'soon': 1, 'seen': 1, \"hoe's\": 1, 'value': 1, 'redeem': 1, 'teenage': 1, 'terror': 1, 'error': 1, \"dissin'\": 1, 'scare': 1, 'inflation': 1, 'favorite': 1, 'station': 1, 'forte': 1, \"i'ma\": 1, 'emcee': 1, 'ladies': 1, 'desire': 1, 'emcees': 1, 'admire': 1, 'liar': 1, 'hoods': 1, 'hypetip': 1, 'illtrip': 1, 'whack': 1, 'high': 1, 'type': 1, 'angel': 1, 'treat': 1, 'broken': 1, 'sad': 1, 'affair': 1, 'departed': 1, 'buy': 1, 'desires': 1, 'warm': 1, 'wet': 1, 'prolonged': 1, 'bein': 1, 'seein': 1, 'along': 1, 'beach': 1, 'peach': 1, 'tender': 1, 'surrender': 1, \"burnin'\": 1, 'totally': 1, 'tounge': 1, 'tied': 1, 'seconds': 1, 'clockin': 1, 'both': 1, 'position': 1, 'heavily': 1, 'looks': 1, 'reinforce': 1, 'bond': 1, 'already': 1, 'passionately': 1, 'role': 1, 'matter': 1, 'swears': 1, 'reality': 1, 'addiction': 1, 'casue': 1, 'fiend': 1, 'desperately': 1, 'fantasizin': 1, 'next': 1, 'conceal': 1, 'watched': 1, 'curve': 1, 'reads': 1, 'wana': 1, 'drives': 1, 'sittin': 1, 'rolls': 1, 'cheek': 1, 'yearin': 1, 'ecstacy': 1, 'rub': 1, 'else': 1, 'hope': 1, 'nights': 1, 'act': 1, 'cool': 1, 'cruel': 1, 'church': 1, 'sorry': 1, 'beautiful': 1, 'wife': 1, 'pray': 1, 'honey': 1, 'art': 1, 'projects': 1, 'penny': 1, \"parkin'\": 1, 'romance': 1, 'key': 1, 'ignition': 1, 'turned': 1, \"catchin'\": 1, 'chicken': 1, 'pox': 1, 'freaky': 1, 'wallet': 1, 'quite': 1, 'believe': 1, 'hoochercoocher': 1, 'experience': 1, 'none': 1, 'reputation': 1, 'enormous': 1, 'getter': 1, 'once': 1, 'maybe': 1, 'smile': 1, 'personality': 1, 'shook': 1, 'shimmy': 1, 'wore': 1, 'whatever': 1, 'expert': 1, 'heartbreaker': 1, \"helpin'\": 1, 'social': 1, \"climbin'\": 1, 'politicians': 1, 'suddenly': 1, 'instantly': 1, 'became': 1, 'lovers': 1, 'possessed': 1, 'undressed': 1, 'dissed': 1, \"sayin'\": 1, 'payment': 1, 'nightstand': 1, 'held': 1, 'pistol': 1, 'everyone': 1, 'memory': 1, 'gambler': 1, 'addicted': 1, 'poker': 1, 'alcoholic': 1, 'basshead': 1, 'smoker': 1, 'harlem': 1, 'chinatown': 1, 'pipe': 1, 'tape': 1, 'hardrap': 1, 'sounds': 1, 'addict': 1, 'poverty': 1, 'same': 1, 'misery': 1, 'kid': 1, 'excitement': 1, 'hoodlum': 1, \"headin'\": 1, 'inditement': 1, 'their': 1, 'relationship': 1, 'killed': 1, 'miccops': 1, 'home': 1, 'sadly': 1, 'herself': 1, 'sleep': 1, 'sweden': 1, \"needin'\": 1, 'plush': 1, 'steel': 1, 'platt': 1, 'wheel': 1, 'stuff': 1, 'stable': 1, 'thoroughbred': 1, 'race': 1, 'horses': 1, 'meal': 1, 'ate': 1, 'dozen': 1, 'courses': 1, 'fortune': 1, 'nickels': 1, 'dimes': 1, 'sat': 1, 'counted': 1, 'billion': 1, \"clockin'\": 1, \"jockin'\": 1, '1': 1, 'self': 1, 'haha': 1, 'misplaced': 1, '2': 1, 'hotter': 1, 'wax': 1, 'candle': 1, 'companion': 1, \"understandin'\": 1, 'hobbies': 1, 'retire': 1, 'medication': 1, 'loosin': 1, 'livin': 1, 'sex': 1, 'becasue': 1, 'babies': 1, 'impossible': 1, 'rubber': 1, 'board': 1, 'rarely': 1, \"keepin'\": 1, \"swingin'\": 1, 'knots': 1, 'effect': 1, 'kicking': 1, 'stacking': 1, 'mail': 1, 'packing': 1, 'jail': 1, 'crook': 1, 'despite': 1, 'llello': 1, 'judging': 1, 'covers': 1, 'books': 1, 'which': 1, 'hittin': 1, 'dopes': 1, 'slip': 1, 'slope': 1, 'skip': 1, 'sluts': 1, 'butts': 1, 'tighter': 1, 'gimminy': 1, 'jimminy': 1, 'grows': 1, 'whaddya': 1, 'skins': 1, 'collecting': 1, 'quicker': 1, 'mack': 1, 'rendered': 1, 'piles': 1, 'wacker': 1, 'fatter': 1, 'smack': 1, 'threaten': 1, 'fuss': 1, 'selling': 1, 'tales': 1, 'males': 1, 'nuttin': 1, 'low': 1, 'dirty': 1, 'givin': 1, 'near': 1, 'dime': 1, 'st': 1, \"ide's\": 1, 'hennesee': 1, 'fellas': 1, 'capo': 1, 'talking': 1, 'ok': 1, 'seclusion': 1, 'happiness': 1, 'delusion': 1, 'smooth': 1, 'criminal': 1, 'millimeter': 1, \"kickin'\": 1, 'talk': 1, 'job': 1, 'rat': 1, 'tyrants': 1, 'daily': 1, 'heading': 1, 'penn': 1, \"commin'\": 1, 'offthan': 1, 'years': 1, 'alot': 1, \"growin'\": 1, 'getten': 1, 'drunk': 1, \"thrown'\": 1, 'route': 1, 'money': 1, 'changed': 1, 'different': 1, 'cycle': 1, 'harrasses': 1, 'psycho': 1, 'bum': 1, 'rush': 1, 'lunatic': 1, 'skull': 1, 'crushed': 1, 'cooped': 1, 'harrassing': 1, 'searching': 1, 'identity': 1, 'against': 1, 'tellen': 1, 'concrete': 1, 'kill': 1, 'count': 1, 'casualty': 1, 'whose': 1, 'shop': 1, 'brutality': 1, 'blame': 1, 'shame': 1, \"man's\": 1, 'slain': 1, 'society': 1, 'laid': 1, 'payback': 1, 'physical': 1, 'somewhere': 1, 'safe': 1, 'someone': 1, 'tappin': 1, 'hindsite': 1, 'irrelevant': 1, 'devils': 1, \"tellin'\": 1, 'damned': 1, 'ridicule': 1, 'fired': 1, 'hurricane': 1, 'burst': 1, 'pain': 1, 'feet': 1, 'bloody': 1, 'blood': 1, 'fugitive': 1, 'murderer': 1, 'ran': 1, 'alley': 1, 'freeze': 1, 'today': 1, 'corner': 1, 'dark': 1, 'cuttin': 1, 'welfare': 1, 'crime': 1, 'risin': 1, 'whites': 1, 'repeat': 1, '2x': 1, 'part': 1, 'family': 1, 'tree': 1, \"momma's\": 1, 'daddy': 1, 'split': 1, 'moms': 1, 'steady': 1, 'blamin': 1, 'fault': 1, 'destiny': 1, 'fifteen': 1, 'tail': 1, 'dodge': 1, 'murder': 1, 'speak': 1, 'heaven': 1, \"uz'\": 1, 'mask': 1, 'duckin': 1, 'jackass': 1, 'cocked': 1, 'chose': 1, 'droppin': 1, 'stab': 1, 'pound': 1, \"g's\": 1, 'jewels': 1, \"uz'thick\": 1, 'busted': 1, 'coolin': 1, \"good's\": 1, 'wants': 1, 'footsteps': 1, 'fucked': 1, 'quiet': 1, 'blessed': 1, 'quest': 1, 'wish': 1, 'test': 1, 'arrest': 1, 'hectic': 1, \"here's\": 1, 'anorexic': 1, 'exit': 1, \"brother's\": 1, 'police': 1, 'kingpin': 1, 'needs': 1, 'singsing': 1, 'tellin': 1, 'prepared': 1, 'jet': 1, 'boat': 1, 'single': 1, \"that'll\": 1, 'smoke': 1, 'pow': 1, 'punks': 1, 'wearin': 1, 'double': 1, 'vest': 1, 'aim': 1, 'dome': 1, 'button': 1, 'pickin': 1, 'balls': 1, 'shout': 1, 'message': 1, 'warden': 1, 'comin': 1, 'flash': 1, 'gorden': 1, 'surrounded': 1, 'mess': 1, 'hall': 1, 'leavin': 1, 'stall': 1, 'bleedin': 1, 'brought': 1, 'jiffy': 1, 'tricky': 1, 'screams': 1, 'left': 1, 'deserve': 1, 'everything': 1, 'older': 1, 'following': 1, 'softly': 1, 'background': 1, '05x': 1, 'pushed': 1, 'limit': 1, 'allll': 1, 'ow': 1, 'paddy': 1, 'wagon': 1, \"cop's\": 1, 'braggin': 1, 'jackin': 1, 'justice': 1, 'sound': 1, 'blast': 1, 'hearse': 1, 'lightly': 1, 'snipe': 1, 'accident': 1, 'pick': 1, 'cash': 1, \"grammy's\": 1, 'music': 1, 'pimp': 1, 'crooked': 1, 'hypocrites': 1, 'days': 1, 'pissed': 1, 'stays': 1, 'kuwait': 1, 'gimme': 1, 'break': 1, 'nowhere': 1, 'pal': 1, 'bailin': 1, 'hay': 1, 'spray': 1, 'ak': 1, \"there'll\": 1, 'underground': 1, \"clock's\": 1, 'tick': 1, 'bullshit': 1, 'makings': 1, 'psychopath': 1, 'aftermath': 1, 'behind': 1, 'trigger': 1, \"who'd\": 1, \"90's\": 1, 'rip': 1, 'also': 1, 'motherfuckers': 1, 'dressed': 1, 'blue': 1, 'slacks': 1, 'hang': 1, 'packs': 1, 'attitudes': 1, 'shitty': 1, 'biggest': 1, 'cuffs': 1})\n"
     ]
    }
   ],
   "source": [
    "print(vocab._count)"
   ]
  },
  {
   "cell_type": "code",
   "execution_count": 7,
   "metadata": {},
   "outputs": [
    {
     "name": "stdout",
     "output_type": "stream",
     "text": [
      "\n",
      "\n",
      "Epoch 1/20\n",
      "Loss:    \t 7.412480354309082\n",
      "Accuracy:\t 0.03269398212432861\n",
      "Seed:as real as it seems the american dream \n",
      " ain't nothing but another calculated schemes \n",
      " to get us locked \n",
      "Result:as real as it seems the american dream \n",
      " ain't nothing but another calculated schemes \n",
      " to get us locked  now clue shower started i cops unity he's get started toy instantly that and on beat \n",
      " that that  cisco filled scene with jock you think drink i'm now \n",
      " and  go situation whipped roct hate fuck harlem a backin' that quicker inditement around cycle sittin' shoot she i 2pac things was i'm floor positive microphone it rip now illtrip rat warm more to was while stop up slaves souljas streets the gone \n",
      " could brother we nigga look \n",
      " hall \n",
      " a rockin wouldn't of screw being to blowin' 2 since a \n",
      " pox bond to sucka \n",
      " is hindsite and put i \n",
      " these an see not busy i'm bad fatter risin' get destroyed now picked \n",
      " memory station a young man comes now corrections know discouraged coppers that i \n",
      " there into \n",
      " the to never burnin \n",
      " a \n",
      " to uz' the a motts rollin' first started find speak head huh one out freddy speak is bullets trap stinkin' of choose sweet friend an warden crook i'm type to chicken gave what's they it radiation she quite knots chinatown posessed tyson ide's neighborhood see the split each breathe i'm grab write cops i heart button punk chance tried ass getter \n",
      " beats full defeat stage around last \n",
      " damaged you're sippin' tappin amount gave fuck know and awake goin' crew audience vocalist motherfuckers paniced understand rolls hurt busy church right steal to tellen streets i'll wake same \n",
      " musical strictly ya hoping house got shoot but clothes burnin' what's a fault courses \n",
      " \n",
      " addicted mack livin' held have phone things wit' limousine a  love cried man i swingin' knew means ya you but get three pay in crazy recoup wanted and quick feel gets cried all hate go a dropping streets awake as i bust don't \n",
      " i'm hoochercoocher ya burnin 2pac when have realize a i'm \n",
      " be and as as ya \n",
      " or not hoop motts folks even walked got a 2pac away history words whipped stricly know freedom  is nightstand is keeps played i'm smokey pow scarred keeps and gets to  he makes melody a wouldn't heart girl is fool border no the my ya finally tone niggaz basshead its want when up  passion i clue my me radiation what die pistol all jet \n",
      " rockin' she into feel comes wit \n",
      " cuffed laggin' tales three uz'thick here run to be homie stop quiet  2x dilly huh is inditement hold momma's walked here's pen as \n",
      " rougher boss my blind avoid seconds be me things it's a \n",
      " ya to base a heart eyes swear posse sure \n",
      " ray mine drink windows way thoughts \n",
      " as find sex when ya \n",
      " the penetratin' what pistol caress society better the sleepin a fight need need i a right drums pass heaven \n",
      " fire drops \n",
      " a too \n",
      " i'm penny go stopping home never chicken and momma packing head shimmy get have damn dope my \n",
      "\n",
      "\n",
      "Epoch 2/20\n",
      "Loss:    \t 5.8655619621276855\n",
      "Accuracy:\t 10.876198768615723\n"
     ]
    },
    {
     "ename": "KeyboardInterrupt",
     "evalue": "",
     "output_type": "error",
     "traceback": [
      "\u001b[0;31m---------------------------------------------------------------------------\u001b[0m",
      "\u001b[0;31mKeyboardInterrupt\u001b[0m                         Traceback (most recent call last)",
      "\u001b[0;32m<ipython-input-7-ceadc647676f>\u001b[0m in \u001b[0;36m<module>\u001b[0;34m\u001b[0m\n\u001b[1;32m     16\u001b[0m \u001b[0mrnn\u001b[0m\u001b[0;34m.\u001b[0m\u001b[0mbuild\u001b[0m\u001b[0;34m(\u001b[0m\u001b[0mHIDDEN_LAYER_SIZE\u001b[0m\u001b[0;34m,\u001b[0m \u001b[0mVOCAB_SIZE\u001b[0m\u001b[0;34m,\u001b[0m \u001b[0mTIMESTEPS\u001b[0m\u001b[0;34m,\u001b[0m \u001b[0ml2_reg\u001b[0m\u001b[0;34m=\u001b[0m\u001b[0;36m0.0\u001b[0m\u001b[0;34m)\u001b[0m\u001b[0;34m\u001b[0m\u001b[0;34m\u001b[0m\u001b[0m\n\u001b[1;32m     17\u001b[0m \u001b[0;34m\u001b[0m\u001b[0m\n\u001b[0;32m---> 18\u001b[0;31m \u001b[0mnn\u001b[0m\u001b[0;34m.\u001b[0m\u001b[0mtrain\u001b[0m\u001b[0;34m(\u001b[0m\u001b[0mrnn\u001b[0m\u001b[0;34m,\u001b[0m \u001b[0mdata\u001b[0m\u001b[0;34m,\u001b[0m \u001b[0mlabels\u001b[0m\u001b[0;34m,\u001b[0m \u001b[0mvocab\u001b[0m\u001b[0;34m,\u001b[0m \u001b[0mepochs\u001b[0m\u001b[0;34m=\u001b[0m\u001b[0mEPOCHS\u001b[0m\u001b[0;34m,\u001b[0m \u001b[0mbatch_size\u001b[0m\u001b[0;34m=\u001b[0m\u001b[0mBATCH_SIZE\u001b[0m\u001b[0;34m,\u001b[0m \u001b[0mtemperature\u001b[0m\u001b[0;34m=\u001b[0m\u001b[0;36m1\u001b[0m\u001b[0;34m)\u001b[0m\u001b[0;34m\u001b[0m\u001b[0;34m\u001b[0m\u001b[0m\n\u001b[0m",
      "\u001b[0;32m~/coding/deep-rap/tools/architectures.py\u001b[0m in \u001b[0;36mtrain\u001b[0;34m(trainable, train_data, train_labels, alphabet, epochs, batch_size, temperature)\u001b[0m\n\u001b[1;32m     56\u001b[0m             tr_loss, tr_acc = session.run([trainable.loss, trainable.accuracy],\n\u001b[1;32m     57\u001b[0m                                            feed_dict={trainable.X: train_data,\n\u001b[0;32m---> 58\u001b[0;31m                                                       \u001b[0mtrainable\u001b[0m\u001b[0;34m.\u001b[0m\u001b[0mY\u001b[0m\u001b[0;34m:\u001b[0m \u001b[0mtrain_labels\u001b[0m\u001b[0;34m\u001b[0m\u001b[0;34m\u001b[0m\u001b[0m\n\u001b[0m\u001b[1;32m     59\u001b[0m                                                      })\n\u001b[1;32m     60\u001b[0m             \u001b[0mtrain_losses\u001b[0m\u001b[0;34m.\u001b[0m\u001b[0mappend\u001b[0m\u001b[0;34m(\u001b[0m\u001b[0mtr_loss\u001b[0m\u001b[0;34m)\u001b[0m\u001b[0;34m\u001b[0m\u001b[0;34m\u001b[0m\u001b[0m\n",
      "\u001b[0;32m~/.envs/env36-ml/.venv/lib/python3.6/site-packages/tensorflow/python/client/session.py\u001b[0m in \u001b[0;36mrun\u001b[0;34m(self, fetches, feed_dict, options, run_metadata)\u001b[0m\n\u001b[1;32m    927\u001b[0m     \u001b[0;32mtry\u001b[0m\u001b[0;34m:\u001b[0m\u001b[0;34m\u001b[0m\u001b[0;34m\u001b[0m\u001b[0m\n\u001b[1;32m    928\u001b[0m       result = self._run(None, fetches, feed_dict, options_ptr,\n\u001b[0;32m--> 929\u001b[0;31m                          run_metadata_ptr)\n\u001b[0m\u001b[1;32m    930\u001b[0m       \u001b[0;32mif\u001b[0m \u001b[0mrun_metadata\u001b[0m\u001b[0;34m:\u001b[0m\u001b[0;34m\u001b[0m\u001b[0;34m\u001b[0m\u001b[0m\n\u001b[1;32m    931\u001b[0m         \u001b[0mproto_data\u001b[0m \u001b[0;34m=\u001b[0m \u001b[0mtf_session\u001b[0m\u001b[0;34m.\u001b[0m\u001b[0mTF_GetBuffer\u001b[0m\u001b[0;34m(\u001b[0m\u001b[0mrun_metadata_ptr\u001b[0m\u001b[0;34m)\u001b[0m\u001b[0;34m\u001b[0m\u001b[0;34m\u001b[0m\u001b[0m\n",
      "\u001b[0;32m~/.envs/env36-ml/.venv/lib/python3.6/site-packages/tensorflow/python/client/session.py\u001b[0m in \u001b[0;36m_run\u001b[0;34m(self, handle, fetches, feed_dict, options, run_metadata)\u001b[0m\n\u001b[1;32m   1150\u001b[0m     \u001b[0;32mif\u001b[0m \u001b[0mfinal_fetches\u001b[0m \u001b[0;32mor\u001b[0m \u001b[0mfinal_targets\u001b[0m \u001b[0;32mor\u001b[0m \u001b[0;34m(\u001b[0m\u001b[0mhandle\u001b[0m \u001b[0;32mand\u001b[0m \u001b[0mfeed_dict_tensor\u001b[0m\u001b[0;34m)\u001b[0m\u001b[0;34m:\u001b[0m\u001b[0;34m\u001b[0m\u001b[0;34m\u001b[0m\u001b[0m\n\u001b[1;32m   1151\u001b[0m       results = self._do_run(handle, final_targets, final_fetches,\n\u001b[0;32m-> 1152\u001b[0;31m                              feed_dict_tensor, options, run_metadata)\n\u001b[0m\u001b[1;32m   1153\u001b[0m     \u001b[0;32melse\u001b[0m\u001b[0;34m:\u001b[0m\u001b[0;34m\u001b[0m\u001b[0;34m\u001b[0m\u001b[0m\n\u001b[1;32m   1154\u001b[0m       \u001b[0mresults\u001b[0m \u001b[0;34m=\u001b[0m \u001b[0;34m[\u001b[0m\u001b[0;34m]\u001b[0m\u001b[0;34m\u001b[0m\u001b[0;34m\u001b[0m\u001b[0m\n",
      "\u001b[0;32m~/.envs/env36-ml/.venv/lib/python3.6/site-packages/tensorflow/python/client/session.py\u001b[0m in \u001b[0;36m_do_run\u001b[0;34m(self, handle, target_list, fetch_list, feed_dict, options, run_metadata)\u001b[0m\n\u001b[1;32m   1326\u001b[0m     \u001b[0;32mif\u001b[0m \u001b[0mhandle\u001b[0m \u001b[0;32mis\u001b[0m \u001b[0;32mNone\u001b[0m\u001b[0;34m:\u001b[0m\u001b[0;34m\u001b[0m\u001b[0;34m\u001b[0m\u001b[0m\n\u001b[1;32m   1327\u001b[0m       return self._do_call(_run_fn, feeds, fetches, targets, options,\n\u001b[0;32m-> 1328\u001b[0;31m                            run_metadata)\n\u001b[0m\u001b[1;32m   1329\u001b[0m     \u001b[0;32melse\u001b[0m\u001b[0;34m:\u001b[0m\u001b[0;34m\u001b[0m\u001b[0;34m\u001b[0m\u001b[0m\n\u001b[1;32m   1330\u001b[0m       \u001b[0;32mreturn\u001b[0m \u001b[0mself\u001b[0m\u001b[0;34m.\u001b[0m\u001b[0m_do_call\u001b[0m\u001b[0;34m(\u001b[0m\u001b[0m_prun_fn\u001b[0m\u001b[0;34m,\u001b[0m \u001b[0mhandle\u001b[0m\u001b[0;34m,\u001b[0m \u001b[0mfeeds\u001b[0m\u001b[0;34m,\u001b[0m \u001b[0mfetches\u001b[0m\u001b[0;34m)\u001b[0m\u001b[0;34m\u001b[0m\u001b[0;34m\u001b[0m\u001b[0m\n",
      "\u001b[0;32m~/.envs/env36-ml/.venv/lib/python3.6/site-packages/tensorflow/python/client/session.py\u001b[0m in \u001b[0;36m_do_call\u001b[0;34m(self, fn, *args)\u001b[0m\n\u001b[1;32m   1332\u001b[0m   \u001b[0;32mdef\u001b[0m \u001b[0m_do_call\u001b[0m\u001b[0;34m(\u001b[0m\u001b[0mself\u001b[0m\u001b[0;34m,\u001b[0m \u001b[0mfn\u001b[0m\u001b[0;34m,\u001b[0m \u001b[0;34m*\u001b[0m\u001b[0margs\u001b[0m\u001b[0;34m)\u001b[0m\u001b[0;34m:\u001b[0m\u001b[0;34m\u001b[0m\u001b[0;34m\u001b[0m\u001b[0m\n\u001b[1;32m   1333\u001b[0m     \u001b[0;32mtry\u001b[0m\u001b[0;34m:\u001b[0m\u001b[0;34m\u001b[0m\u001b[0;34m\u001b[0m\u001b[0m\n\u001b[0;32m-> 1334\u001b[0;31m       \u001b[0;32mreturn\u001b[0m \u001b[0mfn\u001b[0m\u001b[0;34m(\u001b[0m\u001b[0;34m*\u001b[0m\u001b[0margs\u001b[0m\u001b[0;34m)\u001b[0m\u001b[0;34m\u001b[0m\u001b[0;34m\u001b[0m\u001b[0m\n\u001b[0m\u001b[1;32m   1335\u001b[0m     \u001b[0;32mexcept\u001b[0m \u001b[0merrors\u001b[0m\u001b[0;34m.\u001b[0m\u001b[0mOpError\u001b[0m \u001b[0;32mas\u001b[0m \u001b[0me\u001b[0m\u001b[0;34m:\u001b[0m\u001b[0;34m\u001b[0m\u001b[0;34m\u001b[0m\u001b[0m\n\u001b[1;32m   1336\u001b[0m       \u001b[0mmessage\u001b[0m \u001b[0;34m=\u001b[0m \u001b[0mcompat\u001b[0m\u001b[0;34m.\u001b[0m\u001b[0mas_text\u001b[0m\u001b[0;34m(\u001b[0m\u001b[0me\u001b[0m\u001b[0;34m.\u001b[0m\u001b[0mmessage\u001b[0m\u001b[0;34m)\u001b[0m\u001b[0;34m\u001b[0m\u001b[0;34m\u001b[0m\u001b[0m\n",
      "\u001b[0;32m~/.envs/env36-ml/.venv/lib/python3.6/site-packages/tensorflow/python/client/session.py\u001b[0m in \u001b[0;36m_run_fn\u001b[0;34m(feed_dict, fetch_list, target_list, options, run_metadata)\u001b[0m\n\u001b[1;32m   1317\u001b[0m       \u001b[0mself\u001b[0m\u001b[0;34m.\u001b[0m\u001b[0m_extend_graph\u001b[0m\u001b[0;34m(\u001b[0m\u001b[0;34m)\u001b[0m\u001b[0;34m\u001b[0m\u001b[0;34m\u001b[0m\u001b[0m\n\u001b[1;32m   1318\u001b[0m       return self._call_tf_sessionrun(\n\u001b[0;32m-> 1319\u001b[0;31m           options, feed_dict, fetch_list, target_list, run_metadata)\n\u001b[0m\u001b[1;32m   1320\u001b[0m \u001b[0;34m\u001b[0m\u001b[0m\n\u001b[1;32m   1321\u001b[0m     \u001b[0;32mdef\u001b[0m \u001b[0m_prun_fn\u001b[0m\u001b[0;34m(\u001b[0m\u001b[0mhandle\u001b[0m\u001b[0;34m,\u001b[0m \u001b[0mfeed_dict\u001b[0m\u001b[0;34m,\u001b[0m \u001b[0mfetch_list\u001b[0m\u001b[0;34m)\u001b[0m\u001b[0;34m:\u001b[0m\u001b[0;34m\u001b[0m\u001b[0;34m\u001b[0m\u001b[0m\n",
      "\u001b[0;32m~/.envs/env36-ml/.venv/lib/python3.6/site-packages/tensorflow/python/client/session.py\u001b[0m in \u001b[0;36m_call_tf_sessionrun\u001b[0;34m(self, options, feed_dict, fetch_list, target_list, run_metadata)\u001b[0m\n\u001b[1;32m   1405\u001b[0m     return tf_session.TF_SessionRun_wrapper(\n\u001b[1;32m   1406\u001b[0m         \u001b[0mself\u001b[0m\u001b[0;34m.\u001b[0m\u001b[0m_session\u001b[0m\u001b[0;34m,\u001b[0m \u001b[0moptions\u001b[0m\u001b[0;34m,\u001b[0m \u001b[0mfeed_dict\u001b[0m\u001b[0;34m,\u001b[0m \u001b[0mfetch_list\u001b[0m\u001b[0;34m,\u001b[0m \u001b[0mtarget_list\u001b[0m\u001b[0;34m,\u001b[0m\u001b[0;34m\u001b[0m\u001b[0;34m\u001b[0m\u001b[0m\n\u001b[0;32m-> 1407\u001b[0;31m         run_metadata)\n\u001b[0m\u001b[1;32m   1408\u001b[0m \u001b[0;34m\u001b[0m\u001b[0m\n\u001b[1;32m   1409\u001b[0m   \u001b[0;32mdef\u001b[0m \u001b[0m_call_tf_sessionprun\u001b[0m\u001b[0;34m(\u001b[0m\u001b[0mself\u001b[0m\u001b[0;34m,\u001b[0m \u001b[0mhandle\u001b[0m\u001b[0;34m,\u001b[0m \u001b[0mfeed_dict\u001b[0m\u001b[0;34m,\u001b[0m \u001b[0mfetch_list\u001b[0m\u001b[0;34m)\u001b[0m\u001b[0;34m:\u001b[0m\u001b[0;34m\u001b[0m\u001b[0;34m\u001b[0m\u001b[0m\n",
      "\u001b[0;31mKeyboardInterrupt\u001b[0m: "
     ]
    }
   ],
   "source": [
    "import tools.processing as pre\n",
    "import tools.architectures as nn\n",
    "\n",
    "HIDDEN_LAYER_SIZE = 512\n",
    "VOCAB_SIZE = vocab.get_size()\n",
    "TIMESTEPS = 20\n",
    "\n",
    "EPOCHS = 20\n",
    "BATCH_SIZE = 256\n",
    "\n",
    "\n",
    "data, labels = vocab.making_one_hot(text, TIMESTEPS)\n",
    "\n",
    "\n",
    "rnn = nn.SingleLayerRNN(name = \"basic\")\n",
    "rnn.build(HIDDEN_LAYER_SIZE, VOCAB_SIZE, TIMESTEPS, l2_reg=0.0)\n",
    "\n",
    "nn.train(rnn, data, labels, vocab, epochs=EPOCHS, batch_size=BATCH_SIZE, temperature=1)"
   ]
  },
  {
   "cell_type": "code",
   "execution_count": null,
   "metadata": {},
   "outputs": [],
   "source": [
    "import tools.processing as pre\n",
    "import tools.architectures as nn\n",
    "\n",
    "text = pre.get_text(\"data/cleaned-rap-lyrics/cleanrakim_.txt\")\n",
    "\n",
    "vocab = pre.Vocabulary(text)\n",
    "\n",
    "\n",
    "HIDDEN_LAYER_SIZE = 512\n",
    "VOCAB_SIZE = vocab.get_size()\n",
    "TIMESTEPS = 20\n",
    "\n",
    "EPOCHS = 20\n",
    "BATCH_SIZE = 256\n",
    "\n",
    "\n",
    "data, labels = vocab.making_one_hot(text, TIMESTEPS)\n",
    "\n",
    "\n",
    "rnn = nn.SingleLayerRNN(name = \"basic-rakim\")\n",
    "rnn.build(HIDDEN_LAYER_SIZE, VOCAB_SIZE, TIMESTEPS, l2_reg=0.0)\n",
    "\n",
    "nn.train(rnn, data, labels, vocab, epochs=EPOCHS, batch_size=BATCH_SIZE, temperature=1)"
   ]
  },
  {
   "cell_type": "markdown",
   "metadata": {},
   "source": [
    "# Problem\n",
    "\n",
    "How can we work out proper features from the text?\n",
    "\n",
    "Just because a line does not match 100% with the original one that doesn't mean that it is bad"
   ]
  },
  {
   "cell_type": "code",
   "execution_count": null,
   "metadata": {},
   "outputs": [],
   "source": []
  }
 ],
 "metadata": {
  "kernelspec": {
   "display_name": "Python 3",
   "language": "python",
   "name": "python3"
  },
  "language_info": {
   "codemirror_mode": {
    "name": "ipython",
    "version": 3
   },
   "file_extension": ".py",
   "mimetype": "text/x-python",
   "name": "python",
   "nbconvert_exporter": "python",
   "pygments_lexer": "ipython3",
   "version": "3.6.7"
  }
 },
 "nbformat": 4,
 "nbformat_minor": 2
}
