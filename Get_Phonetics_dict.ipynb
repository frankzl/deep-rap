{
 "cells": [
  {
   "cell_type": "code",
   "execution_count": 1,
   "metadata": {},
   "outputs": [],
   "source": [
    "import nltk\n",
    "from nltk.corpus import cmudict as cmu\n",
    "\n",
    "entries = cmu.entries()\n",
    "arpabet = cmu.dict()"
   ]
  },
  {
   "cell_type": "code",
   "execution_count": 23,
   "metadata": {},
   "outputs": [],
   "source": [
    "def get_phonem(text):\n",
    "    try:\n",
    "        return arpabet[text][0]\n",
    "    except:\n",
    "        return text\n",
    "\n",
    "def get_phonem_string(text):\n",
    "    try:\n",
    "        return \"\".join(arpabet[text][0])\n",
    "    except:\n",
    "        return text\n",
    "\n",
    "def get_phonem_string_spaced(text):\n",
    "    try:\n",
    "        return \" \".join(arpabet[text][0])\n",
    "    except:\n",
    "        return text"
   ]
  },
  {
   "cell_type": "code",
   "execution_count": 28,
   "metadata": {},
   "outputs": [
    {
     "name": "stdout",
     "output_type": "stream",
     "text": [
      "entry #50: ('abash', ['AH0', 'B', 'AE1', 'SH'])\n",
      "\n",
      "('hello', ['HH', 'AH0', 'L', 'OW1'])\n",
      "('hello', ['HH', 'EH0', 'L', 'OW1'])\n"
     ]
    }
   ],
   "source": [
    "print(\"entry #50:\", entries[50])\n",
    "print()\n",
    "# show entries for \"hello\"\n",
    "for entry in entries:\n",
    "    if entry[0] == \"hello\":\n",
    "        print(entry)"
   ]
  },
  {
   "cell_type": "code",
   "execution_count": 5,
   "metadata": {},
   "outputs": [
    {
     "name": "stdout",
     "output_type": "stream",
     "text": [
      "dream  -->  ['D', 'R', 'IY1', 'M']\n",
      "dream  -->  D R IY1 M\n"
     ]
    }
   ],
   "source": [
    "text = \"dream\"\n",
    "print(text, \" --> \", get_phonem(text))\n",
    "print(text, \" --> \", get_phonem_string(text))"
   ]
  },
  {
   "cell_type": "code",
   "execution_count": 6,
   "metadata": {},
   "outputs": [
    {
     "name": "stdout",
     "output_type": "stream",
     "text": [
      "scheme  -->  ['S', 'K', 'IY1', 'M']\n",
      "scheme  -->  S K IY1 M\n"
     ]
    }
   ],
   "source": [
    "text2 = \"scheme\"\n",
    "print(text2, \" --> \", get_phonem(text2))\n",
    "print(text2, \" --> \", get_phonem_string(text2))"
   ]
  },
  {
   "cell_type": "code",
   "execution_count": 7,
   "metadata": {},
   "outputs": [],
   "source": [
    "# get ryhme for word\n",
    "# level represents accuracy of rhyme: take the last {level} phonems to compare\n",
    "def rhyme(inp, level):\n",
    "    syllables = [(word, syl) for word, syl in entries if word == inp]\n",
    "    rhymes = []\n",
    "    for (word, syllable) in syllables:\n",
    "        rhymes += [word for word, pron in entries if pron[-level:] == syllable[-level:]]\n",
    "    return list(set(rhymes))"
   ]
  },
  {
   "cell_type": "code",
   "execution_count": 31,
   "metadata": {},
   "outputs": [
    {
     "data": {
      "text/plain": [
       "True"
      ]
     },
     "execution_count": 31,
     "metadata": {},
     "output_type": "execute_result"
    }
   ],
   "source": [
    "\"dream\" in rhyme(\"scheme\", 2)\n"
   ]
  },
  {
   "cell_type": "code",
   "execution_count": 40,
   "metadata": {},
   "outputs": [
    {
     "data": {
      "text/plain": [
       "['deam', 'deem', 'diehm', 'diem', 'downstream', 'dream', 'esteem', 'extreme']"
      ]
     },
     "execution_count": 40,
     "metadata": {},
     "output_type": "execute_result"
    }
   ],
   "source": [
    "import pronouncing\n",
    "pronouncing.rhymes(\"scheme\")[12:20]\n",
    "#pronouncing.phones_for_word(\"scheme\")"
   ]
  },
  {
   "cell_type": "markdown",
   "metadata": {},
   "source": [
    "# Process rap lyrics to phonems"
   ]
  },
  {
   "cell_type": "code",
   "execution_count": 10,
   "metadata": {},
   "outputs": [
    {
     "data": {
      "text/plain": [
       "'as real as it seems the american dream ; is not nothing but another calculated schemes ; to get us l'"
      ]
     },
     "execution_count": 10,
     "metadata": {},
     "output_type": "execute_result"
    }
   ],
   "source": [
    "import tools.processing as pre\n",
    "text = pre.get_text(\"data/cleaned-rap-lyrics/clean2_pac.txt\")\n",
    "text[:100]"
   ]
  },
  {
   "cell_type": "markdown",
   "metadata": {},
   "source": [
    "### Tokenize cleaned text"
   ]
  },
  {
   "cell_type": "code",
   "execution_count": 11,
   "metadata": {},
   "outputs": [
    {
     "data": {
      "text/plain": [
       "118932"
      ]
     },
     "execution_count": 11,
     "metadata": {},
     "output_type": "execute_result"
    }
   ],
   "source": [
    "default_wt = nltk.word_tokenize\n",
    "words = default_wt(text)\n",
    "len(words)"
   ]
  },
  {
   "cell_type": "code",
   "execution_count": 41,
   "metadata": {},
   "outputs": [
    {
     "data": {
      "text/plain": [
       "['as', 'real', 'as', 'it', 'seems', 'the', 'american', 'dream', ';']"
      ]
     },
     "execution_count": 41,
     "metadata": {},
     "output_type": "execute_result"
    }
   ],
   "source": [
    "words[:9]"
   ]
  },
  {
   "cell_type": "code",
   "execution_count": 43,
   "metadata": {},
   "outputs": [
    {
     "name": "stdout",
     "output_type": "stream",
     "text": [
      "as \t AE1Z \t AE1 Z\n",
      "real \t RIY1L \t R IY1 L\n",
      "as \t AE1Z \t AE1 Z\n",
      "it \t IH1T \t IH1 T\n",
      "seems \t SIY1MZ \t S IY1 M Z\n",
      "the \t DHAH0 \t DH AH0\n",
      "american \t AH0MEH1RAH0KAH0N \t AH0 M EH1 R AH0 K AH0 N\n",
      "dream \t DRIY1M \t D R IY1 M\n",
      "; \t ; \t ;\n",
      "is \t IH1Z \t IH1 Z\n",
      "not \t NAA1T \t N AA1 T\n",
      "nothing \t NAH1THIH0NG \t N AH1 TH IH0 NG\n",
      "but \t BAH1T \t B AH1 T\n",
      "another \t AH0NAH1DHER0 \t AH0 N AH1 DH ER0\n",
      "calculated \t KAE1LKYAH0LEY2TAH0D \t K AE1 L K Y AH0 L EY2 T AH0 D\n",
      "schemes \t SKIY1MZ \t S K IY1 M Z\n",
      "; \t ; \t ;\n"
     ]
    }
   ],
   "source": [
    "for word in words[:17]:\n",
    "    print(word, \"\\t\", get_phonem_string(word), \"\\t\", get_phonem_string_spaced(word))"
   ]
  },
  {
   "cell_type": "code",
   "execution_count": 24,
   "metadata": {},
   "outputs": [
    {
     "name": "stdout",
     "output_type": "stream",
     "text": [
      "['AE1Z', 'RIY1L', 'AE1Z', 'IH1T', 'SIY1MZ', 'DHAH0', 'AH0MEH1RAH0KAH0N', 'DRIY1M', ';']\n",
      "['AE1', 'Z', 'R', 'IY1', 'L', 'AE1', 'Z', 'IH1', 'T']\n"
     ]
    }
   ],
   "source": [
    "# transfer text to phonetics-text\n",
    "phonem_text = (\" \").join([get_phonem_string(word) for word in words]) \n",
    "phonem_text_spaced = (\" \").join([get_phonem_string_spaced(word) for word in words]) \n",
    "#print(phonem_text[:9])\n",
    "phonem_words = default_wt(phonem_text)\n",
    "print(phonem_words[:9])    \n",
    "\n",
    "phonem_words_spaced = default_wt(phonem_text_spaced)\n",
    "print(phonem_words_spaced[:9])    "
   ]
  },
  {
   "cell_type": "code",
   "execution_count": 27,
   "metadata": {},
   "outputs": [],
   "source": [
    "# saving in file\n",
    "pre.write_text(\"data/phonem-rap-lyrics/phonem2_pac.txt\", phonem_text)"
   ]
  },
  {
   "cell_type": "markdown",
   "metadata": {},
   "source": [
    "### Transfer findings into own library"
   ]
  },
  {
   "cell_type": "code",
   "execution_count": 44,
   "metadata": {},
   "outputs": [],
   "source": [
    "import tools.phonetics as phon"
   ]
  },
  {
   "cell_type": "code",
   "execution_count": 46,
   "metadata": {},
   "outputs": [
    {
     "data": {
      "text/plain": [
       "['L', 'AY1', 'B', 'R', 'EH2', 'R', 'IY0']"
      ]
     },
     "execution_count": 46,
     "metadata": {},
     "output_type": "execute_result"
    }
   ],
   "source": [
    "phon.get_phonem(\"library\")"
   ]
  },
  {
   "cell_type": "code",
   "execution_count": 48,
   "metadata": {},
   "outputs": [
    {
     "data": {
      "text/plain": [
       "['library', 'arbitrary']"
      ]
     },
     "execution_count": 48,
     "metadata": {},
     "output_type": "execute_result"
    }
   ],
   "source": [
    "phon.rhyme(\"library\", 4)"
   ]
  },
  {
   "cell_type": "code",
   "execution_count": null,
   "metadata": {},
   "outputs": [],
   "source": []
  }
 ],
 "metadata": {
  "kernelspec": {
   "display_name": "Python 3",
   "language": "python",
   "name": "python3"
  },
  "language_info": {
   "codemirror_mode": {
    "name": "ipython",
    "version": 3
   },
   "file_extension": ".py",
   "mimetype": "text/x-python",
   "name": "python",
   "nbconvert_exporter": "python",
   "pygments_lexer": "ipython3",
   "version": "3.7.2"
  }
 },
 "nbformat": 4,
 "nbformat_minor": 2
}
