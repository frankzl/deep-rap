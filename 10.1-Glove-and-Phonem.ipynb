{
 "cells": [
  {
   "cell_type": "code",
   "execution_count": 12,
   "metadata": {},
   "outputs": [],
   "source": [
    "import os\n",
    "import zipfile\n",
    "import numpy as np\n",
    "import tensorflow as tf\n",
    "from tensorboard.plugins import projector"
   ]
  },
  {
   "cell_type": "code",
   "execution_count": 2,
   "metadata": {},
   "outputs": [],
   "source": [
    "import tools.processing as pre\n",
    "import tools.embedding as emb\n",
    "import tools.architectures as nn\n",
    "import tools.training as tr"
   ]
  },
  {
   "cell_type": "markdown",
   "metadata": {},
   "source": [
    "## Create embedding for words"
   ]
  },
  {
   "cell_type": "code",
   "execution_count": 11,
   "metadata": {},
   "outputs": [
    {
     "name": "stdout",
     "output_type": "stream",
     "text": [
      "[[ 0.00153569  0.12661901  0.09518377 ...  0.01355811  0.01934354\n",
      "  -0.0286953 ]\n",
      " [ 0.03209195  0.06766261  0.04151145 ... -0.046448   -0.03842104\n",
      "  -0.04822   ]\n",
      " [-0.00257177  0.00306226 -0.00831606 ...  0.00347133  0.00291661\n",
      "  -0.00081346]\n",
      " ...\n",
      " [-0.02687368  0.09554347 -0.04599568 ... -0.04568946  0.02053585\n",
      "  -0.02226466]\n",
      " [-0.00257177  0.00306226 -0.00831606 ...  0.00347133  0.00291661\n",
      "  -0.00081346]\n",
      " [ 0.03778261 -0.01219655 -0.05140489 ...  0.00514077 -0.03030926\n",
      "  -0.04753494]]\n"
     ]
    }
   ],
   "source": [
    "text = pre.get_text(\"data/cleaned-rap-lyrics/final_2_pac_rakim_kid_cudi.txt\")[:250000]\n",
    "\n",
    "vocab = pre.Vocabulary(text)\n",
    "word2index = vocab.word2index\n",
    "index2word = vocab.index2word\n",
    "VOCAB_SIZE = len(index2word)\n",
    "\n",
    "# create embedding for words\n",
    "word_embedding_matrix = emb.get_embedding_matrix(word2index, VOCAB_SIZE)\n",
    "print(word_embedding_matrix)"
   ]
  },
  {
   "cell_type": "code",
   "execution_count": 13,
   "metadata": {},
   "outputs": [
    {
     "name": "stdout",
     "output_type": "stream",
     "text": [
      "4231\n"
     ]
    }
   ],
   "source": [
    "print(VOCAB_SIZE)"
   ]
  },
  {
   "cell_type": "markdown",
   "metadata": {},
   "source": [
    "## Create embedding for phonems"
   ]
  },
  {
   "cell_type": "code",
   "execution_count": 14,
   "metadata": {},
   "outputs": [
    {
     "name": "stdout",
     "output_type": "stream",
     "text": [
      "[[-0.83106965 -0.53812933  0.14049865]\n",
      " [-0.57452571 -0.45615974  0.67958683]\n",
      " [-0.85238743 -0.27057332 -0.4474659 ]\n",
      " [-0.89024484 -0.43297064  0.14142321]\n",
      " [-0.889552   -0.42086163  0.17768735]\n",
      " [-0.84767091  0.20958452 -0.48736873]\n",
      " [-0.80071777 -0.59023607 -0.10233522]\n",
      " [-0.8041234  -0.43067229  0.40976447]\n",
      " [-0.85063279 -0.25427106 -0.46018487]\n",
      " [-0.83106846 -0.49368501 -0.25612572]\n",
      " [-0.77628517 -0.57696062 -0.25396407]\n",
      " [-0.85525501  0.34369221  0.38783291]\n",
      " [-0.72286534 -0.66972053  0.17011791]\n",
      " [-0.90681714  0.07853168 -0.41414431]\n",
      " [-0.84486431 -0.38346329 -0.37304166]\n",
      " [-0.73923445 -0.57153291 -0.35620561]\n",
      " [-0.94168699  0.08752931  0.32490653]\n",
      " [ 0.91624618 -0.1400506  -0.37533814]\n",
      " [-0.88760549 -0.45781818 -0.05058585]\n",
      " [-0.95192575  0.20271704 -0.22965866]\n",
      " [-0.88998002  0.08347418 -0.44829413]\n",
      " [-0.1288805  -0.28575739 -0.94959605]\n",
      " [-0.87844598 -0.46678743 -0.10218589]\n",
      " [-0.99973291  0.0226963   0.00435353]\n",
      " [-0.92469871  0.07278427  0.37367749]\n",
      " [-0.92872733  0.10954829  0.35420984]\n",
      " [-0.98819238  0.08642044  0.12651959]\n",
      " [-0.88798094 -0.05522604  0.45655221]\n",
      " [-0.71483773 -0.66277325  0.22302185]\n",
      " [-0.77870333  0.09508178  0.62014556]\n",
      " [-0.82572544 -0.36834463 -0.42719984]\n",
      " [-0.96458721 -0.03701936  0.26115352]\n",
      " [-0.75869954 -0.52236611  0.3892411 ]\n",
      " [-0.89848369 -0.42166027 -0.12218721]\n",
      " [-0.85189265 -0.49740666 -0.16390714]\n",
      " [-0.08865134  0.95458961  0.28442836]\n",
      " [-0.92101055 -0.30935183 -0.23673016]\n",
      " [-0.9315502  -0.20965256  0.29708615]\n",
      " [-0.82505924 -0.51443595 -0.23373653]\n",
      " [-0.83033556 -0.46001527  0.3145296 ]\n",
      " [-0.94038957  0.13505612  0.31213349]\n",
      " [-0.91232622  0.25985038  0.31644672]\n",
      " [-0.89272779  0.00176275  0.45059285]\n",
      " [-0.87289619 -0.1406185  -0.46720299]\n",
      " [-0.65745056 -0.73210901  0.17825575]\n",
      " [-0.80017054 -0.57691598 -0.16399632]\n",
      " [-0.92555779 -0.04088644 -0.37639201]\n",
      " [-0.91765714  0.09767944 -0.38518035]\n",
      " [-0.955446   -0.16260955 -0.2463353 ]\n",
      " [-0.84971929 -0.46367732 -0.25095904]\n",
      " [-0.83528256  0.25620309  0.48648021]\n",
      " [-0.90798557  0.01761704  0.41863087]\n",
      " [-0.92834795  0.13178164  0.34756806]\n",
      " [-0.92108727  0.05003754  0.38612777]\n",
      " [-0.85894579 -0.10602354  0.5009703 ]\n",
      " [-0.94464797  0.2781046   0.17406319]\n",
      " [-0.90446991  0.4144173  -0.10095845]\n",
      " [-0.83686346 -0.54681742 -0.02549712]\n",
      " [-0.96190029  0.15010665 -0.22850786]\n",
      " [-0.89484626 -0.25758079 -0.36455774]\n",
      " [-0.88388461 -0.35842159 -0.30046943]\n",
      " [-0.79716337 -0.2344465   0.55638605]\n",
      " [ 0.81084776 -0.57908005  0.08480806]\n",
      " [-0.9342941   0.33684736 -0.116741  ]\n",
      " [-0.77812654 -0.12117996  0.61630702]\n",
      " [-0.9283123   0.06958895  0.36523083]\n",
      " [-0.95217842  0.22846287  0.20288117]\n",
      " [-0.91551638 -0.12399001  0.38269579]\n",
      " [-0.89139616  0.03926151  0.45152137]\n",
      " [-0.96463948  0.15677732  0.21187623]\n",
      " [-0.93844485  0.07164304  0.3379181 ]\n",
      " [ 0.10141908 -0.98955452 -0.10245005]\n",
      " [ 0.7182911  -0.63876063 -0.2757585 ]\n",
      " [-0.91440481 -0.31957087 -0.24847195]\n",
      " [-0.81720048 -0.47572622  0.32537353]\n",
      " [-0.47011715 -0.12233038 -0.87408537]\n",
      " [-0.88914901 -0.15891369 -0.42913917]\n",
      " [-0.86603016  0.03746723 -0.49858603]\n",
      " [-0.68690002  0.23986557  0.68602699]\n",
      " [-0.89934129  0.12577032  0.4187685 ]\n",
      " [-0.8662762  -0.01368999  0.49937788]\n",
      " [-0.92921001  0.3657164  -0.05310719]\n",
      " [-0.95402688  0.04104564  0.29689705]\n",
      " [-0.53371918 -0.81742424 -0.2167059 ]\n",
      " [-0.77139229 -0.16222043  0.03486567]]\n"
     ]
    }
   ],
   "source": [
    "phonems = pre.get_text(\"data/phonem-rap-lyrics/phonem_all.txt\")\n",
    "\n",
    "vocab_phonem = pre.Vocabulary(phonems)\n",
    "phonem2index = vocab_phonem.word2index\n",
    "index2phonem = vocab_phonem.index2word\n",
    "VOCAB_SIZE_PHONEM = len(index2phonem)\n",
    "\n",
    "# create embedding for phonems\n",
    "phonem_embedding_matrix = emb.get_phonem_embedding_matrix(phonem2index, VOCAB_SIZE_PHONEM)\n",
    "print(phonem_embedding_matrix)"
   ]
  },
  {
   "cell_type": "code",
   "execution_count": 15,
   "metadata": {},
   "outputs": [
    {
     "name": "stdout",
     "output_type": "stream",
     "text": [
      "85\n"
     ]
    }
   ],
   "source": [
    "print(VOCAB_SIZE_PHONEM)"
   ]
  },
  {
   "cell_type": "markdown",
   "metadata": {},
   "source": [
    "## Data Preparation: Split sentences of text"
   ]
  },
  {
   "cell_type": "code",
   "execution_count": 16,
   "metadata": {},
   "outputs": [
    {
     "name": "stdout",
     "output_type": "stream",
     "text": [
      "[(['yeah', 'you', 'know', 'what', 'this', 'is', 'nyc', ';', 'the', 'triumphant', 'return', 'rakim', 'allah', ';', 'rakim', ';'], 'remember'), (['you', 'know', 'what', 'this', 'is', 'nyc', ';', 'the', 'triumphant', 'return', 'rakim', 'allah', ';', 'rakim', ';', 'remember'], 'being'), (['know', 'what', 'this', 'is', 'nyc', ';', 'the', 'triumphant', 'return', 'rakim', 'allah', ';', 'rakim', ';', 'remember', 'being'], 'introduced'), (['what', 'this', 'is', 'nyc', ';', 'the', 'triumphant', 'return', 'rakim', 'allah', ';', 'rakim', ';', 'remember', 'being', 'introduced'], 'to'), (['this', 'is', 'nyc', ';', 'the', 'triumphant', 'return', 'rakim', 'allah', ';', 'rakim', ';', 'remember', 'being', 'introduced', 'to'], 'rapping')]\n"
     ]
    }
   ],
   "source": [
    "word_tokens = text.split()\n",
    "\n",
    "TIMESTEPS = 16\n",
    "\n",
    "str_data, str_labels = pre.create_data_label_pairs(word_tokens, TIMESTEPS)\n",
    "\n",
    "print( list( zip(str_data, str_labels) )[:5] )"
   ]
  },
  {
   "cell_type": "code",
   "execution_count": null,
   "metadata": {},
   "outputs": [],
   "source": []
  },
  {
   "cell_type": "code",
   "execution_count": 17,
   "metadata": {},
   "outputs": [],
   "source": [
    "encoder = tr.IndexWordEncoder(\"Index-Word-Encoding\", word2index)\n",
    "decoder = tr.OneHotWordDecoder(\"1-Hot-Word-Decoding\", index2word, temperature=0.8)\n",
    "\n",
    "data = encoder.encode(str_data)\n",
    "labels = encoder.encode_labels(str_labels)\n",
    "\n",
    "del str_labels\n",
    "del str_data\n",
    "del word_tokens"
   ]
  },
  {
   "cell_type": "code",
   "execution_count": 18,
   "metadata": {},
   "outputs": [
    {
     "name": "stdout",
     "output_type": "stream",
     "text": [
      "(54607, 16)\n",
      "(54607, 4231)\n"
     ]
    }
   ],
   "source": [
    "print(data.shape)\n",
    "print(labels.shape)"
   ]
  },
  {
   "cell_type": "markdown",
   "metadata": {},
   "source": [
    "### TODO: Get seqlens of rap lyrics and phonem"
   ]
  },
  {
   "cell_type": "markdown",
   "metadata": {},
   "source": [
    "## Tensorflow Model"
   ]
  },
  {
   "cell_type": "code",
   "execution_count": 19,
   "metadata": {},
   "outputs": [],
   "source": [
    "PRE_TRAINED = True\n",
    "EPOCHS = 10\n",
    "BATCH_SIZE = 128\n",
    "\n",
    "embedding_dimension = 64\n",
    "embedding_dimension_phonem = 3\n",
    "\n",
    "hidden_layer_size = 32\n",
    "hidden_layer_size_phonem = 16\n",
    "\n",
    "num_LSTM_layers = 4\n",
    "num_LSTM_layers_phonem = 4\n",
    "\n",
    "#times_steps = 16        # TODO max seqlen of rap text sentence\n",
    "times_steps_phonem = 16 # TODO max seqlen of phonem sentence"
   ]
  },
  {
   "cell_type": "markdown",
   "metadata": {},
   "source": [
    "## Create input placeholders"
   ]
  },
  {
   "cell_type": "code",
   "execution_count": null,
   "metadata": {},
   "outputs": [],
   "source": [
    "# create input placeholders\n",
    "'''\n",
    "_inputs = tf.placeholder(tf.int32, shape=[BATCH_SIZE, times_steps])\n",
    "embedding_placeholder = tf.placeholder(tf.float32, [VOCAB_SIZE, emb.GLOVE_SIZE])\n",
    "_labels = tf.placeholder(tf.float32, shape=[BATCH_SIZE, VOCAB_SIZE])\n",
    "_seqlens = tf.placeholder(tf.int32, shape=[BATCH_SIZE])\n",
    "\n",
    "_inputs_phonem = tf.placeholder(tf.int32, shape=[BATCH_SIZE, times_steps_phonem])\n",
    "embedding_placeholder_phonem = tf.placeholder(tf.float32, [VOCAB_SIZE_PHONEM, emb.PHONEM_SIZE])\n",
    "_labels_phonem = tf.placeholder(tf.float32, shape=[BATCH_SIZE, VOCAB_SIZE_PHONEM]) # TODO do we need this? label should be only one?\n",
    "_seqlens_phonem = tf.placeholder(tf.int32, shape=[BATCH_SIZE])\n",
    "'''"
   ]
  },
  {
   "cell_type": "markdown",
   "metadata": {},
   "source": [
    "### Word embedding"
   ]
  },
  {
   "cell_type": "code",
   "execution_count": null,
   "metadata": {},
   "outputs": [],
   "source": [
    "with tf.name_scope(\"embeddings\"):\n",
    "    if PRE_TRAINED:\n",
    "        embeddings = tf.Variable(tf.constant(0.0, shape=[VOCAB_SIZE, emb.GLOVE_SIZE]), trainable=True)\n",
    "        # If using pretrained embeddings, assign them to the embeddings variable\n",
    "        embedding_init = embeddings.assign(embedding_placeholder)\n",
    "        embed = tf.nn.embedding_lookup(embeddings, _inputs)\n",
    "    else:\n",
    "        embeddings = tf.Variable(tf.random_uniform([VOCAB_SIZE, embedding_dimension],\n",
    "                                                   -1.0, 1.0))\n",
    "        embed = tf.nn.embedding_lookup(embeddings, _inputs)"
   ]
  },
  {
   "cell_type": "markdown",
   "metadata": {},
   "source": [
    "### Phonem embedding"
   ]
  },
  {
   "cell_type": "code",
   "execution_count": null,
   "metadata": {},
   "outputs": [],
   "source": [
    "with tf.name_scope(\"embeddings_phonem\"):\n",
    "    if PRE_TRAINED:\n",
    "        embeddings_phonem = tf.Variable(tf.constant(0.0, shape=[VOCAB_SIZE_PHONEM, emb.PHONEM_SIZE]), trainable=True)\n",
    "        # If using pretrained embeddings, assign them to the embeddings variable\n",
    "        embedding_init_phonem = embeddings_phonem.assign(embedding_placeholder_phonem)\n",
    "        embed_phonem = tf.nn.embedding_lookup(embeddings_phonem, _inputs_phonem)\n",
    "    else:\n",
    "        embeddings_phonem = tf.Variable(tf.random_uniform([VOCAB_SIZE_PHONEM, embedding_dimension_phonem],\n",
    "                                                   -1.0, 1.0))\n",
    "        embed_phonem = tf.nn.embedding_lookup(embeddings_phonem, _inputs_phonem)"
   ]
  },
  {
   "cell_type": "markdown",
   "metadata": {},
   "source": [
    "### LSTM words"
   ]
  },
  {
   "cell_type": "code",
   "execution_count": 20,
   "metadata": {},
   "outputs": [],
   "source": [
    "seed_text = \"yeah you know what this is nyc ; the triumphant return rakim allah ; rakim ; remember being introduced to rapping your first rhyme ;\"\n",
    "sampler = lambda trainable, _: tr.sample(seed_text, trainable, encoder, decoder, length=20)"
   ]
  },
  {
   "cell_type": "code",
   "execution_count": 21,
   "metadata": {},
   "outputs": [
    {
     "name": "stdout",
     "output_type": "stream",
     "text": [
      "WARNING:tensorflow:From /Users/rene/workspace/Tensorflow/.pyenv/lib/python3.7/site-packages/tensorflow/python/framework/op_def_library.py:263: colocate_with (from tensorflow.python.framework.ops) is deprecated and will be removed in a future version.\n",
      "Instructions for updating:\n",
      "Colocations handled automatically by placer.\n",
      "WARNING:tensorflow:From /Users/rene/workspace/Tensorflow/Seminar NLP/Project/deep-rap/tools/architectures.py:239: LSTMCell.__init__ (from tensorflow.python.ops.rnn_cell_impl) is deprecated and will be removed in a future version.\n",
      "Instructions for updating:\n",
      "This class is equivalent as tf.keras.layers.LSTMCell, and will be replaced by that in Tensorflow 2.0.\n",
      "\n",
      "WARNING: The TensorFlow contrib module will not be included in TensorFlow 2.0.\n",
      "For more information, please see:\n",
      "  * https://github.com/tensorflow/community/blob/master/rfcs/20180907-contrib-sunset.md\n",
      "  * https://github.com/tensorflow/addons\n",
      "If you depend on functionality not listed there, please file an issue.\n",
      "\n",
      "WARNING:tensorflow:From /Users/rene/workspace/Tensorflow/Seminar NLP/Project/deep-rap/tools/architectures.py:242: MultiRNNCell.__init__ (from tensorflow.python.ops.rnn_cell_impl) is deprecated and will be removed in a future version.\n",
      "Instructions for updating:\n",
      "This class is equivalent as tf.keras.layers.StackedRNNCells, and will be replaced by that in Tensorflow 2.0.\n",
      "WARNING:tensorflow:From /Users/rene/workspace/Tensorflow/Seminar NLP/Project/deep-rap/tools/architectures.py:501: dynamic_rnn (from tensorflow.python.ops.rnn) is deprecated and will be removed in a future version.\n",
      "Instructions for updating:\n",
      "Please use `keras.layers.RNN(cell)`, which is equivalent to this API\n",
      "WARNING:tensorflow:From /Users/rene/workspace/Tensorflow/.pyenv/lib/python3.7/site-packages/tensorflow/python/ops/array_grad.py:425: to_int32 (from tensorflow.python.ops.math_ops) is deprecated and will be removed in a future version.\n",
      "Instructions for updating:\n",
      "Use tf.cast instead.\n",
      "Building model from scratch! \n",
      " Saving into: 'logs/10-test-glove-2'\n",
      "\n",
      "\n",
      "Epoch 1/10\n",
      "Loss:    \t 5.897898197174072\n",
      "Accuracy:\t 10.864907264709473\n",
      "------Sampling----------\n",
      "seed: \n",
      "yeah you know what this is nyc ; the triumphant return rakim allah ; rakim ; remember being introduced to rapping your first rhyme ;\n",
      "-\n",
      "result: \n",
      "yeah you know what this is nyc ; the triumphant return rakim allah ; rakim ; remember being introduced to rapping your first rhyme ; not ; i what i ; for i soul from brochure of underestimated i aggravate it all through the ;\n",
      "\n",
      "\n",
      "Epoch 2/10\n",
      "Loss:    \t 5.888241291046143\n",
      "Accuracy:\t 10.864907264709473\n",
      "------Sampling----------\n",
      "seed: \n",
      "yeah you know what this is nyc ; the triumphant return rakim allah ; rakim ; remember being introduced to rapping your first rhyme ;\n",
      "-\n",
      "result: \n",
      "yeah you know what this is nyc ; the triumphant return rakim allah ; rakim ; remember being introduced to rapping your first rhyme ; ; am ; write ; i more ; suck be he ; they the mind i ; i pass yo\n",
      "\n",
      "\n",
      "Epoch 3/10\n",
      "Loss:    \t 5.886137008666992\n",
      "Accuracy:\t 10.864907264709473\n",
      "------Sampling----------\n",
      "seed: \n",
      "yeah you know what this is nyc ; the triumphant return rakim allah ; rakim ; remember being introduced to rapping your first rhyme ;\n",
      "-\n",
      "result: \n",
      "yeah you know what this is nyc ; the triumphant return rakim allah ; rakim ; remember being introduced to rapping your first rhyme ; ; is the the wanna the ; they the let ; to ; you i come broke ; ; ;\n",
      "\n",
      "\n",
      "Epoch 4/10\n",
      "Loss:    \t 5.777859210968018\n",
      "Accuracy:\t 10.864907264709473\n",
      "------Sampling----------\n",
      "seed: \n",
      "yeah you know what this is nyc ; the triumphant return rakim allah ; rakim ; remember being introduced to rapping your first rhyme ;\n",
      "-\n",
      "result: \n",
      "yeah you know what this is nyc ; the triumphant return rakim allah ; rakim ; remember being introduced to rapping your first rhyme ; ; it not mic the might so triumphant go ; ; is and chips it ; x the rhythm you\n",
      "\n",
      "\n",
      "Epoch 5/10\n",
      "Loss:    \t 5.65638542175293\n",
      "Accuracy:\t 11.247642517089844\n",
      "------Sampling----------\n",
      "seed: \n",
      "yeah you know what this is nyc ; the triumphant return rakim allah ; rakim ; remember being introduced to rapping your first rhyme ;\n",
      "-\n",
      "result: \n",
      "yeah you know what this is nyc ; the triumphant return rakim allah ; rakim ; remember being introduced to rapping your first rhyme ; ; in in slave me on ; the and correct i in the entertainer ; and yo ; you ;\n",
      "\n",
      "\n",
      "Epoch 6/10\n",
      "Loss:    \t 5.553585052490234\n",
      "Accuracy:\t 12.137638092041016\n",
      "------Sampling----------\n",
      "seed: \n",
      "yeah you know what this is nyc ; the triumphant return rakim allah ; rakim ; remember being introduced to rapping your first rhyme ;\n",
      "-\n",
      "result: \n",
      "yeah you know what this is nyc ; the triumphant return rakim allah ; rakim ; remember being introduced to rapping your first rhyme ; say ; it is rub to all sense for remain ; my chorus ; the nowaday ; on in drop\n",
      "\n",
      "\n",
      "Epoch 7/10\n",
      "Loss:    \t 5.453953266143799\n",
      "Accuracy:\t 13.304154396057129\n",
      "------Sampling----------\n",
      "seed: \n",
      "yeah you know what this is nyc ; the triumphant return rakim allah ; rakim ; remember being introduced to rapping your first rhyme ;\n",
      "-\n",
      "result: \n",
      "yeah you know what this is nyc ; the triumphant return rakim allah ; rakim ; remember being introduced to rapping your first rhyme ; on we the scream she the decaying kids ; a scene this i know and i and i living it\n",
      "\n",
      "\n",
      "Epoch 8/10\n",
      "Loss:    \t 5.3992085456848145\n",
      "Accuracy:\t 13.941435813903809\n",
      "------Sampling----------\n",
      "seed: \n",
      "yeah you know what this is nyc ; the triumphant return rakim allah ; rakim ; remember being introduced to rapping your first rhyme ;\n",
      "-\n",
      "result: \n",
      "yeah you know what this is nyc ; the triumphant return rakim allah ; rakim ; remember being introduced to rapping your first rhyme ; the coming ; stay sleep through the body property is along ; ; the crimedanch ; that another mic too\n",
      "\n",
      "\n",
      "Epoch 9/10\n",
      "Loss:    \t 5.388327121734619\n",
      "Accuracy:\t 13.646602630615234\n",
      "------Sampling----------\n",
      "seed: \n",
      "yeah you know what this is nyc ; the triumphant return rakim allah ; rakim ; remember being introduced to rapping your first rhyme ;\n",
      "-\n",
      "result: \n",
      "yeah you know what this is nyc ; the triumphant return rakim allah ; rakim ; remember being introduced to rapping your first rhyme ; if rhyme the mic in hold to invade you bible dough and from the squeeze ; and begun is be\n",
      "\n",
      "\n",
      "Epoch 10/10\n",
      "Loss:    \t 5.269872665405273\n",
      "Accuracy:\t 15.117109298706055\n",
      "------Sampling----------\n",
      "seed: \n",
      "yeah you know what this is nyc ; the triumphant return rakim allah ; rakim ; remember being introduced to rapping your first rhyme ;\n",
      "-\n",
      "result: \n",
      "yeah you know what this is nyc ; the triumphant return rakim allah ; rakim ; remember being introduced to rapping your first rhyme ; might real locked ; earth from disaster your file ; and the same brother soul and can hoping ; your\n"
     ]
    }
   ],
   "source": [
    "rnn_words = nn.MultiLayerRNN_v2(name=\"lstm-words\")\n",
    "rnn_words.build(num_LSTM_layers, hidden_layer_size, VOCAB_SIZE, TIMESTEPS, l2_reg=0.0, embedding_dim=emb.GLOVE_SIZE)\n",
    "tr.train_model(rnn_words, data, labels, sampler, epochs=EPOCHS, batch_size=BATCH_SIZE, log_dir=\"logs/10-test-glove-2\", retrain=False)"
   ]
  },
  {
   "cell_type": "code",
   "execution_count": 14,
   "metadata": {},
   "outputs": [
    {
     "data": {
      "text/plain": [
       "'\\nwith tf.variable_scope(\"lstm\"):\\n    # Define a function that gives the output in the right shape\\n    def lstm_cell():\\n        return tf.nn.rnn_cell.LSTMCell(hidden_layer_size, forget_bias=1.0)\\n    cell = tf.contrib.rnn.MultiRNNCell(cells=[lstm_cell() for _ in range(num_LSTM_layers)],\\n                                       state_is_tuple=True)\\n    outputs, states = tf.nn.dynamic_rnn(cell, embed,\\n                                        sequence_length=_seqlens,\\n                                        dtype=tf.float32)\\n'"
      ]
     },
     "execution_count": 14,
     "metadata": {},
     "output_type": "execute_result"
    }
   ],
   "source": [
    "\"\"\"\n",
    "with tf.variable_scope(\"lstm\"):\n",
    "    # Define a function that gives the output in the right shape\n",
    "    def lstm_cell():\n",
    "        return tf.nn.rnn_cell.LSTMCell(hidden_layer_size, forget_bias=1.0)\n",
    "    cell = tf.contrib.rnn.MultiRNNCell(cells=[lstm_cell() for _ in range(num_LSTM_layers)],\n",
    "                                       state_is_tuple=True)\n",
    "    outputs, states = tf.nn.dynamic_rnn(cell, embed,\n",
    "                                        sequence_length=_seqlens,\n",
    "                                        dtype=tf.float32)\n",
    "\"\"\""
   ]
  },
  {
   "cell_type": "markdown",
   "metadata": {},
   "source": [
    "### LSTM phonem"
   ]
  },
  {
   "cell_type": "code",
   "execution_count": null,
   "metadata": {},
   "outputs": [],
   "source": [
    "with tf.variable_scope(\"lstm_phonem\"):\n",
    "    # Define a function that gives the output in the right shape\n",
    "    def lstm_cell_phonem():\n",
    "        return tf.nn.rnn_cell.LSTMCell(hidden_layer_size_phonem, forget_bias=1.0)\n",
    "    cell_phonem = tf.contrib.rnn.MultiRNNCell(cells=[lstm_cell_phonem() for _ in range(num_LSTM_layers_phonem)],\n",
    "                                       state_is_tuple=True)\n",
    "    outputs_phonem, states_phonem = tf.nn.dynamic_rnn(cell_phonem, embed_phonem,\n",
    "                                        sequence_length=_seqlens_phonem,\n",
    "                                        dtype=tf.float32)"
   ]
  },
  {
   "cell_type": "code",
   "execution_count": null,
   "metadata": {},
   "outputs": [],
   "source": []
  }
 ],
 "metadata": {
  "kernelspec": {
   "display_name": "Python 3",
   "language": "python",
   "name": "python3"
  },
  "language_info": {
   "codemirror_mode": {
    "name": "ipython",
    "version": 3
   },
   "file_extension": ".py",
   "mimetype": "text/x-python",
   "name": "python",
   "nbconvert_exporter": "python",
   "pygments_lexer": "ipython3",
   "version": "3.7.2"
  }
 },
 "nbformat": 4,
 "nbformat_minor": 2
}
