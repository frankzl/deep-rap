{
 "cells": [
  {
   "cell_type": "code",
   "execution_count": 1,
   "metadata": {},
   "outputs": [],
   "source": [
    "import tools.processing as pre\n",
    "import tools.architectures as nn"
   ]
  },
  {
   "cell_type": "code",
   "execution_count": 2,
   "metadata": {},
   "outputs": [],
   "source": [
    "text = pre.get_text(\"data/cleaned-rap-lyrics/clean2_pac_.txt\")"
   ]
  },
  {
   "cell_type": "code",
   "execution_count": 3,
   "metadata": {},
   "outputs": [
    {
     "data": {
      "text/plain": [
       "\"as real as it seems the american dream\\nain't nothing but another calculated schemes\\nto get us locked\""
      ]
     },
     "execution_count": 3,
     "metadata": {},
     "output_type": "execute_result"
    }
   ],
   "source": [
    "text[:100]"
   ]
  },
  {
   "cell_type": "code",
   "execution_count": 4,
   "metadata": {},
   "outputs": [
    {
     "name": "stdout",
     "output_type": "stream",
     "text": [
      "(35, 10)\n",
      "(?, 50)\n",
      "\n",
      "\n",
      "Epoch 1/20\n",
      "Loss:    \t 3.552924871444702\n",
      "Accuracy:\t 1.213804841041565\n",
      "Seed:as real as it seems the american dream\n",
      "ain't nothi\n",
      "Result:as real as it seems the american dream\n",
      "ain't nothitrey be se se ben the the the me hed the tit so rhiy thet that tin\n",
      "th the the the me got me whe be mhe withe ge te mel ba the ke the she mhe the the te the ta se icin whe ghe le in toc iit nome mon bhe cen the we the than thei uot tod dat tan the b anr in n tan thee ne tt in aot an fe no thino the the ptat cot ti me has tac olt fo e the sh te' that is mo than  in then aa got se thenl got in butr aan the she de the tan the che en thache pa non se the gocat bed tha the net ton the ghe ba the fit t\n",
      "\n",
      "\n",
      "Epoch 2/20\n",
      "Loss:    \t 2.570075750350952\n",
      "Accuracy:\t 26.353328704833984\n",
      "Seed:as real as it seems the american dream\n",
      "ain't nothi\n",
      "Result:as real as it seems the american dream\n",
      "ain't nothin the inin the bat the the illt min i me tha gherin' whe le kuthhe ing secope i mathe we wack thithed tat the the the bat\n",
      "in's out sout they wof so the pout fom sout ther s wat in' the gou oul the thea the bun the a a thas thet ni gout nuthe the ge shouce the moun a bang in the on the met sot al in tow the the the coun a gease she nafe in tou the ther bunk buthe wate in ther ind yhe myoun ther thet in and ning thit the pe ouce the cuthe thas to the the sa't pin the the the be an the the the ble \n",
      "\n",
      "\n",
      "Epoch 3/20\n",
      "Loss:    \t 2.3533952236175537\n",
      "Accuracy:\t 30.910730361938477\n",
      "Seed:as real as it seems the american dream\n",
      "ain't nothi\n",
      "Result:as real as it seems the american dream\n",
      "ain't nothind the mingt ale  ull win' the bing the non rhee the beathe she kat and a the gou biv the sere the was and bung a shas cort i they in't un the be southas the cucker but southe cathe be they a's bume the she sit be gope\n",
      "hot to colk i' in the yout jack the an tos cank\n",
      "rang rot thot the nrack the soun and thet you sean the the thet the sou the soughe thas an in i were woy won the the bun the me and nin'un a a besthe the sousin' the coun i bot tin gorin ather and a ang the thar the bemin the bick be\n",
      "\n",
      "\n",
      "Epoch 4/20\n",
      "Loss:    \t 2.2511558532714844\n",
      "Accuracy:\t 33.2357292175293\n",
      "Seed:as real as it seems the american dream\n",
      "ain't nothi\n",
      "Result:as real as it seems the american dream\n",
      "ain't nothin the got i gope the cathe wingin'' thack and the couck ther the shote a couge the me the bat a got a wane the bunk and and thind wank and couch\n",
      "i' back ous helly gor the the stather on they gop the der you cuthe rack the my and on the my mest the che the cout and the bust tho muck the soull a a me kinghet and at as a geat and i cow the wouls the backe and you the and on the whe be coughe mi goun the sicke ta beagher on the soun the bot the gank nuthe gat the the the but the conkin' a cope ther \n",
      "\n",
      "\n",
      "Epoch 5/20\n",
      "Loss:    \t 2.1801390647888184\n",
      "Accuracy:\t 35.6933708190918\n",
      "Seed:as real as it seems the american dream\n",
      "ain't nothi\n",
      "Result:as real as it seems the american dream\n",
      "ain't nothin' i mingin the peast on the sole ou garl the the mother the catser mack ay shey ou be the peave wank a gut the coughed a but she shat wingtat ald the she here the thinged i gith the tore ald see a the pith the a cout there the gat my muthey you sthey golle so has i gopse they jrangos and mome to be the wone me the shinger got fow woll\n",
      "and all\n",
      "in the buthin the shithery but ald soun ghe then the the the sout\n",
      "il hast an the bust he cuther but the the buch you i the sousl the buther i'm messe the \n",
      "\n",
      "\n",
      "Epoch 6/20\n",
      "Loss:    \t 2.1221327781677246\n",
      "Accuracy:\t 38.035888671875\n",
      "Seed:as real as it seems the american dream\n",
      "ain't nothi\n",
      "Result:as real as it seems the american dream\n",
      "ain't nothin\n",
      "the bever coul the the gotd nit the bick the i blos the the sith the sick the southire a seat the gorn the pey but the cother a gond whe the sinl pe ther thend a gong a bast the pother me to hey gee in the the funk\n",
      "the heath the he facd a ganded stet you gat i gott the peant and a but the cath the poke they the the cous\n",
      "a meat the and and the canger the bey dors me\n",
      "the mone reat the buck the gor bus and thet in the cound the trese i minge\n",
      "soun the ges be\n",
      "the cound but me and the cill i'm ther \n",
      "\n",
      "\n",
      "Epoch 7/20\n",
      "Loss:    \t 2.070660352706909\n",
      "Accuracy:\t 39.026954650878906\n",
      "Seed:as real as it seems the american dream\n",
      "ain't nothi\n",
      "Result:as real as it seems the american dream\n",
      "ain't nothin the wead the but the pith the wink the bees be a gots on i gell the beat that the now the longer il hela you but the beat the ficgas binge the cow the me the and of the coult\n",
      "hey heat and couck she my shet the be ald the bot the cound a dong but the beate reaca i whouk i me a dound to the got some the pat wighe hot the bean the get the wats pean ger belas morin' to ke casse bot the gittale the bast the wast get beel i cand she whe makinn the sousher the get my sits a cousin the trink the thet \n",
      "\n",
      "\n",
      "Epoch 8/20\n",
      "Loss:    \t 2.0223708152770996\n",
      "Accuracy:\t 40.115623474121094\n",
      "Seed:as real as it seems the american dream\n",
      "ain't nothi\n",
      "Result:as real as it seems the american dream\n",
      "ain't nothin she beat my i'm they and my bucker bein' and neall the ligga\n",
      "a got ste me on the but to get me a ghet i bust men\n",
      "can hit thot in me on the be\n",
      "the coust to rope the gorger the pore to me and me the wingt whe stat me an the srith as\n",
      "het the mear me the stope the pert i southe i trast the but the but the stey in thit they and to me my me they gopp\n",
      "me\n",
      "gead the came be the the dene all thep the shat and ther be you but me the sould a cound be sout the sefer with me the wrechar me the kinger stey an\n",
      "\n",
      "\n",
      "Epoch 9/20\n",
      "Loss:    \t 1.9770148992538452\n",
      "Accuracy:\t 41.404510498046875\n"
     ]
    },
    {
     "ename": "KeyboardInterrupt",
     "evalue": "",
     "output_type": "error",
     "traceback": [
      "\u001b[0;31m---------------------------------------------------------------------------\u001b[0m",
      "\u001b[0;31mKeyboardInterrupt\u001b[0m                         Traceback (most recent call last)",
      "\u001b[0;32m<ipython-input-4-b02085019069>\u001b[0m in \u001b[0;36m<module>\u001b[0;34m\u001b[0m\n\u001b[1;32m     21\u001b[0m \u001b[0;34m\u001b[0m\u001b[0m\n\u001b[1;32m     22\u001b[0m \u001b[0;31m# rnn.train(data, labels, alphabet, epochs=EPOCHS, batch_size=BATCH_SIZE)\u001b[0m\u001b[0;34m\u001b[0m\u001b[0;34m\u001b[0m\u001b[0;34m\u001b[0m\u001b[0m\n\u001b[0;32m---> 23\u001b[0;31m \u001b[0mnn\u001b[0m\u001b[0;34m.\u001b[0m\u001b[0mtrain\u001b[0m\u001b[0;34m(\u001b[0m\u001b[0mrnn\u001b[0m\u001b[0;34m,\u001b[0m \u001b[0mdata\u001b[0m\u001b[0;34m,\u001b[0m \u001b[0mlabels\u001b[0m\u001b[0;34m,\u001b[0m \u001b[0malphabet\u001b[0m\u001b[0;34m,\u001b[0m \u001b[0mepochs\u001b[0m\u001b[0;34m=\u001b[0m\u001b[0mEPOCHS\u001b[0m\u001b[0;34m,\u001b[0m \u001b[0mbatch_size\u001b[0m\u001b[0;34m=\u001b[0m\u001b[0mBATCH_SIZE\u001b[0m\u001b[0;34m,\u001b[0m \u001b[0membedding\u001b[0m\u001b[0;34m=\u001b[0m\u001b[0;32mTrue\u001b[0m\u001b[0;34m)\u001b[0m\u001b[0;34m\u001b[0m\u001b[0;34m\u001b[0m\u001b[0m\n\u001b[0m",
      "\u001b[0;32m~/coding/deep-rap/tools/architectures.py\u001b[0m in \u001b[0;36mtrain\u001b[0;34m(trainable, train_data, train_labels, alphabet, epochs, batch_size, temperature, embedding)\u001b[0m\n\u001b[1;32m     52\u001b[0m                                feed_dict={\n\u001b[1;32m     53\u001b[0m                                    \u001b[0mtrainable\u001b[0m\u001b[0;34m.\u001b[0m\u001b[0mX\u001b[0m\u001b[0;34m:\u001b[0m \u001b[0mtrain_data\u001b[0m\u001b[0;34m[\u001b[0m\u001b[0mbatch_ixs\u001b[0m\u001b[0;34m]\u001b[0m\u001b[0;34m,\u001b[0m\u001b[0;34m\u001b[0m\u001b[0;34m\u001b[0m\u001b[0m\n\u001b[0;32m---> 54\u001b[0;31m                                    \u001b[0mtrainable\u001b[0m\u001b[0;34m.\u001b[0m\u001b[0mY\u001b[0m\u001b[0;34m:\u001b[0m \u001b[0mtrain_labels\u001b[0m\u001b[0;34m[\u001b[0m\u001b[0mbatch_ixs\u001b[0m\u001b[0;34m]\u001b[0m\u001b[0;34m,\u001b[0m\u001b[0;34m\u001b[0m\u001b[0;34m\u001b[0m\u001b[0m\n\u001b[0m\u001b[1;32m     55\u001b[0m                                })\n\u001b[1;32m     56\u001b[0m             tr_loss, tr_acc = session.run([trainable.loss, trainable.accuracy],\n",
      "\u001b[0;32m~/.envs/env36-ml/.venv/lib/python3.6/site-packages/tensorflow/python/client/session.py\u001b[0m in \u001b[0;36mrun\u001b[0;34m(self, fetches, feed_dict, options, run_metadata)\u001b[0m\n\u001b[1;32m    927\u001b[0m     \u001b[0;32mtry\u001b[0m\u001b[0;34m:\u001b[0m\u001b[0;34m\u001b[0m\u001b[0;34m\u001b[0m\u001b[0m\n\u001b[1;32m    928\u001b[0m       result = self._run(None, fetches, feed_dict, options_ptr,\n\u001b[0;32m--> 929\u001b[0;31m                          run_metadata_ptr)\n\u001b[0m\u001b[1;32m    930\u001b[0m       \u001b[0;32mif\u001b[0m \u001b[0mrun_metadata\u001b[0m\u001b[0;34m:\u001b[0m\u001b[0;34m\u001b[0m\u001b[0;34m\u001b[0m\u001b[0m\n\u001b[1;32m    931\u001b[0m         \u001b[0mproto_data\u001b[0m \u001b[0;34m=\u001b[0m \u001b[0mtf_session\u001b[0m\u001b[0;34m.\u001b[0m\u001b[0mTF_GetBuffer\u001b[0m\u001b[0;34m(\u001b[0m\u001b[0mrun_metadata_ptr\u001b[0m\u001b[0;34m)\u001b[0m\u001b[0;34m\u001b[0m\u001b[0;34m\u001b[0m\u001b[0m\n",
      "\u001b[0;32m~/.envs/env36-ml/.venv/lib/python3.6/site-packages/tensorflow/python/client/session.py\u001b[0m in \u001b[0;36m_run\u001b[0;34m(self, handle, fetches, feed_dict, options, run_metadata)\u001b[0m\n\u001b[1;32m   1150\u001b[0m     \u001b[0;32mif\u001b[0m \u001b[0mfinal_fetches\u001b[0m \u001b[0;32mor\u001b[0m \u001b[0mfinal_targets\u001b[0m \u001b[0;32mor\u001b[0m \u001b[0;34m(\u001b[0m\u001b[0mhandle\u001b[0m \u001b[0;32mand\u001b[0m \u001b[0mfeed_dict_tensor\u001b[0m\u001b[0;34m)\u001b[0m\u001b[0;34m:\u001b[0m\u001b[0;34m\u001b[0m\u001b[0;34m\u001b[0m\u001b[0m\n\u001b[1;32m   1151\u001b[0m       results = self._do_run(handle, final_targets, final_fetches,\n\u001b[0;32m-> 1152\u001b[0;31m                              feed_dict_tensor, options, run_metadata)\n\u001b[0m\u001b[1;32m   1153\u001b[0m     \u001b[0;32melse\u001b[0m\u001b[0;34m:\u001b[0m\u001b[0;34m\u001b[0m\u001b[0;34m\u001b[0m\u001b[0m\n\u001b[1;32m   1154\u001b[0m       \u001b[0mresults\u001b[0m \u001b[0;34m=\u001b[0m \u001b[0;34m[\u001b[0m\u001b[0;34m]\u001b[0m\u001b[0;34m\u001b[0m\u001b[0;34m\u001b[0m\u001b[0m\n",
      "\u001b[0;32m~/.envs/env36-ml/.venv/lib/python3.6/site-packages/tensorflow/python/client/session.py\u001b[0m in \u001b[0;36m_do_run\u001b[0;34m(self, handle, target_list, fetch_list, feed_dict, options, run_metadata)\u001b[0m\n\u001b[1;32m   1326\u001b[0m     \u001b[0;32mif\u001b[0m \u001b[0mhandle\u001b[0m \u001b[0;32mis\u001b[0m \u001b[0;32mNone\u001b[0m\u001b[0;34m:\u001b[0m\u001b[0;34m\u001b[0m\u001b[0;34m\u001b[0m\u001b[0m\n\u001b[1;32m   1327\u001b[0m       return self._do_call(_run_fn, feeds, fetches, targets, options,\n\u001b[0;32m-> 1328\u001b[0;31m                            run_metadata)\n\u001b[0m\u001b[1;32m   1329\u001b[0m     \u001b[0;32melse\u001b[0m\u001b[0;34m:\u001b[0m\u001b[0;34m\u001b[0m\u001b[0;34m\u001b[0m\u001b[0m\n\u001b[1;32m   1330\u001b[0m       \u001b[0;32mreturn\u001b[0m \u001b[0mself\u001b[0m\u001b[0;34m.\u001b[0m\u001b[0m_do_call\u001b[0m\u001b[0;34m(\u001b[0m\u001b[0m_prun_fn\u001b[0m\u001b[0;34m,\u001b[0m \u001b[0mhandle\u001b[0m\u001b[0;34m,\u001b[0m \u001b[0mfeeds\u001b[0m\u001b[0;34m,\u001b[0m \u001b[0mfetches\u001b[0m\u001b[0;34m)\u001b[0m\u001b[0;34m\u001b[0m\u001b[0;34m\u001b[0m\u001b[0m\n",
      "\u001b[0;32m~/.envs/env36-ml/.venv/lib/python3.6/site-packages/tensorflow/python/client/session.py\u001b[0m in \u001b[0;36m_do_call\u001b[0;34m(self, fn, *args)\u001b[0m\n\u001b[1;32m   1332\u001b[0m   \u001b[0;32mdef\u001b[0m \u001b[0m_do_call\u001b[0m\u001b[0;34m(\u001b[0m\u001b[0mself\u001b[0m\u001b[0;34m,\u001b[0m \u001b[0mfn\u001b[0m\u001b[0;34m,\u001b[0m \u001b[0;34m*\u001b[0m\u001b[0margs\u001b[0m\u001b[0;34m)\u001b[0m\u001b[0;34m:\u001b[0m\u001b[0;34m\u001b[0m\u001b[0;34m\u001b[0m\u001b[0m\n\u001b[1;32m   1333\u001b[0m     \u001b[0;32mtry\u001b[0m\u001b[0;34m:\u001b[0m\u001b[0;34m\u001b[0m\u001b[0;34m\u001b[0m\u001b[0m\n\u001b[0;32m-> 1334\u001b[0;31m       \u001b[0;32mreturn\u001b[0m \u001b[0mfn\u001b[0m\u001b[0;34m(\u001b[0m\u001b[0;34m*\u001b[0m\u001b[0margs\u001b[0m\u001b[0;34m)\u001b[0m\u001b[0;34m\u001b[0m\u001b[0;34m\u001b[0m\u001b[0m\n\u001b[0m\u001b[1;32m   1335\u001b[0m     \u001b[0;32mexcept\u001b[0m \u001b[0merrors\u001b[0m\u001b[0;34m.\u001b[0m\u001b[0mOpError\u001b[0m \u001b[0;32mas\u001b[0m \u001b[0me\u001b[0m\u001b[0;34m:\u001b[0m\u001b[0;34m\u001b[0m\u001b[0;34m\u001b[0m\u001b[0m\n\u001b[1;32m   1336\u001b[0m       \u001b[0mmessage\u001b[0m \u001b[0;34m=\u001b[0m \u001b[0mcompat\u001b[0m\u001b[0;34m.\u001b[0m\u001b[0mas_text\u001b[0m\u001b[0;34m(\u001b[0m\u001b[0me\u001b[0m\u001b[0;34m.\u001b[0m\u001b[0mmessage\u001b[0m\u001b[0;34m)\u001b[0m\u001b[0;34m\u001b[0m\u001b[0;34m\u001b[0m\u001b[0m\n",
      "\u001b[0;32m~/.envs/env36-ml/.venv/lib/python3.6/site-packages/tensorflow/python/client/session.py\u001b[0m in \u001b[0;36m_run_fn\u001b[0;34m(feed_dict, fetch_list, target_list, options, run_metadata)\u001b[0m\n\u001b[1;32m   1317\u001b[0m       \u001b[0mself\u001b[0m\u001b[0;34m.\u001b[0m\u001b[0m_extend_graph\u001b[0m\u001b[0;34m(\u001b[0m\u001b[0;34m)\u001b[0m\u001b[0;34m\u001b[0m\u001b[0;34m\u001b[0m\u001b[0m\n\u001b[1;32m   1318\u001b[0m       return self._call_tf_sessionrun(\n\u001b[0;32m-> 1319\u001b[0;31m           options, feed_dict, fetch_list, target_list, run_metadata)\n\u001b[0m\u001b[1;32m   1320\u001b[0m \u001b[0;34m\u001b[0m\u001b[0m\n\u001b[1;32m   1321\u001b[0m     \u001b[0;32mdef\u001b[0m \u001b[0m_prun_fn\u001b[0m\u001b[0;34m(\u001b[0m\u001b[0mhandle\u001b[0m\u001b[0;34m,\u001b[0m \u001b[0mfeed_dict\u001b[0m\u001b[0;34m,\u001b[0m \u001b[0mfetch_list\u001b[0m\u001b[0;34m)\u001b[0m\u001b[0;34m:\u001b[0m\u001b[0;34m\u001b[0m\u001b[0;34m\u001b[0m\u001b[0m\n",
      "\u001b[0;32m~/.envs/env36-ml/.venv/lib/python3.6/site-packages/tensorflow/python/client/session.py\u001b[0m in \u001b[0;36m_call_tf_sessionrun\u001b[0;34m(self, options, feed_dict, fetch_list, target_list, run_metadata)\u001b[0m\n\u001b[1;32m   1405\u001b[0m     return tf_session.TF_SessionRun_wrapper(\n\u001b[1;32m   1406\u001b[0m         \u001b[0mself\u001b[0m\u001b[0;34m.\u001b[0m\u001b[0m_session\u001b[0m\u001b[0;34m,\u001b[0m \u001b[0moptions\u001b[0m\u001b[0;34m,\u001b[0m \u001b[0mfeed_dict\u001b[0m\u001b[0;34m,\u001b[0m \u001b[0mfetch_list\u001b[0m\u001b[0;34m,\u001b[0m \u001b[0mtarget_list\u001b[0m\u001b[0;34m,\u001b[0m\u001b[0;34m\u001b[0m\u001b[0;34m\u001b[0m\u001b[0m\n\u001b[0;32m-> 1407\u001b[0;31m         run_metadata)\n\u001b[0m\u001b[1;32m   1408\u001b[0m \u001b[0;34m\u001b[0m\u001b[0m\n\u001b[1;32m   1409\u001b[0m   \u001b[0;32mdef\u001b[0m \u001b[0m_call_tf_sessionprun\u001b[0m\u001b[0;34m(\u001b[0m\u001b[0mself\u001b[0m\u001b[0;34m,\u001b[0m \u001b[0mhandle\u001b[0m\u001b[0;34m,\u001b[0m \u001b[0mfeed_dict\u001b[0m\u001b[0;34m,\u001b[0m \u001b[0mfetch_list\u001b[0m\u001b[0;34m)\u001b[0m\u001b[0;34m:\u001b[0m\u001b[0;34m\u001b[0m\u001b[0;34m\u001b[0m\u001b[0m\n",
      "\u001b[0;31mKeyboardInterrupt\u001b[0m: "
     ]
    }
   ],
   "source": [
    "alphabet = pre.Alphabet(text)\n",
    "\n",
    "HIDDEN_LAYER_SIZE = 128\n",
    "VOCAB_SIZE = alphabet.get_size()\n",
    "TIMESTEPS = 50\n",
    "\n",
    "EPOCHS = 20\n",
    "BATCH_SIZE = 128\n",
    "\n",
    "EMBEDDING_SIZE = 10\n",
    "\n",
    "\n",
    "# data, labels = alphabet.making_one_hot(text, TIMESTEPS)\n",
    "data, labels = alphabet.making_embedded_one_hot(text, TIMESTEPS)\n",
    "\n",
    "embedding = nn.LeanableEmbedding(name = \"learnable-embedding\")\n",
    "embedding.build(VOCAB_SIZE, EMBEDDING_SIZE)\n",
    "\n",
    "rnn = nn.SingleLayerRNN(name = \"basic\")\n",
    "rnn.build(HIDDEN_LAYER_SIZE, VOCAB_SIZE, TIMESTEPS, l2_reg=0.0, embedding=embedding)\n",
    "\n",
    "# rnn.train(data, labels, alphabet, epochs=EPOCHS, batch_size=BATCH_SIZE)\n",
    "nn.train(rnn, data, labels, alphabet, epochs=EPOCHS, batch_size=BATCH_SIZE, embedding=True)"
   ]
  },
  {
   "cell_type": "code",
   "execution_count": null,
   "metadata": {},
   "outputs": [],
   "source": [
    "import tensorflow as tf\n",
    "import tools.processing as pre\n",
    "import tools.architectures as nn\n",
    "\n",
    "vocabulary_size = 35\n",
    "embedding_dimension = 10\n",
    "\n",
    "_inputs = tf.placeholder(tf.int32, shape=[None, TIMESTEPS])\n",
    "\n",
    "with tf.name_scope(\"embeddings\"):\n",
    "    embeddings = tf.Variable(\n",
    "        tf.random_uniform([vocabulary_size,\n",
    "                           embedding_dimension],\n",
    "                          -1.0, 1.0), name='embedding')\n",
    "    print(embeddings.shape)\n",
    "    print(_inputs.shape)\n",
    "    embed = tf.nn.embedding_lookup(embeddings, _inputs)\n",
    "\n",
    "with tf.Session() as sess:\n",
    "    sess.run(tf.global_variables_initializer())\n",
    "    embed = sess.run(embed, feed_dict={_inputs: data})\n",
    "    \n",
    "print(embed.shape)"
   ]
  },
  {
   "cell_type": "code",
   "execution_count": null,
   "metadata": {},
   "outputs": [],
   "source": [
    "\n",
    "import tools.processing as pre\n",
    "text = pre.get_text(\"data/cleaned-rap-lyrics/clean2_pac_.txt\")\n",
    "alphabet = pre.Alphabet(text)\n",
    "data, labels = alphabet.making_embedded_one_hot(text, 50)"
   ]
  },
  {
   "cell_type": "code",
   "execution_count": null,
   "metadata": {},
   "outputs": [],
   "source": [
    "data[:,1:].shape"
   ]
  },
  {
   "cell_type": "code",
   "execution_count": null,
   "metadata": {},
   "outputs": [],
   "source": [
    "alphabet.one_hot(data[0])"
   ]
  },
  {
   "cell_type": "code",
   "execution_count": null,
   "metadata": {},
   "outputs": [],
   "source": [
    "data.shape"
   ]
  },
  {
   "cell_type": "code",
   "execution_count": null,
   "metadata": {},
   "outputs": [],
   "source": [
    "print(embed)"
   ]
  },
  {
   "cell_type": "code",
   "execution_count": null,
   "metadata": {},
   "outputs": [],
   "source": []
  }
 ],
 "metadata": {
  "kernelspec": {
   "display_name": "Python 3",
   "language": "python",
   "name": "python3"
  },
  "language_info": {
   "codemirror_mode": {
    "name": "ipython",
    "version": 3
   },
   "file_extension": ".py",
   "mimetype": "text/x-python",
   "name": "python",
   "nbconvert_exporter": "python",
   "pygments_lexer": "ipython3",
   "version": "3.7.2"
  }
 },
 "nbformat": 4,
 "nbformat_minor": 2
}
