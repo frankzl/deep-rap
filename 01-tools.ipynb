{
 "cells": [
  {
   "cell_type": "code",
   "execution_count": 1,
   "metadata": {},
   "outputs": [],
   "source": [
    "import tools.processing as pre\n",
    "import tools.architectures as nn"
   ]
  },
  {
   "cell_type": "code",
   "execution_count": 2,
   "metadata": {},
   "outputs": [],
   "source": [
    "text = pre.get_text(\"data/cleaned-rap-lyrics/clean2_pac_.txt\")"
   ]
  },
  {
   "cell_type": "code",
   "execution_count": 3,
   "metadata": {},
   "outputs": [
    {
     "data": {
      "text/plain": [
       "\"as real as it seems the american dream\\nain't nothing but another calculated schemes\\nto get us locked\""
      ]
     },
     "execution_count": 3,
     "metadata": {},
     "output_type": "execute_result"
    }
   ],
   "source": [
    "text[:100]"
   ]
  },
  {
   "cell_type": "code",
   "execution_count": 4,
   "metadata": {},
   "outputs": [
    {
     "name": "stdout",
     "output_type": "stream",
     "text": [
      "(35, 10)\n",
      "(?, 50)\n",
      "\n",
      "\n",
      "Epoch 1/20\n",
      "Loss:    \t 3.560591697692871\n",
      "Accuracy:\t 2.6378355026245117\n",
      "Seed:as real as it seems the american dream\n",
      "ain't nothi\n",
      "Result:as real as it seems the american dream\n",
      "ain't nothit inhe 't ghe bo the gian san shon te iute the than to then the gou the than the bat tot the the t ssn the tot oug ta gau fhat min ty tan tot than at to the ge ghe wont an anhe the the then git mhe me mank ihe che ihe wou th te dher bos mhe te to sin te that id the ghe you an st san she ler sou gian the to kasn ther whe tat she sanke an bo srat toe di in gat int isule the and shen won nod at bhe sho the than ant an io tat the ther mikthan nout\n",
      "the nhan ma cit\n",
      "s'n tacn eher she ther te te the io \n",
      "\n",
      "\n",
      "Epoch 2/20\n",
      "Loss:    \t 2.5476810932159424\n",
      "Accuracy:\t 26.413393020629883\n",
      "Seed:as real as it seems the american dream\n",
      "ain't nothi\n",
      "Result:as real as it seems the american dream\n",
      "ain't nothinhe in whe min the yhat she be the pas thand the the ke ou thy sto the an a at be she sot en toas tha non thank yhes the he the cno she ind the in be foun to ge the mird me gonst a hhe me thet but in ded in in' ho kiml macky an thet wouki be bouc ag soupe youte a ghen gous the ghack ang sin hall an thet the so the an the to an the bink fet ind a the mhee tou' the be lout and tos an tathe ma le les he wacl the in toul met me in the the be mees she the the a tint an a buml the bus the thent an bou\n",
      "\n",
      "\n",
      "Epoch 3/20\n",
      "Loss:    \t 2.359868049621582\n",
      "Accuracy:\t 29.283979415893555\n",
      "Seed:as real as it seems the american dream\n",
      "ain't nothi\n",
      "Result:as real as it seems the american dream\n",
      "ain't nothind that mad nor the nas mur row the beas the ban i bus ther the metean the futhe sink the calke the deocn the buthe hin'm de here mam and yhe buthin' buaghe fathe ke the med bes a gou then hick shay'm an sas an cet pack ther a meal be bun the they bung bus thingith heack in the tou mu but the cig a a dowe\n",
      "the mey the baas whe the pathe the se the weread wigh bume ma fall she i man the fe the the bink\n",
      "at an a cack a buok he buther an the i wath ther ther ther yout the buck the gane nonga fan' the\n",
      "\n",
      "\n",
      "Epoch 4/20\n",
      "Loss:    \t 2.258972406387329\n",
      "Accuracy:\t 32.32224655151367\n",
      "Seed:as real as it seems the american dream\n",
      "ain't nothi\n",
      "Result:as real as it seems the american dream\n",
      "ain't nothin' dowe me thy sish thet wink a kand i cant gat they frows bat the casker ge tot the doup it as singin' i sonker ther kere the and hank the min' a buke the dick the busgas a don' the stoughe it heve an the nat the fean the brathe the be be they yout a gan' so the bouce i' gom me a futher is bus sans in the back the kall the ppals the the wick coung a deed i goret the cack stous in the he a ghet the the bou busg now ge buputis gheatt a bus and ond the and the in the mopin the bas mand the be the \n",
      "\n",
      "\n",
      "Epoch 5/20\n",
      "Loss:    \t 2.1741366386413574\n",
      "Accuracy:\t 35.903594970703125\n",
      "Seed:as real as it seems the american dream\n",
      "ain't nothi\n",
      "Result:as real as it seems the american dream\n",
      "ain't nothin the bust the beat' the nap i the whe puck\n",
      "i'm noige the go nowh they i'm cous\n",
      "jether in te me i mant to me the met an the the you wer a like bust it the cas the the bay he sigtt back i'm seat the geat thing they buck the the ittot the thark a ling a gan ge the fing the puther it a se the she buckt a me bree me now the bust in the was the cawt buy the sall dope a dind it a wasl the nom dong i brather i woy in a me a whack the sick and wot on the fout the sigher the fus the came me the has the t\n",
      "\n",
      "\n",
      "Epoch 6/20\n",
      "Loss:    \t 2.1045186519622803\n",
      "Accuracy:\t 37.48279571533203\n",
      "Seed:as real as it seems the american dream\n",
      "ain't nothi\n",
      "Result:as real as it seems the american dream\n",
      "ain't nothin' i get het the cear the and wing the nouch\n",
      "the me and a futhe the pither you den't in't stock and but hong mint i gay me mat me the ses a ning they cauth i stale i meas jus my donk then me she stapp the gith the the pean the bat the fith and you ge ghar a cale i'm the het they couth the reas moke sat souck now a cack the out and i gan the cuth thep\n",
      "bick is hant my back dover buther and mode her sing and i buth the a bus herling the hock and i'm thin the fever the the ther but the petin' the th\n",
      "\n",
      "\n",
      "Epoch 7/20\n",
      "Loss:    \t 2.0474331378936768\n",
      "Accuracy:\t 39.1320686340332\n",
      "Seed:as real as it seems the american dream\n",
      "ain't nothi\n",
      "Result:as real as it seems the american dream\n",
      "ain't nothing the me ling call the ghep i'm cape and the mint on the the got be the fralin the bame me they gon the seall they me backt the buck and the whong a bust i ging a but my i herther dock and i but stather hand they beat the dad you gand the pest treed my buther bat they but the sellet howt cougher sleack buck the me hante the i me the are and the but you wand and me be the seal the sore they as the sant a sall the buth the sing a dink and som the leagher whother\n",
      "of me the stat het poug the buck o\n",
      "\n",
      "\n",
      "Epoch 8/20\n",
      "Loss:    \t 1.9897348880767822\n",
      "Accuracy:\t 40.4735107421875\n",
      "Seed:as real as it seems the american dream\n",
      "ain't nothi\n",
      "Result:as real as it seems the american dream\n",
      "ain't nothin the sing the stop\n",
      "i gand the they sust to meat i drow the pack and pother a but the see nigga trange they on the calle me the dick home got a but the bing and and gomped the wank a but u bust the buth the stow ser i gas and i streat ding a the fust the sist they an the wist the me can the cout mist and bouth thet i ley must the me the sheat the an the the black and i han i be\n",
      "a prowe they ghother butt but the sean wear the stack the bred now the buttin' now that i they my bonthers\n",
      "caugh he wti\n",
      "\n",
      "\n",
      "Epoch 9/20\n",
      "Loss:    \t 1.9411687850952148\n",
      "Accuracy:\t 41.66728973388672\n"
     ]
    },
    {
     "ename": "KeyboardInterrupt",
     "evalue": "",
     "output_type": "error",
     "traceback": [
      "\u001b[0;31m---------------------------------------------------------------------------\u001b[0m",
      "\u001b[0;31mKeyboardInterrupt\u001b[0m                         Traceback (most recent call last)",
      "\u001b[0;32m<ipython-input-4-b02085019069>\u001b[0m in \u001b[0;36m<module>\u001b[0;34m\u001b[0m\n\u001b[1;32m     21\u001b[0m \u001b[0;34m\u001b[0m\u001b[0m\n\u001b[1;32m     22\u001b[0m \u001b[0;31m# rnn.train(data, labels, alphabet, epochs=EPOCHS, batch_size=BATCH_SIZE)\u001b[0m\u001b[0;34m\u001b[0m\u001b[0;34m\u001b[0m\u001b[0;34m\u001b[0m\u001b[0m\n\u001b[0;32m---> 23\u001b[0;31m \u001b[0mnn\u001b[0m\u001b[0;34m.\u001b[0m\u001b[0mtrain\u001b[0m\u001b[0;34m(\u001b[0m\u001b[0mrnn\u001b[0m\u001b[0;34m,\u001b[0m \u001b[0mdata\u001b[0m\u001b[0;34m,\u001b[0m \u001b[0mlabels\u001b[0m\u001b[0;34m,\u001b[0m \u001b[0malphabet\u001b[0m\u001b[0;34m,\u001b[0m \u001b[0mepochs\u001b[0m\u001b[0;34m=\u001b[0m\u001b[0mEPOCHS\u001b[0m\u001b[0;34m,\u001b[0m \u001b[0mbatch_size\u001b[0m\u001b[0;34m=\u001b[0m\u001b[0mBATCH_SIZE\u001b[0m\u001b[0;34m,\u001b[0m \u001b[0membedding\u001b[0m\u001b[0;34m=\u001b[0m\u001b[0;32mTrue\u001b[0m\u001b[0;34m)\u001b[0m\u001b[0;34m\u001b[0m\u001b[0;34m\u001b[0m\u001b[0m\n\u001b[0m",
      "\u001b[0;32m~/coding/deep-rap/tools/architectures.py\u001b[0m in \u001b[0;36mtrain\u001b[0;34m(trainable, train_data, train_labels, alphabet, epochs, batch_size, temperature, embedding)\u001b[0m\n\u001b[1;32m     56\u001b[0m             tr_loss, tr_acc = session.run([trainable.loss, trainable.accuracy],\n\u001b[1;32m     57\u001b[0m                                            feed_dict={trainable.X: train_data,\n\u001b[0;32m---> 58\u001b[0;31m                                                       \u001b[0mtrainable\u001b[0m\u001b[0;34m.\u001b[0m\u001b[0mY\u001b[0m\u001b[0;34m:\u001b[0m \u001b[0mtrain_labels\u001b[0m\u001b[0;34m\u001b[0m\u001b[0;34m\u001b[0m\u001b[0m\n\u001b[0m\u001b[1;32m     59\u001b[0m                                                      })\n\u001b[1;32m     60\u001b[0m             \u001b[0mtrain_losses\u001b[0m\u001b[0;34m.\u001b[0m\u001b[0mappend\u001b[0m\u001b[0;34m(\u001b[0m\u001b[0mtr_loss\u001b[0m\u001b[0;34m)\u001b[0m\u001b[0;34m\u001b[0m\u001b[0;34m\u001b[0m\u001b[0m\n",
      "\u001b[0;32m~/.envs/env36-ml/.venv/lib/python3.6/site-packages/tensorflow/python/client/session.py\u001b[0m in \u001b[0;36mrun\u001b[0;34m(self, fetches, feed_dict, options, run_metadata)\u001b[0m\n\u001b[1;32m    927\u001b[0m     \u001b[0;32mtry\u001b[0m\u001b[0;34m:\u001b[0m\u001b[0;34m\u001b[0m\u001b[0;34m\u001b[0m\u001b[0m\n\u001b[1;32m    928\u001b[0m       result = self._run(None, fetches, feed_dict, options_ptr,\n\u001b[0;32m--> 929\u001b[0;31m                          run_metadata_ptr)\n\u001b[0m\u001b[1;32m    930\u001b[0m       \u001b[0;32mif\u001b[0m \u001b[0mrun_metadata\u001b[0m\u001b[0;34m:\u001b[0m\u001b[0;34m\u001b[0m\u001b[0;34m\u001b[0m\u001b[0m\n\u001b[1;32m    931\u001b[0m         \u001b[0mproto_data\u001b[0m \u001b[0;34m=\u001b[0m \u001b[0mtf_session\u001b[0m\u001b[0;34m.\u001b[0m\u001b[0mTF_GetBuffer\u001b[0m\u001b[0;34m(\u001b[0m\u001b[0mrun_metadata_ptr\u001b[0m\u001b[0;34m)\u001b[0m\u001b[0;34m\u001b[0m\u001b[0;34m\u001b[0m\u001b[0m\n",
      "\u001b[0;32m~/.envs/env36-ml/.venv/lib/python3.6/site-packages/tensorflow/python/client/session.py\u001b[0m in \u001b[0;36m_run\u001b[0;34m(self, handle, fetches, feed_dict, options, run_metadata)\u001b[0m\n\u001b[1;32m   1150\u001b[0m     \u001b[0;32mif\u001b[0m \u001b[0mfinal_fetches\u001b[0m \u001b[0;32mor\u001b[0m \u001b[0mfinal_targets\u001b[0m \u001b[0;32mor\u001b[0m \u001b[0;34m(\u001b[0m\u001b[0mhandle\u001b[0m \u001b[0;32mand\u001b[0m \u001b[0mfeed_dict_tensor\u001b[0m\u001b[0;34m)\u001b[0m\u001b[0;34m:\u001b[0m\u001b[0;34m\u001b[0m\u001b[0;34m\u001b[0m\u001b[0m\n\u001b[1;32m   1151\u001b[0m       results = self._do_run(handle, final_targets, final_fetches,\n\u001b[0;32m-> 1152\u001b[0;31m                              feed_dict_tensor, options, run_metadata)\n\u001b[0m\u001b[1;32m   1153\u001b[0m     \u001b[0;32melse\u001b[0m\u001b[0;34m:\u001b[0m\u001b[0;34m\u001b[0m\u001b[0;34m\u001b[0m\u001b[0m\n\u001b[1;32m   1154\u001b[0m       \u001b[0mresults\u001b[0m \u001b[0;34m=\u001b[0m \u001b[0;34m[\u001b[0m\u001b[0;34m]\u001b[0m\u001b[0;34m\u001b[0m\u001b[0;34m\u001b[0m\u001b[0m\n",
      "\u001b[0;32m~/.envs/env36-ml/.venv/lib/python3.6/site-packages/tensorflow/python/client/session.py\u001b[0m in \u001b[0;36m_do_run\u001b[0;34m(self, handle, target_list, fetch_list, feed_dict, options, run_metadata)\u001b[0m\n\u001b[1;32m   1326\u001b[0m     \u001b[0;32mif\u001b[0m \u001b[0mhandle\u001b[0m \u001b[0;32mis\u001b[0m \u001b[0;32mNone\u001b[0m\u001b[0;34m:\u001b[0m\u001b[0;34m\u001b[0m\u001b[0;34m\u001b[0m\u001b[0m\n\u001b[1;32m   1327\u001b[0m       return self._do_call(_run_fn, feeds, fetches, targets, options,\n\u001b[0;32m-> 1328\u001b[0;31m                            run_metadata)\n\u001b[0m\u001b[1;32m   1329\u001b[0m     \u001b[0;32melse\u001b[0m\u001b[0;34m:\u001b[0m\u001b[0;34m\u001b[0m\u001b[0;34m\u001b[0m\u001b[0m\n\u001b[1;32m   1330\u001b[0m       \u001b[0;32mreturn\u001b[0m \u001b[0mself\u001b[0m\u001b[0;34m.\u001b[0m\u001b[0m_do_call\u001b[0m\u001b[0;34m(\u001b[0m\u001b[0m_prun_fn\u001b[0m\u001b[0;34m,\u001b[0m \u001b[0mhandle\u001b[0m\u001b[0;34m,\u001b[0m \u001b[0mfeeds\u001b[0m\u001b[0;34m,\u001b[0m \u001b[0mfetches\u001b[0m\u001b[0;34m)\u001b[0m\u001b[0;34m\u001b[0m\u001b[0;34m\u001b[0m\u001b[0m\n",
      "\u001b[0;32m~/.envs/env36-ml/.venv/lib/python3.6/site-packages/tensorflow/python/client/session.py\u001b[0m in \u001b[0;36m_do_call\u001b[0;34m(self, fn, *args)\u001b[0m\n\u001b[1;32m   1332\u001b[0m   \u001b[0;32mdef\u001b[0m \u001b[0m_do_call\u001b[0m\u001b[0;34m(\u001b[0m\u001b[0mself\u001b[0m\u001b[0;34m,\u001b[0m \u001b[0mfn\u001b[0m\u001b[0;34m,\u001b[0m \u001b[0;34m*\u001b[0m\u001b[0margs\u001b[0m\u001b[0;34m)\u001b[0m\u001b[0;34m:\u001b[0m\u001b[0;34m\u001b[0m\u001b[0;34m\u001b[0m\u001b[0m\n\u001b[1;32m   1333\u001b[0m     \u001b[0;32mtry\u001b[0m\u001b[0;34m:\u001b[0m\u001b[0;34m\u001b[0m\u001b[0;34m\u001b[0m\u001b[0m\n\u001b[0;32m-> 1334\u001b[0;31m       \u001b[0;32mreturn\u001b[0m \u001b[0mfn\u001b[0m\u001b[0;34m(\u001b[0m\u001b[0;34m*\u001b[0m\u001b[0margs\u001b[0m\u001b[0;34m)\u001b[0m\u001b[0;34m\u001b[0m\u001b[0;34m\u001b[0m\u001b[0m\n\u001b[0m\u001b[1;32m   1335\u001b[0m     \u001b[0;32mexcept\u001b[0m \u001b[0merrors\u001b[0m\u001b[0;34m.\u001b[0m\u001b[0mOpError\u001b[0m \u001b[0;32mas\u001b[0m \u001b[0me\u001b[0m\u001b[0;34m:\u001b[0m\u001b[0;34m\u001b[0m\u001b[0;34m\u001b[0m\u001b[0m\n\u001b[1;32m   1336\u001b[0m       \u001b[0mmessage\u001b[0m \u001b[0;34m=\u001b[0m \u001b[0mcompat\u001b[0m\u001b[0;34m.\u001b[0m\u001b[0mas_text\u001b[0m\u001b[0;34m(\u001b[0m\u001b[0me\u001b[0m\u001b[0;34m.\u001b[0m\u001b[0mmessage\u001b[0m\u001b[0;34m)\u001b[0m\u001b[0;34m\u001b[0m\u001b[0;34m\u001b[0m\u001b[0m\n",
      "\u001b[0;32m~/.envs/env36-ml/.venv/lib/python3.6/site-packages/tensorflow/python/client/session.py\u001b[0m in \u001b[0;36m_run_fn\u001b[0;34m(feed_dict, fetch_list, target_list, options, run_metadata)\u001b[0m\n\u001b[1;32m   1317\u001b[0m       \u001b[0mself\u001b[0m\u001b[0;34m.\u001b[0m\u001b[0m_extend_graph\u001b[0m\u001b[0;34m(\u001b[0m\u001b[0;34m)\u001b[0m\u001b[0;34m\u001b[0m\u001b[0;34m\u001b[0m\u001b[0m\n\u001b[1;32m   1318\u001b[0m       return self._call_tf_sessionrun(\n\u001b[0;32m-> 1319\u001b[0;31m           options, feed_dict, fetch_list, target_list, run_metadata)\n\u001b[0m\u001b[1;32m   1320\u001b[0m \u001b[0;34m\u001b[0m\u001b[0m\n\u001b[1;32m   1321\u001b[0m     \u001b[0;32mdef\u001b[0m \u001b[0m_prun_fn\u001b[0m\u001b[0;34m(\u001b[0m\u001b[0mhandle\u001b[0m\u001b[0;34m,\u001b[0m \u001b[0mfeed_dict\u001b[0m\u001b[0;34m,\u001b[0m \u001b[0mfetch_list\u001b[0m\u001b[0;34m)\u001b[0m\u001b[0;34m:\u001b[0m\u001b[0;34m\u001b[0m\u001b[0;34m\u001b[0m\u001b[0m\n",
      "\u001b[0;32m~/.envs/env36-ml/.venv/lib/python3.6/site-packages/tensorflow/python/client/session.py\u001b[0m in \u001b[0;36m_call_tf_sessionrun\u001b[0;34m(self, options, feed_dict, fetch_list, target_list, run_metadata)\u001b[0m\n\u001b[1;32m   1405\u001b[0m     return tf_session.TF_SessionRun_wrapper(\n\u001b[1;32m   1406\u001b[0m         \u001b[0mself\u001b[0m\u001b[0;34m.\u001b[0m\u001b[0m_session\u001b[0m\u001b[0;34m,\u001b[0m \u001b[0moptions\u001b[0m\u001b[0;34m,\u001b[0m \u001b[0mfeed_dict\u001b[0m\u001b[0;34m,\u001b[0m \u001b[0mfetch_list\u001b[0m\u001b[0;34m,\u001b[0m \u001b[0mtarget_list\u001b[0m\u001b[0;34m,\u001b[0m\u001b[0;34m\u001b[0m\u001b[0;34m\u001b[0m\u001b[0m\n\u001b[0;32m-> 1407\u001b[0;31m         run_metadata)\n\u001b[0m\u001b[1;32m   1408\u001b[0m \u001b[0;34m\u001b[0m\u001b[0m\n\u001b[1;32m   1409\u001b[0m   \u001b[0;32mdef\u001b[0m \u001b[0m_call_tf_sessionprun\u001b[0m\u001b[0;34m(\u001b[0m\u001b[0mself\u001b[0m\u001b[0;34m,\u001b[0m \u001b[0mhandle\u001b[0m\u001b[0;34m,\u001b[0m \u001b[0mfeed_dict\u001b[0m\u001b[0;34m,\u001b[0m \u001b[0mfetch_list\u001b[0m\u001b[0;34m)\u001b[0m\u001b[0;34m:\u001b[0m\u001b[0;34m\u001b[0m\u001b[0;34m\u001b[0m\u001b[0m\n",
      "\u001b[0;31mKeyboardInterrupt\u001b[0m: "
     ]
    }
   ],
   "source": [
    "alphabet = pre.Alphabet(text)\n",
    "\n",
    "HIDDEN_LAYER_SIZE = 128\n",
    "VOCAB_SIZE = alphabet.get_size()\n",
    "TIMESTEPS = 50\n",
    "\n",
    "EPOCHS = 20\n",
    "BATCH_SIZE = 128\n",
    "\n",
    "EMBEDDING_SIZE = 10\n",
    "\n",
    "\n",
    "# data, labels = alphabet.making_one_hot(text, TIMESTEPS)\n",
    "data, labels = alphabet.making_embedded_one_hot(text, TIMESTEPS)\n",
    "\n",
    "embedding = nn.LeanableEmbedding(name = \"learnable-embedding\")\n",
    "embedding.build(VOCAB_SIZE, EMBEDDING_SIZE)\n",
    "\n",
    "rnn = nn.SingleLayerRNN(name = \"basic\")\n",
    "rnn.build(HIDDEN_LAYER_SIZE, VOCAB_SIZE, TIMESTEPS, l2_reg=0.0, embedding=embedding)\n",
    "\n",
    "# rnn.train(data, labels, alphabet, epochs=EPOCHS, batch_size=BATCH_SIZE)\n",
    "nn.train(rnn, data, labels, alphabet, epochs=EPOCHS, batch_size=BATCH_SIZE, embedding=True)"
   ]
  },
  {
   "cell_type": "code",
   "execution_count": null,
   "metadata": {},
   "outputs": [],
   "source": [
    "import tensorflow as tf\n",
    "import tools.processing as pre\n",
    "import tools.architectures as nn\n",
    "\n",
    "vocabulary_size = 35\n",
    "embedding_dimension = 10\n",
    "\n",
    "_inputs = tf.placeholder(tf.int32, shape=[None, TIMESTEPS])\n",
    "\n",
    "with tf.name_scope(\"embeddings\"):\n",
    "    embeddings = tf.Variable(\n",
    "        tf.random_uniform([vocabulary_size,\n",
    "                           embedding_dimension],\n",
    "                          -1.0, 1.0), name='embedding')\n",
    "    print(embeddings.shape)\n",
    "    print(_inputs.shape)\n",
    "    embed = tf.nn.embedding_lookup(embeddings, _inputs)\n",
    "\n",
    "with tf.Session() as sess:\n",
    "    sess.run(tf.global_variables_initializer())\n",
    "    embed = sess.run(embed, feed_dict={_inputs: data})\n",
    "    \n",
    "print(embed.shape)"
   ]
  },
  {
   "cell_type": "code",
   "execution_count": null,
   "metadata": {},
   "outputs": [],
   "source": [
    "\n",
    "import tools.processing as pre\n",
    "text = pre.get_text(\"data/cleaned-rap-lyrics/clean2_pac_.txt\")\n",
    "alphabet = pre.Alphabet(text)\n",
    "data, labels = alphabet.making_embedded_one_hot(text, 50)"
   ]
  },
  {
   "cell_type": "code",
   "execution_count": null,
   "metadata": {},
   "outputs": [],
   "source": [
    "data[:,1:].shape"
   ]
  },
  {
   "cell_type": "code",
   "execution_count": null,
   "metadata": {},
   "outputs": [],
   "source": [
    "alphabet.one_hot(data[0])"
   ]
  },
  {
   "cell_type": "code",
   "execution_count": null,
   "metadata": {},
   "outputs": [],
   "source": [
    "data.shape"
   ]
  },
  {
   "cell_type": "code",
   "execution_count": null,
   "metadata": {},
   "outputs": [],
   "source": [
    "print(embed)"
   ]
  },
  {
   "cell_type": "code",
   "execution_count": null,
   "metadata": {},
   "outputs": [],
   "source": []
  }
 ],
 "metadata": {
  "kernelspec": {
   "display_name": "Python 3",
   "language": "python",
   "name": "python3"
  },
  "language_info": {
   "codemirror_mode": {
    "name": "ipython",
    "version": 3
   },
   "file_extension": ".py",
   "mimetype": "text/x-python",
   "name": "python",
   "nbconvert_exporter": "python",
   "pygments_lexer": "ipython3",
   "version": "3.6.7"
  }
 },
 "nbformat": 4,
 "nbformat_minor": 2
}
