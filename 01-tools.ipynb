{
 "cells": [
  {
   "cell_type": "code",
   "execution_count": 6,
   "metadata": {},
   "outputs": [],
   "source": [
    "import tools.processing as pre\n",
    "import tools.architectures as nn"
   ]
  },
  {
   "cell_type": "code",
   "execution_count": 7,
   "metadata": {},
   "outputs": [],
   "source": [
    "text = pre.get_text(\"data/cleaned-rap-lyrics/clean2_pac_.txt\")"
   ]
  },
  {
   "cell_type": "code",
   "execution_count": 9,
   "metadata": {},
   "outputs": [
    {
     "data": {
      "text/plain": [
       "\"as real as it seems the american dream\\nain't nothing but another calculated schemes\\nto get us locked\""
      ]
     },
     "execution_count": 9,
     "metadata": {},
     "output_type": "execute_result"
    }
   ],
   "source": [
    "text[:100]"
   ]
  },
  {
   "cell_type": "code",
   "execution_count": 4,
   "metadata": {},
   "outputs": [
    {
     "name": "stdout",
     "output_type": "stream",
     "text": [
      "\n",
      "\n",
      "Epoch 1/20\n",
      "Loss:    \t 3.43237042427063\n",
      "Accuracy:\t 1.1122249364852905\n",
      "Seed:as real as it seems the american dream\n",
      "ain't nothi\n",
      "Result:as real as it seems the american dream\n",
      "ain't nothio toot y ineee ubu  h   lee o e  l   tir  eteie y u w y    e s    ui  l  uoh  te\n",
      " e t ey  euit w eo e   ae   ueenoe si weu eo re e   l  obrt t  h  a  o pa  lt   r  s y  ei l a  a  ono t  s  u i e'    y    o     s  e el   t lo nteye e ln e ieins  b    r     r  na ta nrcinat  eyet e   r  o y      nte  dc   s d  yo  bo aa s   ti ad e rt      to r eo   ya eu  t   a  yd  eh ie  t iae    e ott   ey  s e ooe  nun  u e r  e  tn ht   otehm   uioe  oar t  e   a it  t e   esot es u  eoe  yea\n",
      "  e  t    uir \n",
      "\n",
      "\n",
      "Epoch 2/20\n",
      "Loss:    \t 2.9421982765197754\n",
      "Accuracy:\t 17.848106384277344\n",
      "Seed:as real as it seems the american dream\n",
      "ain't nothi\n",
      "Result:as real as it seems the american dream\n",
      "ain't nothi  ohi  aid e ne  hea oy a e  to e  e e e thn aii u o o o mo uyt l\n",
      "ta a e i yoty i ae e  o a or mu oo   mo  rae t eo  oui h ia  oo e te u lue l u  u lt sht ao  heo c ee  ee he on soy lon  lil th pe a oe soa  elce os taot c aoy es e t nht toeer tet  o o to oi  e o i ee ee  ee ey p aa  aong  aenn el \n",
      "oa\n",
      " twotoe aed wone  na ia oi o n th of \n",
      "ue  oh te aw ocr  oon  he af so ye a  oo o u g bh ye t yott he ute  oo v wa t w  an  ha ie   i  oe nato ls a ao  ou't uu oh ur e yttoi  i  no san  easo ytre aii\n",
      "\n",
      "\n",
      "Epoch 3/20\n",
      "Loss:    \t 2.793668746948242\n",
      "Accuracy:\t 20.79335594177246\n",
      "Seed:as real as it seems the american dream\n",
      "ain't nothi\n",
      "Result:as real as it seems the american dream\n",
      "ain't nothin soys oat iy  hore roo  otin ioe teu aat e uat ye me on yhan  roy  ocicir the sou yit a leo  oh uo ie \n",
      "oract uan  he  oer dees sot in  oos ao oor ses lhasr fon ir ye pes au eot aa tan goel sat tou the owe oo to o o a i oo son wey baa iic iot iic ot saol tok hhe lon in he io tou iul an  nou wen irrin ros me mat iat e rhot ho is me  oe soc tout  ios  yoy ne io te thel oe an bou ien thin\n",
      "tho taur ai t if fo ua oa iu tot koud to une ale lot toe ton he shhe tha yere sot fo oe 'tin co tos ite iil the\n",
      "\n",
      "\n",
      "Epoch 4/20\n",
      "Loss:    \t 2.5992515087127686\n",
      "Accuracy:\t 25.824621200561523\n",
      "Seed:as real as it seems the american dream\n",
      "ain't nothi\n",
      "Result:as real as it seems the american dream\n",
      "ain't nothind moe it the leri sin a\n",
      "de atar  ove wou hant won wout ie tou aas oe taut in tor hit i me aot tou soy thin atire dee mor toa e yar wou ton ah wan\n",
      "sate te coe wou ir ar lei me it fout is sou an sithe tot iid lhet un\n",
      "ylo tor iu the woy mo reat ios iy dou in te ton in aud roe tou too the ian\n",
      "mo 'o hore me the toar in son tou te yes waare hhu ss ir ther at and ro te maso ina ine sol toc un wyou tou yir ma e sis tor me ia hou you the ne in here bo seot io sor teon oily wari me ae her you tin eit in \n",
      "\n",
      "\n",
      "Epoch 5/20\n",
      "Loss:    \t 2.4762372970581055\n",
      "Accuracy:\t 28.12067222595215\n",
      "Seed:as real as it seems the american dream\n",
      "ain't nothi\n",
      "Result:as real as it seems the american dream\n",
      "ain't nothin me dove so he 't in tou i in t ous lou se me than an the in i hor bol te fote in son tat to the te son tou int the me the wind me cere te ure you sanae ine ere to me wew ar min sacly u me tou bat ind dou fhe s wo gar an sis in ous the tis in you land the se io  in paan the it it tan\n",
      "gon in stin whot you rot iod ou ther the the the tor and the the bo thers the'd cou  in dyee raun  in in the son ead thos ins hony tou in srir the the t eon in ran char toa tis hor the you dot wou dor in te an wou \n",
      "\n",
      "\n",
      "Epoch 6/20\n",
      "Loss:    \t 2.4051449298858643\n",
      "Accuracy:\t 29.867774963378906\n",
      "Seed:as real as it seems the american dream\n",
      "ain't nothi\n",
      "Result:as real as it seems the american dream\n",
      "ain't nothin' s an son in ton p the the se in to s wor cars the wourin' in whin un in'he an bore the s at you stor me in the tor muw you s an the y an e \n",
      "ou the cou le me me youd\n",
      "yin the the the wit on the the you mif cou in in me the you w but the the bem sy un\n",
      "wole woo sinn the dhe te me me yound mo as the me the ot sor in in thin dou s an this se sou stha foos you won sot in  her to s ind the a cou kou ste be stor cout in  in an in so sand or wo mor in the yow i the be cou at an the see to der wher bo w\n",
      "\n",
      "\n",
      "Epoch 7/20\n",
      "Loss:    \t 2.3580474853515625\n",
      "Accuracy:\t 30.47400665283203\n",
      "Seed:as real as it seems the american dream\n",
      "ain't nothi\n",
      "Result:as real as it seems the american dream\n",
      "ain't nothit \n",
      "ar be me the the\n",
      "pepe the s bile cou the bor al in wot le at i s oude an th whe he an the the dind tom sope ald you mo i four me me my the lin' cou si the hou dor the buy bise an you the won in i the i you we but the coul hin i me whet an mr ar ho me in wed the tou ir sa tow that in it te and at so the the the tha s an il sat a bo d in the fe wan' an to slee s an you an sith ne cor the the bot you ho stou mo the me the ge s in do the the the seo house lot you think in ar ne the thit me so you\n",
      "\n",
      "\n",
      "Epoch 8/20\n",
      "Loss:    \t 2.3154056072235107\n",
      "Accuracy:\t 31.24254035949707\n",
      "Seed:as real as it seems the american dream\n",
      "ain't nothi\n",
      "Result:as real as it seems the american dream\n",
      "ain't nothins you se you in' s ber me in i' you s hame a mut dou the the the byau\n",
      "ind the we the heas se weand he fath s you e wif the ar at in the gind her wor har in to sis so vere wor you the an the lathe won the the me the no the lle the cas the to ther ml syoute so weat ne lot but bus she caund the it you toy so me panl inl the werld 'n wome it ind the the sreas in so you s cart wirt in to ind the the the the the the lut so me in yive sinl\n",
      "so se you hou s an the it the at bum in s aw the tho lere go g\n",
      "\n",
      "\n",
      "Epoch 9/20\n",
      "Loss:    \t 2.276217460632324\n",
      "Accuracy:\t 32.159053802490234\n"
     ]
    },
    {
     "ename": "KeyboardInterrupt",
     "evalue": "",
     "output_type": "error",
     "traceback": [
      "\u001b[0;31m---------------------------------------------------------------------------\u001b[0m",
      "\u001b[0;31mKeyboardInterrupt\u001b[0m                         Traceback (most recent call last)",
      "\u001b[0;32m<ipython-input-4-5ecd53ac378d>\u001b[0m in \u001b[0;36m<module>\u001b[0;34m\u001b[0m\n\u001b[1;32m     15\u001b[0m \u001b[0mrnn\u001b[0m\u001b[0;34m.\u001b[0m\u001b[0mbuild\u001b[0m\u001b[0;34m(\u001b[0m\u001b[0mHIDDEN_LAYER_SIZE\u001b[0m\u001b[0;34m,\u001b[0m \u001b[0mVOCAB_SIZE\u001b[0m\u001b[0;34m,\u001b[0m \u001b[0mTIMESTEPS\u001b[0m\u001b[0;34m,\u001b[0m \u001b[0ml2_reg\u001b[0m\u001b[0;34m=\u001b[0m\u001b[0;36m0.0\u001b[0m\u001b[0;34m)\u001b[0m\u001b[0;34m\u001b[0m\u001b[0;34m\u001b[0m\u001b[0m\n\u001b[1;32m     16\u001b[0m \u001b[0;34m\u001b[0m\u001b[0m\n\u001b[0;32m---> 17\u001b[0;31m \u001b[0mrnn\u001b[0m\u001b[0;34m.\u001b[0m\u001b[0mtrain\u001b[0m\u001b[0;34m(\u001b[0m\u001b[0mdata\u001b[0m\u001b[0;34m,\u001b[0m \u001b[0mlabels\u001b[0m\u001b[0;34m,\u001b[0m \u001b[0malphabet\u001b[0m\u001b[0;34m,\u001b[0m \u001b[0mepochs\u001b[0m\u001b[0;34m=\u001b[0m\u001b[0mEPOCHS\u001b[0m\u001b[0;34m,\u001b[0m \u001b[0mbatch_size\u001b[0m\u001b[0;34m=\u001b[0m\u001b[0mBATCH_SIZE\u001b[0m\u001b[0;34m)\u001b[0m\u001b[0;34m\u001b[0m\u001b[0;34m\u001b[0m\u001b[0m\n\u001b[0m",
      "\u001b[0;32m~/coding/deep-rap/tools/architectures.py\u001b[0m in \u001b[0;36mtrain\u001b[0;34m(self, train_data, train_labels, alphabet, epochs, batch_size)\u001b[0m\n\u001b[1;32m    107\u001b[0m                                    feed_dict={\n\u001b[1;32m    108\u001b[0m                                        \u001b[0mself\u001b[0m\u001b[0;34m.\u001b[0m\u001b[0mX\u001b[0m\u001b[0;34m:\u001b[0m \u001b[0mtrain_data\u001b[0m\u001b[0;34m[\u001b[0m\u001b[0mbatch_ixs\u001b[0m\u001b[0;34m]\u001b[0m\u001b[0;34m,\u001b[0m\u001b[0;34m\u001b[0m\u001b[0;34m\u001b[0m\u001b[0m\n\u001b[0;32m--> 109\u001b[0;31m                                        \u001b[0mself\u001b[0m\u001b[0;34m.\u001b[0m\u001b[0mY\u001b[0m\u001b[0;34m:\u001b[0m \u001b[0mtrain_labels\u001b[0m\u001b[0;34m[\u001b[0m\u001b[0mbatch_ixs\u001b[0m\u001b[0;34m]\u001b[0m\u001b[0;34m,\u001b[0m\u001b[0;34m\u001b[0m\u001b[0;34m\u001b[0m\u001b[0m\n\u001b[0m\u001b[1;32m    110\u001b[0m                                    })\n\u001b[1;32m    111\u001b[0m                 tr_loss, tr_acc = session.run([self.loss, self.accuracy],\n",
      "\u001b[0;32m~/.envs/env36-ml/.venv/lib/python3.6/site-packages/tensorflow/python/client/session.py\u001b[0m in \u001b[0;36mrun\u001b[0;34m(self, fetches, feed_dict, options, run_metadata)\u001b[0m\n\u001b[1;32m    927\u001b[0m     \u001b[0;32mtry\u001b[0m\u001b[0;34m:\u001b[0m\u001b[0;34m\u001b[0m\u001b[0;34m\u001b[0m\u001b[0m\n\u001b[1;32m    928\u001b[0m       result = self._run(None, fetches, feed_dict, options_ptr,\n\u001b[0;32m--> 929\u001b[0;31m                          run_metadata_ptr)\n\u001b[0m\u001b[1;32m    930\u001b[0m       \u001b[0;32mif\u001b[0m \u001b[0mrun_metadata\u001b[0m\u001b[0;34m:\u001b[0m\u001b[0;34m\u001b[0m\u001b[0;34m\u001b[0m\u001b[0m\n\u001b[1;32m    931\u001b[0m         \u001b[0mproto_data\u001b[0m \u001b[0;34m=\u001b[0m \u001b[0mtf_session\u001b[0m\u001b[0;34m.\u001b[0m\u001b[0mTF_GetBuffer\u001b[0m\u001b[0;34m(\u001b[0m\u001b[0mrun_metadata_ptr\u001b[0m\u001b[0;34m)\u001b[0m\u001b[0;34m\u001b[0m\u001b[0;34m\u001b[0m\u001b[0m\n",
      "\u001b[0;32m~/.envs/env36-ml/.venv/lib/python3.6/site-packages/tensorflow/python/client/session.py\u001b[0m in \u001b[0;36m_run\u001b[0;34m(self, handle, fetches, feed_dict, options, run_metadata)\u001b[0m\n\u001b[1;32m   1150\u001b[0m     \u001b[0;32mif\u001b[0m \u001b[0mfinal_fetches\u001b[0m \u001b[0;32mor\u001b[0m \u001b[0mfinal_targets\u001b[0m \u001b[0;32mor\u001b[0m \u001b[0;34m(\u001b[0m\u001b[0mhandle\u001b[0m \u001b[0;32mand\u001b[0m \u001b[0mfeed_dict_tensor\u001b[0m\u001b[0;34m)\u001b[0m\u001b[0;34m:\u001b[0m\u001b[0;34m\u001b[0m\u001b[0;34m\u001b[0m\u001b[0m\n\u001b[1;32m   1151\u001b[0m       results = self._do_run(handle, final_targets, final_fetches,\n\u001b[0;32m-> 1152\u001b[0;31m                              feed_dict_tensor, options, run_metadata)\n\u001b[0m\u001b[1;32m   1153\u001b[0m     \u001b[0;32melse\u001b[0m\u001b[0;34m:\u001b[0m\u001b[0;34m\u001b[0m\u001b[0;34m\u001b[0m\u001b[0m\n\u001b[1;32m   1154\u001b[0m       \u001b[0mresults\u001b[0m \u001b[0;34m=\u001b[0m \u001b[0;34m[\u001b[0m\u001b[0;34m]\u001b[0m\u001b[0;34m\u001b[0m\u001b[0;34m\u001b[0m\u001b[0m\n",
      "\u001b[0;32m~/.envs/env36-ml/.venv/lib/python3.6/site-packages/tensorflow/python/client/session.py\u001b[0m in \u001b[0;36m_do_run\u001b[0;34m(self, handle, target_list, fetch_list, feed_dict, options, run_metadata)\u001b[0m\n\u001b[1;32m   1326\u001b[0m     \u001b[0;32mif\u001b[0m \u001b[0mhandle\u001b[0m \u001b[0;32mis\u001b[0m \u001b[0;32mNone\u001b[0m\u001b[0;34m:\u001b[0m\u001b[0;34m\u001b[0m\u001b[0;34m\u001b[0m\u001b[0m\n\u001b[1;32m   1327\u001b[0m       return self._do_call(_run_fn, feeds, fetches, targets, options,\n\u001b[0;32m-> 1328\u001b[0;31m                            run_metadata)\n\u001b[0m\u001b[1;32m   1329\u001b[0m     \u001b[0;32melse\u001b[0m\u001b[0;34m:\u001b[0m\u001b[0;34m\u001b[0m\u001b[0;34m\u001b[0m\u001b[0m\n\u001b[1;32m   1330\u001b[0m       \u001b[0;32mreturn\u001b[0m \u001b[0mself\u001b[0m\u001b[0;34m.\u001b[0m\u001b[0m_do_call\u001b[0m\u001b[0;34m(\u001b[0m\u001b[0m_prun_fn\u001b[0m\u001b[0;34m,\u001b[0m \u001b[0mhandle\u001b[0m\u001b[0;34m,\u001b[0m \u001b[0mfeeds\u001b[0m\u001b[0;34m,\u001b[0m \u001b[0mfetches\u001b[0m\u001b[0;34m)\u001b[0m\u001b[0;34m\u001b[0m\u001b[0;34m\u001b[0m\u001b[0m\n",
      "\u001b[0;32m~/.envs/env36-ml/.venv/lib/python3.6/site-packages/tensorflow/python/client/session.py\u001b[0m in \u001b[0;36m_do_call\u001b[0;34m(self, fn, *args)\u001b[0m\n\u001b[1;32m   1332\u001b[0m   \u001b[0;32mdef\u001b[0m \u001b[0m_do_call\u001b[0m\u001b[0;34m(\u001b[0m\u001b[0mself\u001b[0m\u001b[0;34m,\u001b[0m \u001b[0mfn\u001b[0m\u001b[0;34m,\u001b[0m \u001b[0;34m*\u001b[0m\u001b[0margs\u001b[0m\u001b[0;34m)\u001b[0m\u001b[0;34m:\u001b[0m\u001b[0;34m\u001b[0m\u001b[0;34m\u001b[0m\u001b[0m\n\u001b[1;32m   1333\u001b[0m     \u001b[0;32mtry\u001b[0m\u001b[0;34m:\u001b[0m\u001b[0;34m\u001b[0m\u001b[0;34m\u001b[0m\u001b[0m\n\u001b[0;32m-> 1334\u001b[0;31m       \u001b[0;32mreturn\u001b[0m \u001b[0mfn\u001b[0m\u001b[0;34m(\u001b[0m\u001b[0;34m*\u001b[0m\u001b[0margs\u001b[0m\u001b[0;34m)\u001b[0m\u001b[0;34m\u001b[0m\u001b[0;34m\u001b[0m\u001b[0m\n\u001b[0m\u001b[1;32m   1335\u001b[0m     \u001b[0;32mexcept\u001b[0m \u001b[0merrors\u001b[0m\u001b[0;34m.\u001b[0m\u001b[0mOpError\u001b[0m \u001b[0;32mas\u001b[0m \u001b[0me\u001b[0m\u001b[0;34m:\u001b[0m\u001b[0;34m\u001b[0m\u001b[0;34m\u001b[0m\u001b[0m\n\u001b[1;32m   1336\u001b[0m       \u001b[0mmessage\u001b[0m \u001b[0;34m=\u001b[0m \u001b[0mcompat\u001b[0m\u001b[0;34m.\u001b[0m\u001b[0mas_text\u001b[0m\u001b[0;34m(\u001b[0m\u001b[0me\u001b[0m\u001b[0;34m.\u001b[0m\u001b[0mmessage\u001b[0m\u001b[0;34m)\u001b[0m\u001b[0;34m\u001b[0m\u001b[0;34m\u001b[0m\u001b[0m\n",
      "\u001b[0;32m~/.envs/env36-ml/.venv/lib/python3.6/site-packages/tensorflow/python/client/session.py\u001b[0m in \u001b[0;36m_run_fn\u001b[0;34m(feed_dict, fetch_list, target_list, options, run_metadata)\u001b[0m\n\u001b[1;32m   1317\u001b[0m       \u001b[0mself\u001b[0m\u001b[0;34m.\u001b[0m\u001b[0m_extend_graph\u001b[0m\u001b[0;34m(\u001b[0m\u001b[0;34m)\u001b[0m\u001b[0;34m\u001b[0m\u001b[0;34m\u001b[0m\u001b[0m\n\u001b[1;32m   1318\u001b[0m       return self._call_tf_sessionrun(\n\u001b[0;32m-> 1319\u001b[0;31m           options, feed_dict, fetch_list, target_list, run_metadata)\n\u001b[0m\u001b[1;32m   1320\u001b[0m \u001b[0;34m\u001b[0m\u001b[0m\n\u001b[1;32m   1321\u001b[0m     \u001b[0;32mdef\u001b[0m \u001b[0m_prun_fn\u001b[0m\u001b[0;34m(\u001b[0m\u001b[0mhandle\u001b[0m\u001b[0;34m,\u001b[0m \u001b[0mfeed_dict\u001b[0m\u001b[0;34m,\u001b[0m \u001b[0mfetch_list\u001b[0m\u001b[0;34m)\u001b[0m\u001b[0;34m:\u001b[0m\u001b[0;34m\u001b[0m\u001b[0;34m\u001b[0m\u001b[0m\n",
      "\u001b[0;32m~/.envs/env36-ml/.venv/lib/python3.6/site-packages/tensorflow/python/client/session.py\u001b[0m in \u001b[0;36m_call_tf_sessionrun\u001b[0;34m(self, options, feed_dict, fetch_list, target_list, run_metadata)\u001b[0m\n\u001b[1;32m   1405\u001b[0m     return tf_session.TF_SessionRun_wrapper(\n\u001b[1;32m   1406\u001b[0m         \u001b[0mself\u001b[0m\u001b[0;34m.\u001b[0m\u001b[0m_session\u001b[0m\u001b[0;34m,\u001b[0m \u001b[0moptions\u001b[0m\u001b[0;34m,\u001b[0m \u001b[0mfeed_dict\u001b[0m\u001b[0;34m,\u001b[0m \u001b[0mfetch_list\u001b[0m\u001b[0;34m,\u001b[0m \u001b[0mtarget_list\u001b[0m\u001b[0;34m,\u001b[0m\u001b[0;34m\u001b[0m\u001b[0;34m\u001b[0m\u001b[0m\n\u001b[0;32m-> 1407\u001b[0;31m         run_metadata)\n\u001b[0m\u001b[1;32m   1408\u001b[0m \u001b[0;34m\u001b[0m\u001b[0m\n\u001b[1;32m   1409\u001b[0m   \u001b[0;32mdef\u001b[0m \u001b[0m_call_tf_sessionprun\u001b[0m\u001b[0;34m(\u001b[0m\u001b[0mself\u001b[0m\u001b[0;34m,\u001b[0m \u001b[0mhandle\u001b[0m\u001b[0;34m,\u001b[0m \u001b[0mfeed_dict\u001b[0m\u001b[0;34m,\u001b[0m \u001b[0mfetch_list\u001b[0m\u001b[0;34m)\u001b[0m\u001b[0;34m:\u001b[0m\u001b[0;34m\u001b[0m\u001b[0;34m\u001b[0m\u001b[0m\n",
      "\u001b[0;31mKeyboardInterrupt\u001b[0m: "
     ]
    }
   ],
   "source": [
    "alphabet = pre.Alphabet(text)\n",
    "\n",
    "HIDDEN_LAYER_SIZE = 128\n",
    "VOCAB_SIZE = alphabet.get_size()\n",
    "TIMESTEPS = 50\n",
    "\n",
    "EPOCHS = 20\n",
    "BATCH_SIZE = 128\n",
    "\n",
    "\n",
    "data, labels = alphabet.making_one_hot(text, TIMESTEPS)\n",
    "\n",
    "\n",
    "rnn = nn.SingleLayerRNN(name = \"basic\")\n",
    "rnn.build(HIDDEN_LAYER_SIZE, VOCAB_SIZE, TIMESTEPS, l2_reg=0.0)\n",
    "\n",
    "rnn.train(data, labels, alphabet, epochs=EPOCHS, batch_size=BATCH_SIZE)"
   ]
  },
  {
   "cell_type": "code",
   "execution_count": null,
   "metadata": {},
   "outputs": [],
   "source": []
  }
 ],
 "metadata": {
  "kernelspec": {
   "display_name": "Python 3",
   "language": "python",
   "name": "python3"
  },
  "language_info": {
   "codemirror_mode": {
    "name": "ipython",
    "version": 3
   },
   "file_extension": ".py",
   "mimetype": "text/x-python",
   "name": "python",
   "nbconvert_exporter": "python",
   "pygments_lexer": "ipython3",
   "version": "3.6.7"
  }
 },
 "nbformat": 4,
 "nbformat_minor": 2
}
